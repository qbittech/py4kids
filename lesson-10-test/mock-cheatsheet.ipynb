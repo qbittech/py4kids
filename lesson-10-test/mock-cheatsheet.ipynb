{
 "cells": [
  {
   "cell_type": "markdown",
   "metadata": {},
   "source": [
    "https://medium.com/@yeraydiazdiaz/what-the-mock-cheatsheet-mocking-in-python-6a71db997832"
   ]
  },
  {
   "cell_type": "code",
   "execution_count": 1,
   "metadata": {},
   "outputs": [],
   "source": [
    "from unittest import mock\n",
    "\n",
    "m = mock.Mock()\n",
    "assert isinstance(m.foo, mock.Mock)\n",
    "assert isinstance(m.bar, mock.Mock)\n",
    "assert isinstance(m(), mock.Mock)\n",
    "assert m.foo is not m.bar is not m()"
   ]
  },
  {
   "cell_type": "code",
   "execution_count": 2,
   "metadata": {},
   "outputs": [],
   "source": [
    "m.foo = 'bar'\n",
    "assert m.foo == 'bar'\n",
    "\n",
    "m.configure_mock(bar='baz')\n",
    "assert m.bar == 'baz'"
   ]
  },
  {
   "cell_type": "code",
   "execution_count": 3,
   "metadata": {},
   "outputs": [],
   "source": [
    "m.return_value = 42\n",
    "assert m() == 42\n",
    "\n",
    "m.side_effect = ['foo', 'bar', 'baz']\n",
    "assert m() == 'foo'\n",
    "assert m() == 'bar'\n",
    "assert m() == 'baz'\n",
    "try:\n",
    "    m()\n",
    "except StopIteration:\n",
    "    assert True\n",
    "else:\n",
    "    assert False\n",
    "\n",
    "m.side_effect = RuntimeError('Boom')\n",
    "try:\n",
    "    m()\n",
    "except RuntimeError:\n",
    "    assert True\n",
    "else:\n",
    "    assert False"
   ]
  },
  {
   "cell_type": "code",
   "execution_count": 5,
   "metadata": {},
   "outputs": [
    {
     "name": "stdout",
     "output_type": "stream",
     "text": [
      "True\n"
     ]
    }
   ],
   "source": [
    "m.assert_called()\n",
    "try:\n",
    "    m.assert_called_once()\n",
    "except AssertionError:\n",
    "    assert True\n",
    "    print(\"True\")\n",
    "else:\n",
    "    assert False\n",
    "    print(\"False\")    "
   ]
  },
  {
   "cell_type": "code",
   "execution_count": 10,
   "metadata": {},
   "outputs": [
    {
     "name": "stdout",
     "output_type": "stream",
     "text": [
      "call_count = 8\n"
     ]
    }
   ],
   "source": [
    "m.assert_called()\n",
    "m.assert_called()\n",
    "print(f\"call_count = {m.call_count}\")\n"
   ]
  },
  {
   "cell_type": "code",
   "execution_count": 11,
   "metadata": {},
   "outputs": [],
   "source": [
    "try:\n",
    "    m(1, foo='bar')\n",
    "except RuntimeError:\n",
    "    assert True\n",
    "else:\n",
    "    assert False\n",
    "assert m.call_args == mock.call(1, foo='bar')\n",
    "assert len(m.call_args_list) > 1\n",
    "\n",
    "m.reset_mock()\n",
    "assert m.call_args is None"
   ]
  },
  {
   "cell_type": "code",
   "execution_count": null,
   "metadata": {},
   "outputs": [],
   "source": []
  }
 ],
 "metadata": {
  "kernelspec": {
   "display_name": "Python 3",
   "language": "python",
   "name": "python3"
  },
  "language_info": {
   "codemirror_mode": {
    "name": "ipython",
    "version": 3
   },
   "file_extension": ".py",
   "mimetype": "text/x-python",
   "name": "python",
   "nbconvert_exporter": "python",
   "pygments_lexer": "ipython3",
   "version": "3.7.6"
  }
 },
 "nbformat": 4,
 "nbformat_minor": 4
}
