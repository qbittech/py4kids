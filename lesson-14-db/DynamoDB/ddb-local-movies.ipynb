{
 "cells": [
  {
   "cell_type": "markdown",
   "metadata": {},
   "source": [
    "[Getting Started Developing with Python and DynamoDB](https://docs.aws.amazon.com/amazondynamodb/latest/developerguide/GettingStarted.Python.html)\n",
    "\n",
    "\n",
    "- start  Local DynamoDB\n",
    "\n",
    "```\n",
    "$ cat start_dynamodb \n",
    "java -Djava.library.path=~/projects/aws-cert/dynamodb/DynamoDBLocal_lib -jar ~/projects/aws-cert/dynamodb/DynamoDBLocal.jar -sharedDb\n",
    "\n",
    "export DYNAMO_ENDPOINT=\"http://localhost:8000\"\n",
    "\n",
    "```\n",
    "\n",
    "- [A GUI for Local DynamoDB— dynamodb-admin](https://medium.com/swlh/a-gui-for-local-dynamodb-dynamodb-admin-b16998323f8e)\n",
    "\n",
    "```\n",
    "$ sudo npm install -g npm\n",
    "$ dynamodb-admin\n",
    "\n",
    "dynamodb-admin listening on http://localhost:8001 \n",
    "```\n",
    "\n",
    "- Documentation\n",
    "    - https://www.fernandomc.com/posts/ten-examples-of-getting-data-from-dynamodb-with-python-and-boto3/\n"
   ]
  },
  {
   "cell_type": "code",
   "execution_count": 9,
   "metadata": {},
   "outputs": [],
   "source": [
    "from boto3.dynamodb.conditions import Key\n",
    "from botocore.exceptions import ClientError"
   ]
  },
  {
   "cell_type": "markdown",
   "metadata": {},
   "source": [
    "### [Step 1: Create a Table](https://docs.aws.amazon.com/amazondynamodb/latest/developerguide/GettingStarted.Python.01.html)\n",
    "\n"
   ]
  },
  {
   "cell_type": "code",
   "execution_count": 10,
   "metadata": {},
   "outputs": [],
   "source": [
    "DYNAMO_ENDPOINT = \"http://localhost:8000\""
   ]
  },
  {
   "cell_type": "code",
   "execution_count": 11,
   "metadata": {},
   "outputs": [],
   "source": [
    "import boto3\n",
    "# Get the service resource.\n",
    "dynamodb = boto3.resource('dynamodb', endpoint_url=DYNAMO_ENDPOINT)"
   ]
  },
  {
   "cell_type": "code",
   "execution_count": 12,
   "metadata": {},
   "outputs": [],
   "source": [
    "def create_movie_table(table_name='Movies', dynamodb=None):\n",
    "    if not dynamodb:\n",
    "        dynamodb = boto3.resource('dynamodb', endpoint_url=DYNAMO_ENDPOINT)\n",
    "        \n",
    "    try:\n",
    "        table = dynamodb.Table(table_name)\n",
    "        status = table.table_status\n",
    "    except:\n",
    "\n",
    "        # Error thrown when creating a pre-existing table\n",
    "        # ResourceInUseException: An error occurred (ResourceInUseException) when calling the CreateTable operation: \n",
    "        # Cannot create preexisting table\n",
    "        table = dynamodb.create_table(\n",
    "            TableName=table_name,\n",
    "            KeySchema=[\n",
    "                {\n",
    "                    'AttributeName': 'year',\n",
    "                    'KeyType': 'HASH'  # Partition key\n",
    "                },\n",
    "                {\n",
    "                    'AttributeName': 'title',\n",
    "                    'KeyType': 'RANGE'  # Sort key\n",
    "                }\n",
    "            ],\n",
    "            AttributeDefinitions=[\n",
    "                {\n",
    "                    'AttributeName': 'year',\n",
    "                    'AttributeType': 'N'\n",
    "                },\n",
    "                {\n",
    "                    'AttributeName': 'title',\n",
    "                    'AttributeType': 'S'\n",
    "                },\n",
    "\n",
    "            ],\n",
    "            ProvisionedThroughput={\n",
    "                'ReadCapacityUnits': 5,\n",
    "                'WriteCapacityUnits': 5\n",
    "            }\n",
    "        )\n",
    "    return table"
   ]
  },
  {
   "cell_type": "code",
   "execution_count": 13,
   "metadata": {},
   "outputs": [
    {
     "name": "stdout",
     "output_type": "stream",
     "text": [
      "Table status: ACTIVE\n"
     ]
    }
   ],
   "source": [
    "table = create_movie_table(table_name=\"Movies\", dynamodb=dynamodb)\n",
    "print(\"Table status:\", table.table_status)"
   ]
  },
  {
   "cell_type": "markdown",
   "metadata": {},
   "source": [
    "### [Step 2: Load Sample Data](https://docs.aws.amazon.com/amazondynamodb/latest/developerguide/GettingStarted.Python.02.html)"
   ]
  },
  {
   "cell_type": "code",
   "execution_count": 31,
   "metadata": {},
   "outputs": [],
   "source": [
    "from decimal import Decimal\n",
    "import json\n",
    "\n",
    "def load_movies(movies, dynamodb=None):\n",
    "    if not dynamodb:\n",
    "        dynamodb = boto3.resource('dynamodb', endpoint_url=\"http://localhost:8000\")\n",
    "\n",
    "    table = dynamodb.Table('Movies')\n",
    "    with table.batch_writer() as batch:\n",
    "        for movie in movies:\n",
    "            year = int(movie['year'])\n",
    "            title = movie['title']\n",
    "            print(\"Adding movie:\", year, title)\n",
    "            batch.put_item(Item=movie)\n",
    "        \n",
    "with open(\"moviedata.json\") as json_file:\n",
    "    movie_list = json.load(json_file, parse_float=Decimal)\n",
    "load_movies(movie_list)"
   ]
  },
  {
   "cell_type": "raw",
   "metadata": {},
   "source": [
    "len(movie_list)"
   ]
  },
  {
   "cell_type": "markdown",
   "metadata": {},
   "source": [
    "### [Step 3: CRUD - Create, Read, Update, and Delete an Item](https://docs.aws.amazon.com/amazondynamodb/latest/developerguide/GettingStarted.Python.03.html)\n",
    "\n",
    "given (pk,sk), one can create/update/delete/get item for that primary_key (pk,sk)"
   ]
  },
  {
   "cell_type": "markdown",
   "metadata": {},
   "source": [
    "#### Step 3.1: Create a New Item  - put_item()"
   ]
  },
  {
   "cell_type": "code",
   "execution_count": 14,
   "metadata": {},
   "outputs": [
    {
     "name": "stdout",
     "output_type": "stream",
     "text": [
      "put_item succeeded:\n",
      "{\n",
      "    \"ResponseMetadata\": {\n",
      "        \"RequestId\": \"60f3bb40-3438-4dea-899b-0529fa157428\",\n",
      "        \"HTTPStatusCode\": 200,\n",
      "        \"HTTPHeaders\": {\n",
      "            \"content-type\": \"application/x-amz-json-1.0\",\n",
      "            \"x-amz-crc32\": \"2745614147\",\n",
      "            \"x-amzn-requestid\": \"60f3bb40-3438-4dea-899b-0529fa157428\",\n",
      "            \"content-length\": \"2\",\n",
      "            \"server\": \"Jetty(8.1.12.v20130726)\"\n",
      "        },\n",
      "        \"RetryAttempts\": 0\n",
      "    }\n",
      "}\n"
     ]
    }
   ],
   "source": [
    "from __future__ import print_function # Python 2/3 compatibility\n",
    "import boto3\n",
    "import json\n",
    "import decimal\n",
    "\n",
    "# Helper class to convert a DynamoDB item to JSON.\n",
    "class DecimalEncoder(json.JSONEncoder):\n",
    "    def default(self, o):\n",
    "        if isinstance(o, decimal.Decimal):\n",
    "            if abs(o) % 1 > 0:\n",
    "                return float(o)\n",
    "            else:\n",
    "                return int(o)\n",
    "        return super(DecimalEncoder, self).default(o)\n",
    "\n",
    "# dynamodb = boto3.resource('dynamodb', region_name='us-west-2', endpoint_url=\"http://localhost:8000\")\n",
    "\n",
    "table = dynamodb.Table('Movies')\n",
    "\n",
    "title = \"The Big New Movie\"\n",
    "year = 2015\n",
    "\n",
    "response = table.put_item(\n",
    "   Item={\n",
    "        'year': year,\n",
    "        'title': title,\n",
    "        'info': {\n",
    "            'plot':\"Nothing happens at all.\",\n",
    "            'rating': decimal.Decimal(0)\n",
    "        }\n",
    "    }\n",
    ")\n",
    "\n",
    "print(\"put_item succeeded:\")\n",
    "print(json.dumps(response, indent=4, cls=DecimalEncoder))\n"
   ]
  },
  {
   "cell_type": "markdown",
   "metadata": {},
   "source": [
    "creating the same New Item will not cause duplicate"
   ]
  },
  {
   "cell_type": "code",
   "execution_count": 17,
   "metadata": {},
   "outputs": [
    {
     "name": "stdout",
     "output_type": "stream",
     "text": [
      "put_item succeeded:\n",
      "{\n",
      "    \"ResponseMetadata\": {\n",
      "        \"RequestId\": \"94fc1100-6783-41ca-89d4-ec62da03c45a\",\n",
      "        \"HTTPStatusCode\": 200,\n",
      "        \"HTTPHeaders\": {\n",
      "            \"content-type\": \"application/x-amz-json-1.0\",\n",
      "            \"x-amz-crc32\": \"2745614147\",\n",
      "            \"x-amzn-requestid\": \"94fc1100-6783-41ca-89d4-ec62da03c45a\",\n",
      "            \"content-length\": \"2\",\n",
      "            \"server\": \"Jetty(8.1.12.v20130726)\"\n",
      "        },\n",
      "        \"RetryAttempts\": 0\n",
      "    }\n",
      "}\n"
     ]
    }
   ],
   "source": [
    "from __future__ import print_function # Python 2/3 compatibility\n",
    "import boto3\n",
    "import json\n",
    "import decimal\n",
    "\n",
    "# Helper class to convert a DynamoDB item to JSON.\n",
    "class DecimalEncoder(json.JSONEncoder):\n",
    "    def default(self, o):\n",
    "        if isinstance(o, decimal.Decimal):\n",
    "            if abs(o) % 1 > 0:\n",
    "                return float(o)\n",
    "            else:\n",
    "                return int(o)\n",
    "        return super(DecimalEncoder, self).default(o)\n",
    "\n",
    "# dynamodb = boto3.resource('dynamodb', region_name='us-west-2', endpoint_url=\"http://localhost:8000\")\n",
    "\n",
    "table = dynamodb.Table('Movies')\n",
    "\n",
    "title = \"The Big New Movie\"\n",
    "year = 2015\n",
    "\n",
    "response = table.put_item(\n",
    "   Item={\n",
    "        'year': year,\n",
    "        'title': title,\n",
    "        'info': {\n",
    "            'plot':\"Nothing happens at all.\",\n",
    "            'rating': decimal.Decimal(-10)\n",
    "        }\n",
    "    }\n",
    ")\n",
    "\n",
    "print(\"put_item succeeded:\")\n",
    "print(json.dumps(response, indent=4, cls=DecimalEncoder))\n"
   ]
  },
  {
   "cell_type": "markdown",
   "metadata": {},
   "source": [
    "#### Step 3.2: Read an Item - get_item()"
   ]
  },
  {
   "cell_type": "code",
   "execution_count": 7,
   "metadata": {},
   "outputs": [],
   "source": [
    "table = dynamodb.Table('Movies')"
   ]
  },
  {
   "cell_type": "code",
   "execution_count": 8,
   "metadata": {},
   "outputs": [
    {
     "data": {
      "text/plain": [
       "dynamodb.Table(name='Movies')"
      ]
     },
     "execution_count": 8,
     "metadata": {},
     "output_type": "execute_result"
    }
   ],
   "source": [
    "table"
   ]
  },
  {
   "cell_type": "code",
   "execution_count": 6,
   "metadata": {},
   "outputs": [
    {
     "name": "stdout",
     "output_type": "stream",
     "text": [
      "Cannot do operations on a non-existent table\n"
     ]
    }
   ],
   "source": [
    "title = \"The Big New Movie\"\n",
    "year = 2015\n",
    "\n",
    "try:\n",
    "    response = table.get_item(\n",
    "        Key={\n",
    "            'year': year,\n",
    "            'title': title\n",
    "        }\n",
    "    )\n",
    "except ClientError as e:\n",
    "    print(e.response['Error']['Message'])\n",
    "else:\n",
    "    item = response['Item']\n",
    "    print(\"get_item succeeded:\")\n",
    "    print(json.dumps(item, indent=4, cls=DecimalEncoder))"
   ]
  },
  {
   "cell_type": "markdown",
   "metadata": {},
   "source": [
    "#### Step 3.3: Update an Item\n",
    "\n",
    "`put_item()`  does `update_item()`"
   ]
  },
  {
   "cell_type": "code",
   "execution_count": 19,
   "metadata": {},
   "outputs": [],
   "source": [
    "table = dynamodb.Table('Movies')\n",
    "\n",
    "title = \"The Big New Movie\"\n",
    "year = 2015\n",
    "rating = 5.5\n",
    "plot = \"Everything happens all at once.\"\n",
    "actors = [\"Larry\", \"Moe\", \"Curly\"]\n",
    "\n",
    "try:\n",
    "    response = table.update_item(\n",
    "        Key={\n",
    "            'year': year,\n",
    "            'title': title\n",
    "        },\n",
    "        UpdateExpression=\"set info.rating=:r, info.plot=:p, info.actors=:a\",\n",
    "        ExpressionAttributeValues={\n",
    "            ':r': decimal.Decimal(rating),\n",
    "            ':p': plot,\n",
    "            ':a': actors\n",
    "        },\n",
    "        ReturnValues=\"UPDATED_NEW\"\n",
    "    )\n",
    "except ClientError as e:\n",
    "    print(e.response['Error']['Message'])"
   ]
  },
  {
   "cell_type": "code",
   "execution_count": 51,
   "metadata": {},
   "outputs": [
    {
     "data": {
      "text/plain": [
       "{'Attributes': {'info': {'rating': Decimal('5.5'),\n",
       "   'actors': ['Larry', 'Moe', 'Curly'],\n",
       "   'plot': 'Everything happens all at once.'}},\n",
       " 'ResponseMetadata': {'RequestId': 'f92ce558-7075-48e7-a6e4-8a4bdb6e9bef',\n",
       "  'HTTPStatusCode': 200,\n",
       "  'HTTPHeaders': {'content-type': 'application/x-amz-json-1.0',\n",
       "   'x-amz-crc32': '2682384945',\n",
       "   'x-amzn-requestid': 'f92ce558-7075-48e7-a6e4-8a4bdb6e9bef',\n",
       "   'content-length': '156',\n",
       "   'server': 'Jetty(8.1.12.v20130726)'},\n",
       "  'RetryAttempts': 0}}"
      ]
     },
     "execution_count": 51,
     "metadata": {},
     "output_type": "execute_result"
    }
   ],
   "source": [
    "response"
   ]
  },
  {
   "cell_type": "code",
   "execution_count": 20,
   "metadata": {},
   "outputs": [
    {
     "data": {
      "text/plain": [
       "{'title': 'The Big New Movie',\n",
       " 'year': Decimal('2015'),\n",
       " 'info': {'rating': Decimal('5.5'),\n",
       "  'actors': ['Larry', 'Moe', 'Curly'],\n",
       "  'plot': 'Everything happens all at once.'}}"
      ]
     },
     "execution_count": 20,
     "metadata": {},
     "output_type": "execute_result"
    }
   ],
   "source": [
    "title = \"The Big New Movie\"\n",
    "year = 2015\n",
    "\n",
    "try:\n",
    "    response = table.get_item(\n",
    "        Key={\n",
    "            'year': year,\n",
    "            'title': title\n",
    "        }\n",
    "    )\n",
    "except ClientError as e:\n",
    "    print(e.response['Error']['Message'])\n",
    "else:\n",
    "    item = response['Item']\n",
    "    \n",
    "item"
   ]
  },
  {
   "cell_type": "markdown",
   "metadata": {},
   "source": [
    "#####  Update an Item conditionally"
   ]
  },
  {
   "cell_type": "code",
   "execution_count": 21,
   "metadata": {},
   "outputs": [],
   "source": [
    "actor_count = 2\n",
    "try:\n",
    "    response = table.update_item(\n",
    "        Key={\n",
    "            'year': year,\n",
    "            'title': title\n",
    "        },\n",
    "        UpdateExpression=\"remove info.actors[0]\",\n",
    "        ConditionExpression=\"size(info.actors) > :num\",\n",
    "        ExpressionAttributeValues={':num': actor_count},\n",
    "        ReturnValues=\"UPDATED_NEW\"\n",
    "    )\n",
    "except ClientError as e:\n",
    "    if e.response['Error']['Code'] == \"ConditionalCheckFailedException\":\n",
    "        print(e.response['Error']['Message'])\n",
    "    else:\n",
    "        raise"
   ]
  },
  {
   "cell_type": "code",
   "execution_count": 61,
   "metadata": {},
   "outputs": [],
   "source": [
    "# update successful if actor_count < 3: \"Larry\" is removed\n",
    "# The conditional request failed if actor_count >= 3"
   ]
  },
  {
   "cell_type": "code",
   "execution_count": 23,
   "metadata": {},
   "outputs": [
    {
     "data": {
      "text/plain": [
       "{'Attributes': {'info': {'rating': Decimal('5.5'),\n",
       "   'actors': ['Moe', 'Curly'],\n",
       "   'plot': 'Everything happens all at once.'}},\n",
       " 'ResponseMetadata': {'RequestId': 'a68beaf6-c8df-4e24-ae79-2078add578b9',\n",
       "  'HTTPStatusCode': 200,\n",
       "  'HTTPHeaders': {'content-type': 'application/x-amz-json-1.0',\n",
       "   'x-amz-crc32': '1320246852',\n",
       "   'x-amzn-requestid': 'a68beaf6-c8df-4e24-ae79-2078add578b9',\n",
       "   'content-length': '142',\n",
       "   'server': 'Jetty(8.1.12.v20130726)'},\n",
       "  'RetryAttempts': 0}}"
      ]
     },
     "execution_count": 23,
     "metadata": {},
     "output_type": "execute_result"
    }
   ],
   "source": [
    "response"
   ]
  },
  {
   "cell_type": "markdown",
   "metadata": {},
   "source": [
    "#### Step 3.6: Delete an Item"
   ]
  },
  {
   "cell_type": "code",
   "execution_count": 64,
   "metadata": {},
   "outputs": [],
   "source": [
    "year = 2013\n",
    "title = \"Prisoners\""
   ]
  },
  {
   "cell_type": "code",
   "execution_count": 65,
   "metadata": {},
   "outputs": [
    {
     "data": {
      "text/plain": [
       "{'title': 'Prisoners',\n",
       " 'year': Decimal('2013'),\n",
       " 'info': {'actors': ['Hugh Jackman', 'Jake Gyllenhaal', 'Viola Davis'],\n",
       "  'release_date': '2013-08-30T00:00:00Z',\n",
       "  'plot': \"When Keller Dover's daughter and her friend go missing, he takes matters into his own hands as the police pursue multiple leads and the pressure mounts. But just how far will this desperate father go to protect his family?\",\n",
       "  'genres': ['Crime', 'Drama', 'Thriller'],\n",
       "  'image_url': 'http://ia.media-imdb.com/images/M/MV5BMTg0NTIzMjQ1NV5BMl5BanBnXkFtZTcwNDc3MzM5OQ@@._V1_SX400_.jpg',\n",
       "  'directors': ['Denis Villeneuve'],\n",
       "  'rating': Decimal('8.2'),\n",
       "  'rank': Decimal('3'),\n",
       "  'running_time_secs': Decimal('9180')}}"
      ]
     },
     "execution_count": 65,
     "metadata": {},
     "output_type": "execute_result"
    }
   ],
   "source": [
    "try:\n",
    "    response = table.get_item(\n",
    "        Key={\n",
    "            'year': year,\n",
    "            'title': title\n",
    "        }\n",
    "    )\n",
    "except ClientError as e:\n",
    "    print(e.response['Error']['Message'])\n",
    "else:\n",
    "    item = response['Item']\n",
    "    \n",
    "item"
   ]
  },
  {
   "cell_type": "code",
   "execution_count": 68,
   "metadata": {},
   "outputs": [],
   "source": [
    "try:\n",
    "    response = table.delete_item(\n",
    "        Key={\n",
    "            'year': year,\n",
    "            'title': title\n",
    "        }\n",
    "    )\n",
    "except ClientError as e:\n",
    "    if e.response['Error']['Code'] == \"ConditionalCheckFailedException\":\n",
    "        print(e.response['Error']['Message'])\n",
    "    else:\n",
    "        item = response['Item']"
   ]
  },
  {
   "cell_type": "code",
   "execution_count": 69,
   "metadata": {},
   "outputs": [
    {
     "data": {
      "text/plain": [
       "{'ConsumedCapacity': {'TableName': 'Movies', 'CapacityUnits': 1.0},\n",
       " 'ResponseMetadata': {'RequestId': '1e393259-ea64-4015-a245-37f509b59b37',\n",
       "  'HTTPStatusCode': 200,\n",
       "  'HTTPHeaders': {'content-type': 'application/x-amz-json-1.0',\n",
       "   'x-amz-crc32': '2336287325',\n",
       "   'x-amzn-requestid': '1e393259-ea64-4015-a245-37f509b59b37',\n",
       "   'content-length': '63',\n",
       "   'server': 'Jetty(8.1.12.v20130726)'},\n",
       "  'RetryAttempts': 0}}"
      ]
     },
     "execution_count": 69,
     "metadata": {},
     "output_type": "execute_result"
    }
   ],
   "source": [
    "response"
   ]
  },
  {
   "cell_type": "code",
   "execution_count": 70,
   "metadata": {},
   "outputs": [
    {
     "ename": "KeyError",
     "evalue": "'Item'",
     "output_type": "error",
     "traceback": [
      "\u001b[0;31m---------------------------------------------------------------------------\u001b[0m",
      "\u001b[0;31mKeyError\u001b[0m                                  Traceback (most recent call last)",
      "\u001b[0;32m<ipython-input-70-bdbcf456cdc2>\u001b[0m in \u001b[0;36m<module>\u001b[0;34m\u001b[0m\n\u001b[1;32m      9\u001b[0m     \u001b[0mprint\u001b[0m\u001b[0;34m(\u001b[0m\u001b[0me\u001b[0m\u001b[0;34m.\u001b[0m\u001b[0mresponse\u001b[0m\u001b[0;34m[\u001b[0m\u001b[0;34m'Error'\u001b[0m\u001b[0;34m]\u001b[0m\u001b[0;34m[\u001b[0m\u001b[0;34m'Message'\u001b[0m\u001b[0;34m]\u001b[0m\u001b[0;34m)\u001b[0m\u001b[0;34m\u001b[0m\u001b[0;34m\u001b[0m\u001b[0m\n\u001b[1;32m     10\u001b[0m \u001b[0;32melse\u001b[0m\u001b[0;34m:\u001b[0m\u001b[0;34m\u001b[0m\u001b[0;34m\u001b[0m\u001b[0m\n\u001b[0;32m---> 11\u001b[0;31m     \u001b[0mitem\u001b[0m \u001b[0;34m=\u001b[0m \u001b[0mresponse\u001b[0m\u001b[0;34m[\u001b[0m\u001b[0;34m'Item'\u001b[0m\u001b[0;34m]\u001b[0m\u001b[0;34m\u001b[0m\u001b[0;34m\u001b[0m\u001b[0m\n\u001b[0m\u001b[1;32m     12\u001b[0m \u001b[0;34m\u001b[0m\u001b[0m\n\u001b[1;32m     13\u001b[0m \u001b[0mitem\u001b[0m\u001b[0;34m\u001b[0m\u001b[0;34m\u001b[0m\u001b[0m\n",
      "\u001b[0;31mKeyError\u001b[0m: 'Item'"
     ]
    }
   ],
   "source": [
    "try:\n",
    "    response = table.get_item(\n",
    "        Key={\n",
    "            'year': year,\n",
    "            'title': title\n",
    "        }\n",
    "    )\n",
    "except ClientError as e:\n",
    "    print(e.response['Error']['Message'])\n",
    "else:\n",
    "    item = response['Item']\n",
    "    \n",
    "item"
   ]
  },
  {
   "cell_type": "markdown",
   "metadata": {},
   "source": [
    "##### Delete an Item conditionally"
   ]
  },
  {
   "cell_type": "code",
   "execution_count": 25,
   "metadata": {},
   "outputs": [],
   "source": [
    "year = 2013\n",
    "title = \"The Hunger Games: Catching Fire\"\n",
    "rank = 5"
   ]
  },
  {
   "cell_type": "code",
   "execution_count": 26,
   "metadata": {},
   "outputs": [
    {
     "data": {
      "text/plain": [
       "{'title': 'The Hunger Games: Catching Fire',\n",
       " 'year': Decimal('2013'),\n",
       " 'info': {'actors': ['Jennifer Lawrence', 'Josh Hutcherson', 'Liam Hemsworth'],\n",
       "  'release_date': '2013-11-11T00:00:00Z',\n",
       "  'plot': 'Katniss Everdeen and Peeta Mellark become targets of the Capitol after their victory in the 74th Hunger Games sparks a rebellion in the Districts of Panem.',\n",
       "  'genres': ['Action', 'Adventure', 'Sci-Fi', 'Thriller'],\n",
       "  'image_url': 'http://ia.media-imdb.com/images/M/MV5BMTAyMjQ3OTAxMzNeQTJeQWpwZ15BbWU4MDU0NzA1MzAx._V1_SX400_.jpg',\n",
       "  'directors': ['Francis Lawrence'],\n",
       "  'rank': Decimal('4'),\n",
       "  'running_time_secs': Decimal('8760')}}"
      ]
     },
     "execution_count": 26,
     "metadata": {},
     "output_type": "execute_result"
    }
   ],
   "source": [
    "try:\n",
    "    response = table.get_item(\n",
    "        Key={\n",
    "            'year': year,\n",
    "            'title': title\n",
    "        }\n",
    "    )\n",
    "except ClientError as e:\n",
    "    print(e.response['Error']['Message'])\n",
    "else:\n",
    "    item = response['Item']\n",
    "    \n",
    "item"
   ]
  },
  {
   "cell_type": "raw",
   "metadata": {},
   "source": [
    "## avoid update/delete item using reserved keyword\n",
    "https://intellipaat.com/community/17771/update-attribute-timestamp-reserved-word"
   ]
  },
  {
   "cell_type": "code",
   "execution_count": 27,
   "metadata": {},
   "outputs": [],
   "source": [
    "try:\n",
    "    response = table.delete_item(\n",
    "        Key={\n",
    "            'year': year,\n",
    "            'title': title\n",
    "        },\n",
    "        ConditionExpression=\"info.#rnk <= :val\",\n",
    "        ExpressionAttributeValues={\n",
    "            \":val\": decimal.Decimal(rank)\n",
    "        },\n",
    "        ExpressionAttributeNames={\n",
    "            \"#rnk\": \"rank\"\n",
    "        }\n",
    "    )\n",
    "except ClientError as e:\n",
    "    if e.response['Error']['Code'] == \"ConditionalCheckFailedException\":\n",
    "        print(e.response['Error']['Message'])\n",
    "    else:\n",
    "        raise"
   ]
  },
  {
   "cell_type": "code",
   "execution_count": 28,
   "metadata": {},
   "outputs": [
    {
     "ename": "KeyError",
     "evalue": "'Item'",
     "output_type": "error",
     "traceback": [
      "\u001b[0;31m---------------------------------------------------------------------------\u001b[0m",
      "\u001b[0;31mKeyError\u001b[0m                                  Traceback (most recent call last)",
      "\u001b[0;32m<ipython-input-28-bdbcf456cdc2>\u001b[0m in \u001b[0;36m<module>\u001b[0;34m\u001b[0m\n\u001b[1;32m      9\u001b[0m     \u001b[0mprint\u001b[0m\u001b[0;34m(\u001b[0m\u001b[0me\u001b[0m\u001b[0;34m.\u001b[0m\u001b[0mresponse\u001b[0m\u001b[0;34m[\u001b[0m\u001b[0;34m'Error'\u001b[0m\u001b[0;34m]\u001b[0m\u001b[0;34m[\u001b[0m\u001b[0;34m'Message'\u001b[0m\u001b[0;34m]\u001b[0m\u001b[0;34m)\u001b[0m\u001b[0;34m\u001b[0m\u001b[0;34m\u001b[0m\u001b[0m\n\u001b[1;32m     10\u001b[0m \u001b[0;32melse\u001b[0m\u001b[0;34m:\u001b[0m\u001b[0;34m\u001b[0m\u001b[0;34m\u001b[0m\u001b[0m\n\u001b[0;32m---> 11\u001b[0;31m     \u001b[0mitem\u001b[0m \u001b[0;34m=\u001b[0m \u001b[0mresponse\u001b[0m\u001b[0;34m[\u001b[0m\u001b[0;34m'Item'\u001b[0m\u001b[0;34m]\u001b[0m\u001b[0;34m\u001b[0m\u001b[0;34m\u001b[0m\u001b[0m\n\u001b[0m\u001b[1;32m     12\u001b[0m \u001b[0;34m\u001b[0m\u001b[0m\n\u001b[1;32m     13\u001b[0m \u001b[0mitem\u001b[0m\u001b[0;34m\u001b[0m\u001b[0;34m\u001b[0m\u001b[0m\n",
      "\u001b[0;31mKeyError\u001b[0m: 'Item'"
     ]
    }
   ],
   "source": [
    "try:\n",
    "    response = table.get_item(\n",
    "        Key={\n",
    "            'year': year,\n",
    "            'title': title\n",
    "        }\n",
    "    )\n",
    "except ClientError as e:\n",
    "    print(e.response['Error']['Message'])\n",
    "else:\n",
    "    item = response['Item']\n",
    "    \n",
    "item"
   ]
  },
  {
   "cell_type": "markdown",
   "metadata": {},
   "source": [
    "### [Step 4: Query and Scan the Data](https://docs.aws.amazon.com/amazondynamodb/latest/developerguide/GettingStarted.Python.04.html)\n",
    "\n",
    "\n",
    "- [Working with Queries](https://docs.aws.amazon.com/amazondynamodb/latest/developerguide/Query.html)\n",
    "    - begins_with\n",
    "    - between\n",
    "    - eq\n",
    "    - gt \n",
    "    - gte\n",
    "    - lt\n",
    "    - lte\n",
    "    - mro"
   ]
  },
  {
   "cell_type": "code",
   "execution_count": null,
   "metadata": {},
   "outputs": [],
   "source": []
  },
  {
   "cell_type": "markdown",
   "metadata": {},
   "source": [
    "#### Query - All Movies Released in a Year"
   ]
  },
  {
   "cell_type": "code",
   "execution_count": 48,
   "metadata": {},
   "outputs": [],
   "source": [
    "year = 2009\n",
    "table = dynamodb.Table('Movies')\n",
    "response = table.query(\n",
    "    # KeyConditionExpression=Key('year').eq(year) & Key('title').begins_with('H')\n",
    "    # KeyConditionExpression=Key('year').eq(year) & Key('title').gt('H')\n",
    "    KeyConditionExpression=Key('year').eq(year) & Key('title').between('B', 'D')\n",
    ")"
   ]
  },
  {
   "cell_type": "code",
   "execution_count": 49,
   "metadata": {
    "scrolled": true
   },
   "outputs": [
    {
     "data": {
      "text/plain": [
       "{'Items': [{'title': 'Bakjwi',\n",
       "   'year': Decimal('2009'),\n",
       "   'info': {'actors': ['Kang-ho Song', 'Ok-bin Kim', 'Hae-suk Kim'],\n",
       "    'release_date': '2009-04-30T00:00:00Z',\n",
       "    'plot': 'Through a failed medical experiment, a priest is stricken with vampirism and is forced to abandon his ascetic ways.',\n",
       "    'genres': ['Drama', 'Horror', 'Thriller'],\n",
       "    'image_url': 'http://ia.media-imdb.com/images/M/MV5BNDgwODY0MjM3OV5BMl5BanBnXkFtZTcwNzk3MTY2Mg@@._V1_SX400_.jpg',\n",
       "    'directors': ['Chan-wook Park'],\n",
       "    'rating': Decimal('7.1'),\n",
       "    'rank': Decimal('3837'),\n",
       "    'running_time_secs': Decimal('7980')}},\n",
       "  {'title': 'Bandslam',\n",
       "   'year': Decimal('2009'),\n",
       "   'info': {'actors': ['Aly Michalka', 'Vanessa Hudgens', 'Gaelan Connell'],\n",
       "    'release_date': '2009-08-06T00:00:00Z',\n",
       "    'plot': 'A new kid in town assembles a fledgling rock band -- together, they achieve their dreams and compete against the best in the biggest event of the year, a battle of the bands.',\n",
       "    'genres': ['Comedy', 'Drama', 'Family', 'Music', 'Romance'],\n",
       "    'image_url': 'http://ia.media-imdb.com/images/M/MV5BMTg0MDI4MTIzMV5BMl5BanBnXkFtZTcwMDU5MjI2Mg@@._V1_SX400_.jpg',\n",
       "    'directors': ['Todd Graff'],\n",
       "    'rating': Decimal('6.3'),\n",
       "    'rank': Decimal('4644'),\n",
       "    'running_time_secs': Decimal('6660')}},\n",
       "  {'title': 'Banlieue 13 - Ultimatum',\n",
       "   'year': Decimal('2009'),\n",
       "   'info': {'actors': ['Cyril Raffaelli', 'David Belle', 'Philippe Torreton'],\n",
       "    'release_date': '2009-02-18T00:00:00Z',\n",
       "    'plot': \"Damien and Leito return to District 13 on a mission to bring peace to the troubled sector that is controlled by five different gang bosses, before the city's secret services take drastic measures to solve the problem.\",\n",
       "    'genres': ['Action', 'Crime', 'Sci-Fi', 'Thriller'],\n",
       "    'image_url': 'http://ia.media-imdb.com/images/M/MV5BMTUyNjY5MDU4MF5BMl5BanBnXkFtZTcwNDAzNzEwMw@@._V1_SX400_.jpg',\n",
       "    'directors': ['Patrick Alessandrin'],\n",
       "    'rating': Decimal('6.4'),\n",
       "    'rank': Decimal('3288'),\n",
       "    'running_time_secs': Decimal('6060')}},\n",
       "  {'title': 'Bitch Slap',\n",
       "   'year': Decimal('2009'),\n",
       "   'info': {'actors': ['Julia Voth', 'Erin Cummings', 'America Olivo'],\n",
       "    'release_date': '2009-09-14T00:00:00Z',\n",
       "    'plot': 'Three bad girls travel to a remote desert hideaway to steal $200 million in diamonds from a ruthless underworld kingpin.',\n",
       "    'genres': ['Action', 'Comedy', 'Crime', 'Drama', 'Thriller'],\n",
       "    'image_url': 'http://ia.media-imdb.com/images/M/MV5BMTk0OTAzOTY2NF5BMl5BanBnXkFtZTcwMzcwMzM4MQ@@._V1_SX400_.jpg',\n",
       "    'directors': ['Rick Jacobson'],\n",
       "    'rating': Decimal('4.4'),\n",
       "    'rank': Decimal('3181'),\n",
       "    'running_time_secs': Decimal('6540')}},\n",
       "  {'title': 'Black Dynamite',\n",
       "   'year': Decimal('2009'),\n",
       "   'info': {'actors': ['Arsenio Hall', 'Tommy Davidson', 'Phyllis Applegate'],\n",
       "    'release_date': '2009-01-18T00:00:00Z',\n",
       "    'plot': \"Black Dynamite is the greatest African-American action star of the 1970s. When his only brother is killed by The Man it's up to him to find justice.\",\n",
       "    'genres': ['Action', 'Comedy'],\n",
       "    'image_url': 'http://ia.media-imdb.com/images/M/MV5BMTExNzUxNDU4NTReQTJeQWpwZ15BbWU3MDc5MDEzNjM@._V1_SX400_.jpg',\n",
       "    'directors': ['Scott Sanders'],\n",
       "    'rating': Decimal('7.2'),\n",
       "    'rank': Decimal('3572'),\n",
       "    'running_time_secs': Decimal('5040')}},\n",
       "  {'title': 'Blood and Bone',\n",
       "   'year': Decimal('2009'),\n",
       "   'info': {'actors': ['Michael Jai White', 'Julian Sands', 'Eamonn Walker'],\n",
       "    'release_date': '2009-09-15T00:00:00Z',\n",
       "    'plot': 'In Los Angeles, an ex-con takes the underground fighting world by storm in his quest to fulfill a promise to a dead friend.',\n",
       "    'genres': ['Action', 'Drama'],\n",
       "    'image_url': 'http://ia.media-imdb.com/images/M/MV5BNjE0MDc4ODY4Ml5BMl5BanBnXkFtZTcwNDI2NjM4Mg@@._V1_SX400_.jpg',\n",
       "    'directors': ['Ben Ramsey'],\n",
       "    'rating': Decimal('6.6'),\n",
       "    'rank': Decimal('2783'),\n",
       "    'running_time_secs': Decimal('5580')}},\n",
       "  {'title': 'Bride Wars',\n",
       "   'year': Decimal('2009'),\n",
       "   'info': {'actors': ['Kate Hudson', 'Anne Hathaway', 'Candice Bergen'],\n",
       "    'release_date': '2009-01-05T00:00:00Z',\n",
       "    'plot': 'Two best friends become rivals when they schedule their respective weddings on the same day.',\n",
       "    'genres': ['Comedy', 'Romance'],\n",
       "    'image_url': 'http://ia.media-imdb.com/images/M/MV5BMTA2MjU3NjQ3NzReQTJeQWpwZ15BbWU3MDEyNzE4OTE@._V1_SX400_.jpg',\n",
       "    'directors': ['Gary Winick'],\n",
       "    'rating': Decimal('5.1'),\n",
       "    'rank': Decimal('1810'),\n",
       "    'running_time_secs': Decimal('5340')}},\n",
       "  {'title': 'Bright Star',\n",
       "   'year': Decimal('2009'),\n",
       "   'info': {'actors': ['Abbie Cornish', 'Ben Whishaw', 'Paul Schneider'],\n",
       "    'release_date': '2009-05-15T00:00:00Z',\n",
       "    'plot': 'The three-year romance between 19th century poet John Keats and Fanny Brawne.',\n",
       "    'genres': ['Biography', 'Drama', 'Romance'],\n",
       "    'image_url': 'http://ia.media-imdb.com/images/M/MV5BMTg0NjEwNDgxNF5BMl5BanBnXkFtZTcwMjkyOTM3Mg@@._V1_SX400_.jpg',\n",
       "    'directors': ['Jane Campion'],\n",
       "    'rating': Decimal('6.9'),\n",
       "    'rank': Decimal('2571'),\n",
       "    'running_time_secs': Decimal('7140')}},\n",
       "  {'title': \"Brooklyn's Finest\",\n",
       "   'year': Decimal('2009'),\n",
       "   'info': {'actors': ['Richard Gere', 'Don Cheadle', 'Ethan Hawke'],\n",
       "    'release_date': '2009-01-16T00:00:00Z',\n",
       "    'plot': 'Three unconnected Brooklyn cops wind up at the same deadly location after enduring vastly different career paths.',\n",
       "    'genres': ['Crime', 'Drama', 'Thriller'],\n",
       "    'image_url': 'http://ia.media-imdb.com/images/M/MV5BMTUyMTI5MTY5MV5BMl5BanBnXkFtZTcwNzAyOTMwMw@@._V1_SX400_.jpg',\n",
       "    'directors': ['Antoine Fuqua'],\n",
       "    'rating': Decimal('6.7'),\n",
       "    'rank': Decimal('2296'),\n",
       "    'running_time_secs': Decimal('7920')}},\n",
       "  {'title': 'Brothers',\n",
       "   'year': Decimal('2009'),\n",
       "   'info': {'actors': ['Jake Gyllenhaal', 'Natalie Portman', 'Tobey Maguire'],\n",
       "    'release_date': '2009-12-03T00:00:00Z',\n",
       "    'plot': \"A young man comforts his older brother's wife and children after he goes missing in Afghanistan.\",\n",
       "    'genres': ['Drama', 'Thriller', 'War'],\n",
       "    'image_url': 'http://ia.media-imdb.com/images/M/MV5BMTkyMTY5MTcxOV5BMl5BanBnXkFtZTcwMTI3MDE3Mg@@._V1_SX400_.jpg',\n",
       "    'directors': ['Jim Sheridan'],\n",
       "    'rating': Decimal('7.1'),\n",
       "    'rank': Decimal('1020'),\n",
       "    'running_time_secs': Decimal('6300')}},\n",
       "  {'title': 'Bruno',\n",
       "   'year': Decimal('2009'),\n",
       "   'info': {'actors': ['Sacha Baron Cohen',\n",
       "     'Gustaf Hammarsten',\n",
       "     'Clifford Banagale'],\n",
       "    'release_date': '2009-06-25T00:00:00Z',\n",
       "    'plot': 'Flamboyant Austrian fashionista Bruno takes his show to America.',\n",
       "    'genres': ['Comedy'],\n",
       "    'image_url': 'http://ia.media-imdb.com/images/M/MV5BMTUwNDIwNDE5MV5BMl5BanBnXkFtZTcwMDA2MzA1Mg@@._V1_SX400_.jpg',\n",
       "    'directors': ['Larry Charles'],\n",
       "    'rating': Decimal('5.9'),\n",
       "    'rank': Decimal('2115'),\n",
       "    'running_time_secs': Decimal('4860')}},\n",
       "  {'title': 'Carriers',\n",
       "   'year': Decimal('2009'),\n",
       "   'info': {'actors': ['Chris Pine', 'Piper Perabo', 'Lou Taylor Pucci'],\n",
       "    'release_date': '2009-08-18T00:00:00Z',\n",
       "    'plot': 'Four friends fleeing a viral pandemic soon learn they are more dangerous than any virus.',\n",
       "    'genres': ['Drama', 'Horror', 'Sci-Fi', 'Thriller'],\n",
       "    'image_url': 'http://ia.media-imdb.com/images/M/MV5BMTYwOTcxMzYxMl5BMl5BanBnXkFtZTcwODQyODQ3Mg@@._V1_SX400_.jpg',\n",
       "    'directors': ['David Pastor', 'Alex Pastor'],\n",
       "    'rating': Decimal('6'),\n",
       "    'rank': Decimal('2911'),\n",
       "    'running_time_secs': Decimal('5040')}},\n",
       "  {'title': 'Case 39',\n",
       "   'year': Decimal('2009'),\n",
       "   'info': {'actors': ['Renee Zellweger', 'Ian McShane', 'Jodelle Ferland'],\n",
       "    'release_date': '2009-08-13T00:00:00Z',\n",
       "    'plot': 'A social worker fights to save a girl from her abusive parents, only to discover that the situation is more dangerous than she ever expected.',\n",
       "    'genres': ['Horror', 'Mystery', 'Thriller'],\n",
       "    'image_url': 'http://ia.media-imdb.com/images/M/MV5BNTA4NDUyOTE5NV5BMl5BanBnXkFtZTcwOTQ3NzY3Mw@@._V1_SX400_.jpg',\n",
       "    'directors': ['Christian Alvart'],\n",
       "    'rating': Decimal('6'),\n",
       "    'rank': Decimal('1967'),\n",
       "    'running_time_secs': Decimal('6540')}},\n",
       "  {'title': 'Celda 211',\n",
       "   'year': Decimal('2009'),\n",
       "   'info': {'actors': ['Luis Tosar', 'Alberto Ammann', 'Antonio Resines'],\n",
       "    'release_date': '2009-09-04T00:00:00Z',\n",
       "    'plot': 'The story of two men on different sides of a prison riot -- the inmate leading the rebellion and the young guard trapped in the revolt, who poses as a prisoner in a desperate attempt to survive the ordeal.',\n",
       "    'genres': ['Action', 'Drama', 'Thriller'],\n",
       "    'image_url': 'http://ia.media-imdb.com/images/M/MV5BMTU5NTQ2NTMyMV5BMl5BanBnXkFtZTcwNzA0MTcyOQ@@._V1_SX400_.jpg',\n",
       "    'directors': ['Daniel Monzon'],\n",
       "    'rating': Decimal('7.6'),\n",
       "    'rank': Decimal('2864'),\n",
       "    'running_time_secs': Decimal('6780')}},\n",
       "  {'title': 'Cherrybomb',\n",
       "   'year': Decimal('2009'),\n",
       "   'info': {'actors': ['Rupert Grint', 'Robert Sheehan', 'James Nesbitt'],\n",
       "    'release_date': '2009-02-08T00:00:00Z',\n",
       "    'plot': 'Three teenagers go on a wild weekend of drink, drugs, shop-lifting and stealing cars that quickly spins beyond their control.',\n",
       "    'genres': ['Drama', 'Thriller'],\n",
       "    'image_url': 'http://ia.media-imdb.com/images/M/MV5BMTM4MTE1NDQ5M15BMl5BanBnXkFtZTcwMjEwOTM0Mg@@._V1_SX400_.jpg',\n",
       "    'directors': [\"Lisa Barros D'Sa\", 'Glenn Leyburn'],\n",
       "    'rating': Decimal('5.9'),\n",
       "    'rank': Decimal('4685'),\n",
       "    'running_time_secs': Decimal('5160')}},\n",
       "  {'title': \"Cirque du Freak: The Vampire's Assistant\",\n",
       "   'year': Decimal('2009'),\n",
       "   'info': {'actors': ['Chris Massoglia', 'John C. Reilly', 'Salma Hayek'],\n",
       "    'release_date': '2009-10-22T00:00:00Z',\n",
       "    'plot': 'Teenager, Darren Shan, meets a mysterious man at a freak show who turns out to be a Vampire. After a series of events Darren must leave his normal life and go on the road with the Cirque Du Freak and become a Vampire.',\n",
       "    'genres': ['Action', 'Adventure', 'Fantasy', 'Thriller'],\n",
       "    'image_url': 'http://ia.media-imdb.com/images/M/MV5BMTI1NDA1MTMwNl5BMl5BanBnXkFtZTcwNTg0MDE4Mg@@._V1_SX400_.jpg',\n",
       "    'directors': ['Paul Weitz'],\n",
       "    'rating': Decimal('5.9'),\n",
       "    'rank': Decimal('1335'),\n",
       "    'running_time_secs': Decimal('6540')}},\n",
       "  {'title': 'City Island',\n",
       "   'year': Decimal('2009'),\n",
       "   'info': {'actors': ['Andy Garcia', 'Julianna Margulies', 'Steven Strait'],\n",
       "    'release_date': '2009-03-23T00:00:00Z',\n",
       "    'genres': ['Comedy', 'Drama'],\n",
       "    'image_url': 'http://ia.media-imdb.com/images/M/MV5BMTM1MTY2Mjk0Nl5BMl5BanBnXkFtZTcwMDYxODkxMw@@._V1_SX400_.jpg',\n",
       "    'directors': ['Raymond De Felitta'],\n",
       "    'rating': Decimal('7.3'),\n",
       "    'rank': Decimal('3619'),\n",
       "    'running_time_secs': Decimal('6240')}},\n",
       "  {'title': 'Cloudy with a Chance of Meatballs',\n",
       "   'year': Decimal('2009'),\n",
       "   'info': {'actors': ['Anna Faris', 'Bill Hader', 'Bruce Campbell'],\n",
       "    'release_date': '2009-09-16T00:00:00Z',\n",
       "    'plot': \"The most delicious event since macaroni met cheese. Inspired by the beloved children's book, the film focuses on a town where food falls from the sky like rain.\",\n",
       "    'genres': ['Animation', 'Comedy', 'Family', 'Fantasy'],\n",
       "    'image_url': 'http://ia.media-imdb.com/images/M/MV5BMTg0MjAwNDI5MV5BMl5BanBnXkFtZTcwODkyMzg2Mg@@._V1_SX400_.jpg',\n",
       "    'directors': ['Phil Lord', 'Chris Miller'],\n",
       "    'rating': Decimal('7'),\n",
       "    'rank': Decimal('153'),\n",
       "    'running_time_secs': Decimal('5400')}},\n",
       "  {'title': 'Coco avant Chanel',\n",
       "   'year': Decimal('2009'),\n",
       "   'info': {'actors': ['Audrey Tautou',\n",
       "     'Benoit Poelvoorde',\n",
       "     'Alessandro Nivola'],\n",
       "    'release_date': '2009-04-22T00:00:00Z',\n",
       "    'plot': \"The story of Coco Chanel's rise from obscure beginnings to the heights of the fashion world.\",\n",
       "    'genres': ['Biography', 'Drama'],\n",
       "    'image_url': 'http://ia.media-imdb.com/images/M/MV5BMTA0NjYzMzQxNzBeQTJeQWpwZ15BbWU3MDI2MDA0ODI@._V1_SX400_.jpg',\n",
       "    'directors': ['Anne Fontaine'],\n",
       "    'rating': Decimal('6.5'),\n",
       "    'rank': Decimal('3716'),\n",
       "    'running_time_secs': Decimal('6300')}},\n",
       "  {'title': 'Confessions of a Shopaholic',\n",
       "   'year': Decimal('2009'),\n",
       "   'info': {'actors': ['Isla Fisher', 'Hugh Dancy', 'Krysten Ritter'],\n",
       "    'release_date': '2009-02-05T00:00:00Z',\n",
       "    'plot': 'A college grad lands a job as a financial journalist in New York City to support where she nurtures her shopping addiction and falls for a wealthy entrepreneur.',\n",
       "    'genres': ['Comedy', 'Romance'],\n",
       "    'image_url': 'http://ia.media-imdb.com/images/M/MV5BMTQ1MzcyMTkwOF5BMl5BanBnXkFtZTcwMDM3MTc5MQ@@._V1_SX400_.jpg',\n",
       "    'directors': ['P.J. Hogan'],\n",
       "    'rating': Decimal('5.6'),\n",
       "    'rank': Decimal('1953'),\n",
       "    'running_time_secs': Decimal('6240')}},\n",
       "  {'title': 'Coraline',\n",
       "   'year': Decimal('2009'),\n",
       "   'info': {'actors': ['Dakota Fanning', 'Teri Hatcher', 'John Hodgman'],\n",
       "    'release_date': '2009-02-05T00:00:00Z',\n",
       "    'plot': 'An adventurous girl finds another world that is a strangely idealized version of her frustrating home, but it has sinister secrets.',\n",
       "    'genres': ['Animation', 'Fantasy', 'Thriller'],\n",
       "    'image_url': 'http://ia.media-imdb.com/images/M/MV5BMzQxNjM5NzkxNV5BMl5BanBnXkFtZTcwMzg5NDMwMg@@._V1_SX400_.jpg',\n",
       "    'directors': ['Henry Selick'],\n",
       "    'rating': Decimal('7.6'),\n",
       "    'rank': Decimal('1047'),\n",
       "    'running_time_secs': Decimal('6000')}},\n",
       "  {'title': 'Couples Retreat',\n",
       "   'year': Decimal('2009'),\n",
       "   'info': {'actors': ['Vince Vaughn', 'Malin Akerman', 'Jon Favreau'],\n",
       "    'release_date': '2009-10-08T00:00:00Z',\n",
       "    'plot': \"A comedy centered around four couples who settle into a tropical-island resort for a vacation. While one of the couples is there to work on the marriage, the others fail to realize that participation in the resort's therapy sessions is not optional.\",\n",
       "    'genres': ['Comedy'],\n",
       "    'image_url': 'http://ia.media-imdb.com/images/M/MV5BMTQxMjI1Nzc0M15BMl5BanBnXkFtZTcwMTc0Mzg2Mg@@._V1_SX400_.jpg',\n",
       "    'directors': ['Peter Billingsley'],\n",
       "    'rating': Decimal('5.4'),\n",
       "    'rank': Decimal('252'),\n",
       "    'running_time_secs': Decimal('6780')}},\n",
       "  {'title': 'Cracks',\n",
       "   'year': Decimal('2009'),\n",
       "   'info': {'actors': ['Eva Green', 'Juno Temple', 'Maria Valverde'],\n",
       "    'release_date': '2009-09-11T00:00:00Z',\n",
       "    'plot': 'A look at the lives and relationships among girls at an elite boarding school.',\n",
       "    'genres': ['Drama', 'Thriller'],\n",
       "    'image_url': 'http://ia.media-imdb.com/images/M/MV5BMTMwNTEzODc2NF5BMl5BanBnXkFtZTcwOTQ0MTU2NA@@._V1_SX400_.jpg',\n",
       "    'directors': ['Jordan Scott'],\n",
       "    'rating': Decimal('6.5'),\n",
       "    'rank': Decimal('3482'),\n",
       "    'running_time_secs': Decimal('6240')}},\n",
       "  {'title': 'Crank: High Voltage',\n",
       "   'year': Decimal('2009'),\n",
       "   'info': {'actors': ['Jason Statham', 'Amy Smart', 'Clifton Collins Jr.'],\n",
       "    'release_date': '2009-04-16T00:00:00Z',\n",
       "    'plot': 'Chelios faces a Chinese mobster who has stolen his nearly indestructible heart and replaced it with a battery-powered ticker that requires regular jolts of electricity to keep working.',\n",
       "    'genres': ['Action', 'Comedy', 'Crime', 'Thriller'],\n",
       "    'image_url': 'http://ia.media-imdb.com/images/M/MV5BMTQzNTU1ODkxNl5BMl5BanBnXkFtZTcwMDgyODEzMg@@._V1_SX400_.jpg',\n",
       "    'directors': ['Mark Neveldine', 'Brian Taylor'],\n",
       "    'rating': Decimal('6.1'),\n",
       "    'rank': Decimal('1855'),\n",
       "    'running_time_secs': Decimal('5760')}},\n",
       "  {'title': 'Crazy Heart',\n",
       "   'year': Decimal('2009'),\n",
       "   'info': {'actors': ['Jeff Bridges', 'Maggie Gyllenhaal', 'Colin Farrell'],\n",
       "    'release_date': '2009-12-06T00:00:00Z',\n",
       "    'plot': 'A faded country music musician is forced to reassess his dysfunctional life during a doomed romance that also inspires him.',\n",
       "    'genres': ['Drama', 'Music', 'Romance'],\n",
       "    'image_url': 'http://ia.media-imdb.com/images/M/MV5BMTU0NDc5NjgzNl5BMl5BanBnXkFtZTcwNzc0NDIzMw@@._V1_SX400_.jpg',\n",
       "    'directors': ['Scott Cooper'],\n",
       "    'rating': Decimal('7.3'),\n",
       "    'rank': Decimal('2644'),\n",
       "    'running_time_secs': Decimal('6720')}},\n",
       "  {'title': 'Creation',\n",
       "   'year': Decimal('2009'),\n",
       "   'info': {'actors': ['Paul Bettany', 'Jennifer Connelly', 'Ian Kelly'],\n",
       "    'release_date': '2009-09-10T00:00:00Z',\n",
       "    'plot': 'English naturalist Charles Darwin struggles to find a balance between his revolutionary theories on evolution and the relationship with religious wife, whose faith contradicts his work.',\n",
       "    'genres': ['Drama', 'Biography'],\n",
       "    'image_url': 'http://ia.media-imdb.com/images/M/MV5BMjAwMjgxMDUwNl5BMl5BanBnXkFtZTcwMjM3ODAxMw@@._V1_SX400_.jpg',\n",
       "    'directors': ['Jon Amiel'],\n",
       "    'rating': Decimal('6.6'),\n",
       "    'rank': Decimal('4847'),\n",
       "    'running_time_secs': Decimal('6480')}},\n",
       "  {'title': 'Crossing Over',\n",
       "   'year': Decimal('2009'),\n",
       "   'info': {'actors': ['Harrison Ford', 'Ashley Judd', 'Ray Liotta'],\n",
       "    'release_date': '2009-02-26T00:00:00Z',\n",
       "    'genres': ['Drama'],\n",
       "    'image_url': 'http://ia.media-imdb.com/images/M/MV5BMjAyMDQ3ODU4NV5BMl5BanBnXkFtZTcwNzU2MTAzMg@@._V1_SX400_.jpg',\n",
       "    'directors': ['Wayne Kramer'],\n",
       "    'rating': Decimal('6.7'),\n",
       "    'rank': Decimal('2502'),\n",
       "    'running_time_secs': Decimal('6780')}}],\n",
       " 'Count': 27,\n",
       " 'ScannedCount': 27,\n",
       " 'ResponseMetadata': {'RequestId': 'fdb5a76a-7d60-4a68-a97b-4eec6ef4579b',\n",
       "  'HTTPStatusCode': 200,\n",
       "  'HTTPHeaders': {'content-type': 'application/x-amz-json-1.0',\n",
       "   'x-amz-crc32': '3314946402',\n",
       "   'x-amzn-requestid': 'fdb5a76a-7d60-4a68-a97b-4eec6ef4579b',\n",
       "   'content-length': '17179',\n",
       "   'server': 'Jetty(8.1.12.v20130726)'},\n",
       "  'RetryAttempts': 0}}"
      ]
     },
     "execution_count": 49,
     "metadata": {},
     "output_type": "execute_result"
    }
   ],
   "source": [
    "response"
   ]
  },
  {
   "cell_type": "code",
   "execution_count": 50,
   "metadata": {},
   "outputs": [
    {
     "data": {
      "text/plain": [
       "27"
      ]
     },
     "execution_count": 50,
     "metadata": {},
     "output_type": "execute_result"
    }
   ],
   "source": [
    "len(response['Items'])"
   ]
  },
  {
   "cell_type": "code",
   "execution_count": 51,
   "metadata": {},
   "outputs": [
    {
     "data": {
      "text/plain": [
       "['Bakjwi',\n",
       " 'Bandslam',\n",
       " 'Banlieue 13 - Ultimatum',\n",
       " 'Bitch Slap',\n",
       " 'Black Dynamite',\n",
       " 'Blood and Bone',\n",
       " 'Bride Wars',\n",
       " 'Bright Star',\n",
       " \"Brooklyn's Finest\",\n",
       " 'Brothers',\n",
       " 'Bruno',\n",
       " 'Carriers',\n",
       " 'Case 39',\n",
       " 'Celda 211',\n",
       " 'Cherrybomb',\n",
       " \"Cirque du Freak: The Vampire's Assistant\",\n",
       " 'City Island',\n",
       " 'Cloudy with a Chance of Meatballs',\n",
       " 'Coco avant Chanel',\n",
       " 'Confessions of a Shopaholic',\n",
       " 'Coraline',\n",
       " 'Couples Retreat',\n",
       " 'Cracks',\n",
       " 'Crank: High Voltage',\n",
       " 'Crazy Heart',\n",
       " 'Creation',\n",
       " 'Crossing Over']"
      ]
     },
     "execution_count": 51,
     "metadata": {},
     "output_type": "execute_result"
    }
   ],
   "source": [
    "titles = [i['title'] for i in response['Items']]\n",
    "titles"
   ]
  },
  {
   "cell_type": "code",
   "execution_count": null,
   "metadata": {},
   "outputs": [],
   "source": []
  },
  {
   "cell_type": "markdown",
   "metadata": {},
   "source": [
    "#### Query - All Movies Released in a Year with Certain Titles"
   ]
  },
  {
   "cell_type": "code",
   "execution_count": 52,
   "metadata": {},
   "outputs": [],
   "source": [
    "year = 1992\n",
    "title_range = ('B', 'E')\n",
    "\n",
    "# Expression attribute names can only reference items in the projection expression.\n",
    "# year is a reserved word, use ExpressionAttributeNames to remap it\n",
    "response = table.query(\n",
    "    ProjectionExpression=\"#yr, title, info.genres, info.actors[0]\",\n",
    "    ExpressionAttributeNames={\"#yr\": \"year\"},\n",
    "    KeyConditionExpression=\n",
    "        Key('year').eq(year) & Key('title').between(title_range[0], title_range[1])\n",
    ")"
   ]
  },
  {
   "cell_type": "code",
   "execution_count": 84,
   "metadata": {
    "scrolled": true
   },
   "outputs": [
    {
     "data": {
      "text/plain": [
       "[{'title': 'A Few Good Men',\n",
       "  'year': Decimal('1992'),\n",
       "  'info': {'actors': ['Tom Cruise'],\n",
       "   'genres': ['Crime', 'Drama', 'Mystery', 'Thriller']}},\n",
       " {'title': 'A League of Their Own',\n",
       "  'year': Decimal('1992'),\n",
       "  'info': {'actors': ['Tom Hanks'], 'genres': ['Comedy', 'Drama', 'Sport']}},\n",
       " {'title': 'A River Runs Through It',\n",
       "  'year': Decimal('1992'),\n",
       "  'info': {'actors': ['Craig Sheffer'], 'genres': ['Drama']}},\n",
       " {'title': 'Aladdin',\n",
       "  'year': Decimal('1992'),\n",
       "  'info': {'actors': ['Scott Weinger'],\n",
       "   'genres': ['Animation',\n",
       "    'Adventure',\n",
       "    'Comedy',\n",
       "    'Family',\n",
       "    'Fantasy',\n",
       "    'Musical',\n",
       "    'Romance']}},\n",
       " {'title': 'Alien 3',\n",
       "  'year': Decimal('1992'),\n",
       "  'info': {'actors': ['Sigourney Weaver'],\n",
       "   'genres': ['Action', 'Sci-Fi', 'Thriller']}},\n",
       " {'title': 'Army of Darkness',\n",
       "  'year': Decimal('1992'),\n",
       "  'info': {'actors': ['Bruce Campbell'],\n",
       "   'genres': ['Comedy', 'Fantasy', 'Horror']}},\n",
       " {'title': 'Batman Returns',\n",
       "  'year': Decimal('1992'),\n",
       "  'info': {'actors': ['Michael Keaton'], 'genres': ['Action', 'Fantasy']}},\n",
       " {'title': 'Beethoven',\n",
       "  'year': Decimal('1992'),\n",
       "  'info': {'actors': ['Charles Grodin'],\n",
       "   'genres': ['Comedy', 'Drama', 'Family']}},\n",
       " {'title': 'Bitter Moon',\n",
       "  'year': Decimal('1992'),\n",
       "  'info': {'actors': ['Hugh Grant'],\n",
       "   'genres': ['Drama', 'Romance', 'Thriller']}},\n",
       " {'title': 'Boomerang',\n",
       "  'year': Decimal('1992'),\n",
       "  'info': {'actors': ['Eddie Murphy'],\n",
       "   'genres': ['Comedy', 'Drama', 'Romance']}},\n",
       " {'title': 'Braindead',\n",
       "  'year': Decimal('1992'),\n",
       "  'info': {'actors': ['Timothy Balme'], 'genres': ['Comedy', 'Horror']}},\n",
       " {'title': 'Buffy the Vampire Slayer',\n",
       "  'year': Decimal('1992'),\n",
       "  'info': {'actors': ['Kristy Swanson'],\n",
       "   'genres': ['Action', 'Comedy', 'Fantasy', 'Horror']}},\n",
       " {'title': 'Candyman',\n",
       "  'year': Decimal('1992'),\n",
       "  'info': {'actors': ['Virginia Madsen'], 'genres': ['Horror']}},\n",
       " {'title': 'Captain Ron',\n",
       "  'year': Decimal('1992'),\n",
       "  'info': {'actors': ['Kurt Russell'], 'genres': ['Adventure', 'Comedy']}},\n",
       " {'title': 'Chaplin',\n",
       "  'year': Decimal('1992'),\n",
       "  'info': {'actors': ['Robert Downey Jr.'], 'genres': ['Biography', 'Drama']}},\n",
       " {'title': 'Como agua para chocolate',\n",
       "  'year': Decimal('1992'),\n",
       "  'info': {'actors': ['Marco Leonardi'], 'genres': ['Drama', 'Romance']}},\n",
       " {'title': 'Damage',\n",
       "  'year': Decimal('1992'),\n",
       "  'info': {'actors': ['Jeremy Irons'], 'genres': ['Drama', 'Romance']}},\n",
       " {'title': 'Death Becomes Her',\n",
       "  'year': Decimal('1992'),\n",
       "  'info': {'actors': ['Meryl Streep'], 'genres': ['Comedy', 'Fantasy']}},\n",
       " {'title': 'El mariachi',\n",
       "  'year': Decimal('1992'),\n",
       "  'info': {'actors': ['Carlos Gallardo'],\n",
       "   'genres': ['Action', 'Crime', 'Drama', 'Thriller']}},\n",
       " {'title': 'Encino Man',\n",
       "  'year': Decimal('1992'),\n",
       "  'info': {'actors': ['Sean Astin'], 'genres': ['Comedy', 'Fantasy']}},\n",
       " {'title': 'Far and Away',\n",
       "  'year': Decimal('1992'),\n",
       "  'info': {'actors': ['Tom Cruise'],\n",
       "   'genres': ['Adventure', 'Drama', 'Romance', 'Western']}},\n",
       " {'title': 'FernGully: The Last Rainforest',\n",
       "  'year': Decimal('1992'),\n",
       "  'info': {'actors': ['Samantha Mathis'],\n",
       "   'genres': ['Animation', 'Adventure', 'Family', 'Fantasy', 'Thriller']}},\n",
       " {'title': 'Forever Young',\n",
       "  'year': Decimal('1992'),\n",
       "  'info': {'actors': ['Mel Gibson'],\n",
       "   'genres': ['Drama', 'Romance', 'Sci-Fi']}},\n",
       " {'title': 'Glengarry Glen Ross',\n",
       "  'year': Decimal('1992'),\n",
       "  'info': {'actors': ['Al Pacino'], 'genres': ['Drama']}},\n",
       " {'title': 'Home Alone 2: Lost in New York',\n",
       "  'year': Decimal('1992'),\n",
       "  'info': {'actors': ['Macaulay Culkin'],\n",
       "   'genres': ['Adventure', 'Comedy', 'Crime', 'Family']}},\n",
       " {'title': 'Howards End',\n",
       "  'year': Decimal('1992'),\n",
       "  'info': {'actors': ['Anthony Hopkins'], 'genres': ['Drama', 'Romance']}},\n",
       " {'title': 'Jennifer Eight',\n",
       "  'year': Decimal('1992'),\n",
       "  'info': {'actors': ['Andy Garcia'],\n",
       "   'genres': ['Crime', 'Drama', 'Mystery', 'Thriller']}},\n",
       " {'title': 'Juice',\n",
       "  'year': Decimal('1992'),\n",
       "  'info': {'actors': ['Omar Epps'], 'genres': ['Crime', 'Drama', 'Thriller']}}]"
      ]
     },
     "execution_count": 84,
     "metadata": {},
     "output_type": "execute_result"
    }
   ],
   "source": [
    "response['Items']"
   ]
  },
  {
   "cell_type": "code",
   "execution_count": 54,
   "metadata": {},
   "outputs": [
    {
     "data": {
      "text/plain": [
       "['Batman Returns',\n",
       " 'Beethoven',\n",
       " 'Bitter Moon',\n",
       " 'Boomerang',\n",
       " 'Braindead',\n",
       " 'Buffy the Vampire Slayer',\n",
       " 'Candyman',\n",
       " 'Captain Ron',\n",
       " 'Chaplin',\n",
       " 'Como agua para chocolate',\n",
       " 'Damage',\n",
       " 'Death Becomes Her']"
      ]
     },
     "execution_count": 54,
     "metadata": {},
     "output_type": "execute_result"
    }
   ],
   "source": [
    "titles = [i['title'] for i in response['Items']]\n",
    "titles"
   ]
  },
  {
   "cell_type": "code",
   "execution_count": null,
   "metadata": {},
   "outputs": [],
   "source": []
  },
  {
   "cell_type": "markdown",
   "metadata": {},
   "source": [
    "#### Scan with pagination"
   ]
  },
  {
   "cell_type": "code",
   "execution_count": 55,
   "metadata": {},
   "outputs": [],
   "source": [
    "year_range = (1950, 1955)\n",
    "scan_kwargs = {\n",
    "    'FilterExpression': Key('year').between(*year_range),\n",
    "    'ProjectionExpression': \"#yr, title, info.rating\",\n",
    "    'ExpressionAttributeNames': {\"#yr\": \"year\"}\n",
    "}"
   ]
  },
  {
   "cell_type": "code",
   "execution_count": 56,
   "metadata": {},
   "outputs": [
    {
     "name": "stdout",
     "output_type": "stream",
     "text": [
      "ipage = 1\n",
      "ipage = 2\n"
     ]
    }
   ],
   "source": [
    "done = False\n",
    "start_key = None\n",
    "movies = []\n",
    "ipage = 0\n",
    "while not done:\n",
    "    ipage += 1\n",
    "    print(f\"ipage = {ipage}\")\n",
    "    if start_key:\n",
    "        scan_kwargs['ExclusiveStartKey'] = start_key\n",
    "    response = table.scan(**scan_kwargs)\n",
    "    movies.extend(response.get('Items', []))\n",
    "    start_key = response.get('LastEvaluatedKey', None)\n",
    "    done = start_key is None"
   ]
  },
  {
   "cell_type": "code",
   "execution_count": 57,
   "metadata": {},
   "outputs": [
    {
     "data": {
      "text/plain": [
       "(38,\n",
       " [{'title': 'High Noon',\n",
       "   'year': Decimal('1952'),\n",
       "   'info': {'rating': Decimal('8.2')}},\n",
       "  {'title': \"Singin' in the Rain\",\n",
       "   'year': Decimal('1952'),\n",
       "   'info': {'rating': Decimal('8.4')}},\n",
       "  {'title': 'The Member of the Wedding',\n",
       "   'year': Decimal('1952'),\n",
       "   'info': {'rating': Decimal('6.8')}},\n",
       "  {'title': 'The Quiet Man',\n",
       "   'year': Decimal('1952'),\n",
       "   'info': {'rating': Decimal('7.8')}},\n",
       "  {'title': '20000 Leagues Under the Sea',\n",
       "   'year': Decimal('1954'),\n",
       "   'info': {'rating': Decimal('7.1')}},\n",
       "  {'title': 'Black Widow',\n",
       "   'year': Decimal('1954'),\n",
       "   'info': {'rating': Decimal('6.7')}},\n",
       "  {'title': 'Dial M for Murder',\n",
       "   'year': Decimal('1954'),\n",
       "   'info': {'rating': Decimal('8.1')}},\n",
       "  {'title': 'On the Waterfront',\n",
       "   'year': Decimal('1954'),\n",
       "   'info': {'rating': Decimal('8.3')}},\n",
       "  {'title': 'Rear Window',\n",
       "   'year': Decimal('1954'),\n",
       "   'info': {'rating': Decimal('8.6')}},\n",
       "  {'title': 'Seven Brides for Seven Brothers',\n",
       "   'year': Decimal('1954'),\n",
       "   'info': {'rating': Decimal('7.2')}},\n",
       "  {'title': 'Shichinin no samurai',\n",
       "   'year': Decimal('1954'),\n",
       "   'info': {'rating': Decimal('8.8')}},\n",
       "  {'title': 'A Streetcar Named Desire',\n",
       "   'year': Decimal('1951'),\n",
       "   'info': {'rating': Decimal('8')}},\n",
       "  {'title': 'Alice in Wonderland',\n",
       "   'year': Decimal('1951'),\n",
       "   'info': {'rating': Decimal('7.4')}},\n",
       "  {'title': 'An American in Paris',\n",
       "   'year': Decimal('1951'),\n",
       "   'info': {'rating': Decimal('7.2')}},\n",
       "  {'title': 'Operation Pacific',\n",
       "   'year': Decimal('1951'),\n",
       "   'info': {'rating': Decimal('6.5')}},\n",
       "  {'title': 'Storm Warning',\n",
       "   'year': Decimal('1951'),\n",
       "   'info': {'rating': Decimal('7')}},\n",
       "  {'title': 'Strangers on a Train',\n",
       "   'year': Decimal('1951'),\n",
       "   'info': {'rating': Decimal('8.2')}},\n",
       "  {'title': 'The African Queen',\n",
       "   'year': Decimal('1951'),\n",
       "   'info': {'rating': Decimal('8')}},\n",
       "  {'title': 'The Day the Earth Stood Still',\n",
       "   'year': Decimal('1951'),\n",
       "   'info': {'rating': Decimal('7.9')}},\n",
       "  {'title': 'East of Eden',\n",
       "   'year': Decimal('1955'),\n",
       "   'info': {'rating': Decimal('8')}},\n",
       "  {'title': 'Lady and the Tramp',\n",
       "   'year': Decimal('1955'),\n",
       "   'info': {'rating': Decimal('7.4')}},\n",
       "  {'title': 'Les diaboliques',\n",
       "   'year': Decimal('1955'),\n",
       "   'info': {'rating': Decimal('8.2')}},\n",
       "  {'title': 'Rebel Without a Cause',\n",
       "   'year': Decimal('1955'),\n",
       "   'info': {'rating': Decimal('7.8')}},\n",
       "  {'title': 'The Night of the Hunter',\n",
       "   'year': Decimal('1955'),\n",
       "   'info': {'rating': Decimal('8.1')}},\n",
       "  {'title': 'The Seven Year Itch',\n",
       "   'year': Decimal('1955'),\n",
       "   'info': {'rating': Decimal('7.2')}},\n",
       "  {'title': 'To Catch a Thief',\n",
       "   'year': Decimal('1955'),\n",
       "   'info': {'rating': Decimal('7.5')}},\n",
       "  {'title': 'From Here to Eternity',\n",
       "   'year': Decimal('1953'),\n",
       "   'info': {'rating': Decimal('7.8')}},\n",
       "  {'title': 'How to Marry a Millionaire',\n",
       "   'year': Decimal('1953'),\n",
       "   'info': {'rating': Decimal('6.8')}},\n",
       "  {'title': 'Peter Pan',\n",
       "   'year': Decimal('1953'),\n",
       "   'info': {'rating': Decimal('7.3')}},\n",
       "  {'title': 'Roman Holiday',\n",
       "   'year': Decimal('1953'),\n",
       "   'info': {'rating': Decimal('8.1')}},\n",
       "  {'title': 'Shane',\n",
       "   'year': Decimal('1953'),\n",
       "   'info': {'rating': Decimal('7.7')}},\n",
       "  {'title': 'The War of the Worlds',\n",
       "   'year': Decimal('1953'),\n",
       "   'info': {'rating': Decimal('7.1')}},\n",
       "  {'title': 'All About Eve',\n",
       "   'year': Decimal('1950'),\n",
       "   'info': {'rating': Decimal('8.4')}},\n",
       "  {'title': 'Cinderella',\n",
       "   'year': Decimal('1950'),\n",
       "   'info': {'rating': Decimal('7.3')}},\n",
       "  {'title': 'Harvey',\n",
       "   'year': Decimal('1950'),\n",
       "   'info': {'rating': Decimal('8')}},\n",
       "  {'title': 'Rashomon',\n",
       "   'year': Decimal('1950'),\n",
       "   'info': {'rating': Decimal('8.4')}},\n",
       "  {'title': 'Sunset Blvd.',\n",
       "   'year': Decimal('1950'),\n",
       "   'info': {'rating': Decimal('8.6')}},\n",
       "  {'title': 'Tea for Two',\n",
       "   'year': Decimal('1950'),\n",
       "   'info': {'rating': Decimal('6.4')}}])"
      ]
     },
     "execution_count": 57,
     "metadata": {},
     "output_type": "execute_result"
    }
   ],
   "source": [
    "len(movies), movies"
   ]
  },
  {
   "cell_type": "code",
   "execution_count": null,
   "metadata": {},
   "outputs": [],
   "source": []
  }
 ],
 "metadata": {
  "kernelspec": {
   "display_name": "Python 3",
   "language": "python",
   "name": "python3"
  },
  "language_info": {
   "codemirror_mode": {
    "name": "ipython",
    "version": 3
   },
   "file_extension": ".py",
   "mimetype": "text/x-python",
   "name": "python",
   "nbconvert_exporter": "python",
   "pygments_lexer": "ipython3",
   "version": "3.7.6"
  }
 },
 "nbformat": 4,
 "nbformat_minor": 2
}
