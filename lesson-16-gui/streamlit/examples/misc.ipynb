{
 "cells": [
  {
   "cell_type": "code",
   "execution_count": 2,
   "metadata": {},
   "outputs": [],
   "source": [
    "import numpy as np\n",
    "import wave\n",
    "from scipy.io import wavfile\n",
    "import os\n",
    "\n",
    "avdir = os.path.expanduser(\"~/Music/Samples\")\n",
    "\n",
    "def note(freq, length, amp, rate):\n",
    "    t = np.linspace(0, length, length * rate)\n",
    "    data = np.sin(2 * np.pi * freq * t) * amp\n",
    "    return data.astype(np.int16)"
   ]
  },
  {
   "cell_type": "code",
   "execution_count": 4,
   "metadata": {},
   "outputs": [
    {
     "name": "stdout",
     "output_type": "stream",
     "text": [
      "Making wave...\n",
      "Converting wave...\n"
     ]
    }
   ],
   "source": [
    "frequency = 440  # hertz\n",
    "nchannels = 1\n",
    "sampwidth = 2\n",
    "sampling_rate = 44100\n",
    "duration = 89  # Max size, given the bitrate and sample width\n",
    "comptype = \"NONE\"\n",
    "compname = \"not compressed\"\n",
    "amplitude = 10000\n",
    "nframes = duration * sampling_rate\n",
    "\n",
    "print(\"Making wave...\")\n",
    "#x = st.text(\"Making wave...\")\n",
    "sine_wave = note(frequency, duration, amplitude, sampling_rate)\n",
    "\n",
    "fh = wave.open(os.path.join(avdir, \"gen_sound.wav\"), \"w\")\n",
    "fh.setparams((nchannels, sampwidth, int(sampling_rate), nframes, comptype, compname))\n",
    "\n",
    "print(\"Converting wave...\")\n",
    "#x.text(\"Converting wave...\")\n",
    "fh.writeframes(sine_wave)\n",
    "\n",
    "fh.close()"
   ]
  },
  {
   "cell_type": "code",
   "execution_count": 3,
   "metadata": {},
   "outputs": [
    {
     "data": {
      "text/plain": [
       "'a/b'"
      ]
     },
     "execution_count": 3,
     "metadata": {},
     "output_type": "execute_result"
    }
   ],
   "source": [
    "os.path.join(\"a\", \"b\")"
   ]
  },
  {
   "cell_type": "code",
   "execution_count": 6,
   "metadata": {},
   "outputs": [
    {
     "name": "stdout",
     "output_type": "stream",
     "text": [
      "https://i.pinimg.com/originals/a4/58/91/a45891b8705f918291eaf248d40edabd.jpg\n",
      "https://farm1.staticflickr.com/9/12668460_3e59ce4e61.jpg\n",
      "https://oversixtydev.blob.core.windows.net/media/7836891/bollywood.jpg\n"
     ]
    }
   ],
   "source": [
    "image_list = \"\"\"\n",
    "https://i.pinimg.com/originals/a4/58/91/a45891b8705f918291eaf248d40edabd.jpg\n",
    "https://farm1.staticflickr.com/9/12668460_3e59ce4e61.jpg\n",
    "https://oversixtydev.blob.core.windows.net/media/7836891/bollywood.jpg\n",
    "\"\"\"\n",
    "for url in image_list.split(\"\\n\"):\n",
    "    if url:\n",
    "        print(url)"
   ]
  },
  {
   "cell_type": "code",
   "execution_count": 14,
   "metadata": {},
   "outputs": [],
   "source": [
    " video_list = \"\"\"\n",
    "https://youtu.be/_T8LGqJtuGc\n",
    "https://www.youtube.com/watch?v=kmfC-i9WgH0\n",
    "https://www.youtube.com/embed/sSn4e1lLVpA\n",
    "http://www.rochikahn.com/video/videos/zapatillas.mp4\n",
    "http://www.marmosetcare.com/video/in-the-wild/intro.webm\n",
    "https://www.orthopedicone.com/u/home-vid-4.mp4\n",
    "\"\"\"\n",
    "x = tuple([i for i in video_list.split('\\n') if i ]) "
   ]
  },
  {
   "cell_type": "code",
   "execution_count": 15,
   "metadata": {},
   "outputs": [
    {
     "data": {
      "text/plain": [
       "('https://youtu.be/_T8LGqJtuGc',\n",
       " 'https://www.youtube.com/watch?v=kmfC-i9WgH0',\n",
       " 'https://www.youtube.com/embed/sSn4e1lLVpA',\n",
       " 'http://www.rochikahn.com/video/videos/zapatillas.mp4',\n",
       " 'http://www.marmosetcare.com/video/in-the-wild/intro.webm',\n",
       " 'https://www.orthopedicone.com/u/home-vid-4.mp4')"
      ]
     },
     "execution_count": 15,
     "metadata": {},
     "output_type": "execute_result"
    }
   ],
   "source": [
    "x"
   ]
  },
  {
   "cell_type": "code",
   "execution_count": 16,
   "metadata": {},
   "outputs": [
    {
     "data": {
      "text/plain": [
       "(array([ 2.,  2.,  2.,  3.,  3.,  7.,  4., 14.,  8., 10., 10.,  6., 10.,\n",
       "         9.,  4.,  1.,  3.,  0.,  1.,  1.]),\n",
       " array([-1.45936348, -1.19852579, -0.93768811, -0.67685043, -0.41601274,\n",
       "        -0.15517506,  0.10566262,  0.36650031,  0.62733799,  0.88817567,\n",
       "         1.14901336,  1.40985104,  1.67068872,  1.93152641,  2.19236409,\n",
       "         2.45320178,  2.71403946,  2.97487714,  3.23571483,  3.49655251,\n",
       "         3.75739019]),\n",
       " <BarContainer object of 20 artists>)"
      ]
     },
     "execution_count": 16,
     "metadata": {},
     "output_type": "execute_result"
    },
    {
     "data": {
      "image/png": "[encoded data removed]",
      "text/plain": [
       "<Figure size 432x288 with 1 Axes>"
      ]
     },
     "metadata": {
      "needs_background": "light"
     },
     "output_type": "display_data"
    }
   ],
   "source": [
    "import matplotlib.pyplot as plt\n",
    "import numpy as np\n",
    "\n",
    "f = plt.figure()\n",
    "arr = np.random.normal(1, 1, size=100)\n",
    "plt.hist(arr, bins=20)"
   ]
  },
  {
   "cell_type": "code",
   "execution_count": null,
   "metadata": {},
   "outputs": [],
   "source": []
  }
 ],
 "metadata": {
  "kernelspec": {
   "display_name": "Python 3",
   "language": "python",
   "name": "python3"
  },
  "language_info": {
   "codemirror_mode": {
    "name": "ipython",
    "version": 3
   },
   "file_extension": ".py",
   "mimetype": "text/x-python",
   "name": "python",
   "nbconvert_exporter": "python",
   "pygments_lexer": "ipython3",
   "version": "3.7.6"
  }
 },
 "nbformat": 4,
 "nbformat_minor": 4
}
