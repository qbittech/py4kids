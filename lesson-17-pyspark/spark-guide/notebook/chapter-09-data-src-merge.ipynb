{
 "cells": [
  {
   "cell_type": "code",
   "execution_count": 1,
   "metadata": {},
   "outputs": [],
   "source": [
    "from pyspark.sql import SparkSession\n",
    "import pyspark.sql.functions as F\n",
    "from pyspark.sql.types import *\n",
    "\n",
    "spark = SparkSession\\\n",
    "    .builder\\\n",
    "    .appName(\"df-merge\")\\\n",
    "    .getOrCreate()"
   ]
  },
  {
   "cell_type": "code",
   "execution_count": 2,
   "metadata": {},
   "outputs": [],
   "source": [
    "vt_files = spark.read.format(\"csv\")\\\n",
    "  .option(\"header\", \"true\")\\\n",
    "  .option(\"inferSchema\", \"true\")\\\n",
    "  .load(\"vt_files.csv\")"
   ]
  },
  {
   "cell_type": "code",
   "execution_count": 3,
   "metadata": {},
   "outputs": [
    {
     "name": "stdout",
     "output_type": "stream",
     "text": [
      "+-------+-----------------------------------------------------------+\n",
      "|file_id|s3_location                                                |\n",
      "+-------+-----------------------------------------------------------+\n",
      "|0      |s3://bucket/prefix/367a3ab9-2b5a-4997-804b-8cea2d32b2e5.mp3|\n",
      "|1      |s3://bucket/prefix/1bb77dfa-8576-4f0c-a96a-027ac646b631.mp3|\n",
      "|2      |s3://bucket/prefix/edf7ea24-0287-4836-b286-fa769734d0a7.mp3|\n",
      "|3      |s3://bucket/prefix/8e7ae1ff-5b45-438e-ac09-23f30f3f63e2.mp3|\n",
      "|4      |s3://bucket/prefix/f80cf03c-4deb-4e65-9604-6e9ded2d1b68.mp3|\n",
      "+-------+-----------------------------------------------------------+\n",
      "only showing top 5 rows\n",
      "\n"
     ]
    }
   ],
   "source": [
    "vt_files.show(5, False)"
   ]
  },
  {
   "cell_type": "code",
   "execution_count": 4,
   "metadata": {},
   "outputs": [],
   "source": [
    "vt_meta = spark.read.format(\"csv\")\\\n",
    "  .option(\"header\", \"true\")\\\n",
    "  .option(\"inferSchema\", \"true\")\\\n",
    "  .load(\"vt_meta.csv\")"
   ]
  },
  {
   "cell_type": "code",
   "execution_count": 8,
   "metadata": {},
   "outputs": [
    {
     "name": "stdout",
     "output_type": "stream",
     "text": [
      "+-------+------+----------+-------+----------+--------------------------+\n",
      "|file_id|lob   |team      |crew_id|client_id |creation_ts               |\n",
      "+-------+------+----------+-------+----------+--------------------------+\n",
      "|0      |retail|us-west   |uobh   |8555632908|2020-07-23 21:55:36.587912|\n",
      "|1      |fas   |us-west   |ux62   |7221348949|2020-07-23 21:55:36.587958|\n",
      "|2      |retail|us-central|uoxj   |4218789251|2020-07-23 21:55:36.588151|\n",
      "|3      |fas   |us-central|u33n   |2473658569|2020-07-23 21:55:36.588178|\n",
      "|4      |retail|us-central|ua1t   |3667278745|2020-07-23 21:55:36.588200|\n",
      "+-------+------+----------+-------+----------+--------------------------+\n",
      "only showing top 5 rows\n",
      "\n"
     ]
    }
   ],
   "source": [
    "vt_meta.show(5, False)"
   ]
  },
  {
   "cell_type": "code",
   "execution_count": 9,
   "metadata": {},
   "outputs": [
    {
     "data": {
      "text/plain": [
       "['file_id',\n",
       " 'lob',\n",
       " 'team',\n",
       " 'crew_id',\n",
       " 'client_id',\n",
       " 'creation_ts',\n",
       " 'file_id',\n",
       " 's3_location']"
      ]
     },
     "execution_count": 9,
     "metadata": {},
     "output_type": "execute_result"
    }
   ],
   "source": [
    "vt_meta.columns + vt_files.columns"
   ]
  },
  {
   "cell_type": "code",
   "execution_count": 10,
   "metadata": {},
   "outputs": [],
   "source": [
    "vt = vt_meta.alias('m').join(vt_files.alias('f'),\\\n",
    "        F.col('m.file_id')==F.col('f.file_id'))\\\n",
    "    .select([F.col('m.'+xx) for xx in vt_meta.columns] + [F.col('f.s3_location')])"
   ]
  },
  {
   "cell_type": "code",
   "execution_count": 11,
   "metadata": {},
   "outputs": [
    {
     "name": "stdout",
     "output_type": "stream",
     "text": [
      "+-------+------+----------+-------+----------+--------------------------+-----------------------------------------------------------+\n",
      "|file_id|lob   |team      |crew_id|client_id |creation_ts               |s3_location                                                |\n",
      "+-------+------+----------+-------+----------+--------------------------+-----------------------------------------------------------+\n",
      "|0      |retail|us-west   |uobh   |8555632908|2020-07-23 21:55:36.587912|s3://bucket/prefix/367a3ab9-2b5a-4997-804b-8cea2d32b2e5.mp3|\n",
      "|1      |fas   |us-west   |ux62   |7221348949|2020-07-23 21:55:36.587958|s3://bucket/prefix/1bb77dfa-8576-4f0c-a96a-027ac646b631.mp3|\n",
      "|2      |retail|us-central|uoxj   |4218789251|2020-07-23 21:55:36.588151|s3://bucket/prefix/edf7ea24-0287-4836-b286-fa769734d0a7.mp3|\n",
      "|3      |fas   |us-central|u33n   |2473658569|2020-07-23 21:55:36.588178|s3://bucket/prefix/8e7ae1ff-5b45-438e-ac09-23f30f3f63e2.mp3|\n",
      "|4      |retail|us-central|ua1t   |3667278745|2020-07-23 21:55:36.588200|s3://bucket/prefix/f80cf03c-4deb-4e65-9604-6e9ded2d1b68.mp3|\n",
      "+-------+------+----------+-------+----------+--------------------------+-----------------------------------------------------------+\n",
      "only showing top 5 rows\n",
      "\n"
     ]
    }
   ],
   "source": [
    "vt.show(5, False)"
   ]
  },
  {
   "cell_type": "code",
   "execution_count": 12,
   "metadata": {},
   "outputs": [],
   "source": [
    "vt.write.csv('vt_merge.csv',header=True)"
   ]
  },
  {
   "cell_type": "code",
   "execution_count": 13,
   "metadata": {},
   "outputs": [
    {
     "name": "stdout",
     "output_type": "stream",
     "text": [
      "vt_files.csv  vt_meta.csv\r\n",
      "\r\n",
      "vt_merge.csv:\r\n",
      "part-00000-ae6affa4-6224-4e57-bf60-2fe695a03218-c000.csv  _SUCCESS\r\n"
     ]
    }
   ],
   "source": [
    "!ls *.csv"
   ]
  },
  {
   "cell_type": "code",
   "execution_count": 14,
   "metadata": {},
   "outputs": [],
   "source": [
    "vt.write.parquet('vt_merge.parquet')"
   ]
  },
  {
   "cell_type": "code",
   "execution_count": null,
   "metadata": {},
   "outputs": [],
   "source": []
  }
 ],
 "metadata": {
  "kernelspec": {
   "display_name": "Python 3",
   "language": "python",
   "name": "python3"
  },
  "language_info": {
   "codemirror_mode": {
    "name": "ipython",
    "version": 3
   },
   "file_extension": ".py",
   "mimetype": "text/x-python",
   "name": "python",
   "nbconvert_exporter": "python",
   "pygments_lexer": "ipython3",
   "version": "3.7.6"
  }
 },
 "nbformat": 4,
 "nbformat_minor": 4
}
