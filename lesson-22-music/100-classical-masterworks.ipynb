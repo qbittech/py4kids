{
 "cells": [
  {
   "cell_type": "raw",
   "metadata": {},
   "source": [
    "https://www.youtube.com/watch?v=mlMz-x1zstI&feature=emb_logo"
   ]
  },
  {
   "cell_type": "code",
   "execution_count": 1,
   "metadata": {},
   "outputs": [],
   "source": [
    "from classical_music import *\n",
    "\n",
    "file_txt = \"100-classical-masterworks.txt\"\n",
    "\n",
    "file_html = file_txt.replace(\".txt\", \".html\")"
   ]
  },
  {
   "cell_type": "code",
   "execution_count": 2,
   "metadata": {},
   "outputs": [],
   "source": [
    "namemap = read_namemap()"
   ]
  },
  {
   "cell_type": "code",
   "execution_count": 3,
   "metadata": {},
   "outputs": [
    {
     "data": {
      "text/plain": [
       "({'vid': 'mVju10GtMXI',\n",
       "  'vid_name': '100 Classical Masterworks',\n",
       "  'channel_id': 'UClScm1QV2xecmZrAuADnP9g',\n",
       "  'channel_name': 'Essential Classic'},\n",
       " ['', '### CLASSICAL PERIOD'])"
      ]
     },
     "execution_count": 3,
     "metadata": {},
     "output_type": "execute_result"
    }
   ],
   "source": [
    "meta_map, lines = parse_file_txt(file_txt)\n",
    "\n",
    "meta_map, lines[:2]"
   ]
  },
  {
   "cell_type": "raw",
   "metadata": {},
   "source": [
    "namemap = read_namemap()"
   ]
  },
  {
   "cell_type": "code",
   "execution_count": 4,
   "metadata": {},
   "outputs": [],
   "source": [
    "# this is data file specific\n",
    "def parse_line(l):\n",
    "    \"\"\"parse text-line into data elements\n",
    "    \n",
    "    sample:\n",
    "        1 Mozart - Eine Kleine Nachtmusik: I. Allegro 00:00\n",
    "\n",
    "    Returns:\n",
    "        [id, ts, lastname, title]\n",
    "    \"\"\"\n",
    "    tmp = l.split(\" - \")\n",
    "    tmp1 = tmp[0].split(\" \")\n",
    "    _id, lastname = tmp1[0], \" \".join(tmp1[1:])\n",
    "    \n",
    "    tmp2 = \" - \".join(tmp[1:]).split(\" \")\n",
    "    title = \" \".join(tmp2[:-1])\n",
    "    ts = tmp2[-1]\n",
    "    return [_id.strip(), ts.strip(), lastname.strip(), title.strip()]\n"
   ]
  },
  {
   "cell_type": "code",
   "execution_count": 5,
   "metadata": {},
   "outputs": [
    {
     "name": "stdout",
     "output_type": "stream",
     "text": [
      "['1', '00:00', 'Mozart', 'Eine Kleine Nachtmusik: I. Allegro']\n"
     ]
    }
   ],
   "source": [
    "line = \"1 Mozart - Eine Kleine Nachtmusik: I. Allegro 00:00\"\n",
    "print(parse_line(line))"
   ]
  },
  {
   "cell_type": "code",
   "execution_count": 6,
   "metadata": {},
   "outputs": [],
   "source": [
    "records = []\n",
    "for i in lines:\n",
    "    i = i.strip()\n",
    "    if not i: \n",
    "        continue\n",
    "        \n",
    "    # handle header\n",
    "    if \"###\" in i:\n",
    "        records.append([i])\n",
    "        continue\n",
    "        \n",
    "    try:\n",
    "        _id, ts, lastname, title = parse_line(i)\n",
    "        if lastname not in namemap:\n",
    "            print(f\"[ERROR] {lastname} not found in namemap\\n row={i}\")\n",
    "        else:\n",
    "            records.append([_id, \n",
    "                            make_youtube_link(meta_map[\"vid\"], ts), \n",
    "                            make_href(namemap[lastname][\"fullname\"] ,namemap[lastname][\"url\"]), \n",
    "                            title]\n",
    "                        )\n",
    "    except Exception as ex:\n",
    "        raise ValueError(f\"[ERROR] str(ex)\\n row={i}\")"
   ]
  },
  {
   "cell_type": "code",
   "execution_count": 7,
   "metadata": {},
   "outputs": [
    {
     "data": {
      "text/plain": [
       "[['### CLASSICAL PERIOD'],\n",
       " ['1',\n",
       "  '<a href=https://www.youtube.com/watch?v=mVju10GtMXI&t=0s target=new>00:00</a>',\n",
       "  '<a href=https://www.wikiwand.com/en/Wolfgang_Amadeus_Mozart target=new>Wolfgang Amadeus Mozart</a>',\n",
       "  'Eine Kleine Nachtmusik: I. Allegro'],\n",
       " ['2',\n",
       "  '<a href=https://www.youtube.com/watch?v=mVju10GtMXI&t=362s target=new>06:02</a>',\n",
       "  '<a href=https://www.wikiwand.com/en/Ludwig_van_Beethoven target=new>Ludwig van Beethoven</a>',\n",
       "  'Symphony No. 3, Op. 55 ‘Eroica’: I. Allegro con brio']]"
      ]
     },
     "execution_count": 7,
     "metadata": {},
     "output_type": "execute_result"
    }
   ],
   "source": [
    "records[:3]"
   ]
  },
  {
   "cell_type": "code",
   "execution_count": 9,
   "metadata": {},
   "outputs": [],
   "source": [
    "# write out HTML file\n",
    "with open(file_html, \"w\") as f:\n",
    "    \n",
    "    f.write(f\"\"\"\n",
    "        <h1>\n",
    "        <a href=https://www.youtube.com/watch?v={meta_map[\"vid\"]}>{meta_map[\"vid_name\"]}</a> </h1> \n",
    "        <h2>by <a href=https://www.youtube.com/channel/{meta_map[\"channel_id\"]}>{meta_map[\"channel_name\"]}</a>\n",
    "        </h2>\n",
    "        <br>\n",
    "    \"\"\")\n",
    "\n",
    "    h3_count = 0\n",
    "    for r in records:\n",
    "        # f.write(f\"r = {r}\\n\")\n",
    "        if len(r) == 1:\n",
    "            \n",
    "            if h3_count:\n",
    "                f.write('</table>')                \n",
    "\n",
    "            f.write(f\"\"\"\n",
    "                <h3>{r[0].replace(\"###\", \"\")}</h3>\n",
    "                <table style=\"width:100%\" border=1px>\n",
    "                  <tr>\n",
    "                    <th>Id</th>\n",
    "                    <th>Track TS</th>\n",
    "                    <th>Musician</th>\n",
    "                    <th>Title</th>\n",
    "                  </tr>\n",
    "            \"\"\")\n",
    "            \n",
    "            h3_count += 1\n",
    "\n",
    "        elif len(r) == 4:\n",
    "            \n",
    "            f.write(f\"\"\"<tr>\n",
    "                <td>{r[0]}</td>\n",
    "                <td>{r[1]}</td>\n",
    "                <td>{r[2]}</td>\n",
    "                <td>{r[3]}</td>\n",
    "              </tr>\n",
    "            \"\"\")\n",
    "            \n",
    "        else:\n",
    "            print(f\"[ERROR] unknown record {r}\")\n",
    "            \n",
    "    f.write('</table>')"
   ]
  },
  {
   "cell_type": "code",
   "execution_count": null,
   "metadata": {},
   "outputs": [],
   "source": []
  },
  {
   "cell_type": "code",
   "execution_count": null,
   "metadata": {},
   "outputs": [],
   "source": []
  }
 ],
 "metadata": {
  "kernelspec": {
   "display_name": "Python 3",
   "language": "python",
   "name": "python3"
  },
  "language_info": {
   "codemirror_mode": {
    "name": "ipython",
    "version": 3
   },
   "file_extension": ".py",
   "mimetype": "text/x-python",
   "name": "python",
   "nbconvert_exporter": "python",
   "pygments_lexer": "ipython3",
   "version": "3.7.6"
  }
 },
 "nbformat": 4,
 "nbformat_minor": 4
}
