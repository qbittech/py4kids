{
 "cells": [
  {
   "cell_type": "markdown",
   "metadata": {},
   "source": [
    "reformat metadata for https://www.youtube.com/watch?v=i0b29lAuMlg&feature=youtu.be"
   ]
  },
  {
   "cell_type": "code",
   "execution_count": 1,
   "metadata": {},
   "outputs": [],
   "source": [
    "from classical_music import *\n",
    "\n",
    "file_txt = \"100-classical-pieces.txt\"\n",
    "\n",
    "file_html = file_txt.replace(\".txt\", \".html\")"
   ]
  },
  {
   "cell_type": "code",
   "execution_count": 2,
   "metadata": {},
   "outputs": [
    {
     "data": {
      "text/plain": [
       "({'vid': 'K3He_GSvFzY',\n",
       "  'vid_name': '100 Classical Pieces',\n",
       "  'channel_id': 'UCyOfqgtsQaM3S-VZnsYnHjQ',\n",
       "  'channel_name': 'HALIDONMUSIC'},\n",
       " ['1-3 Vivaldi - The Four Seasons, ‘Spring’ 00:00',\n",
       "  '4-7 Telemann - Viola Concerto TWV 09:00'])"
      ]
     },
     "execution_count": 2,
     "metadata": {},
     "output_type": "execute_result"
    }
   ],
   "source": [
    "meta_map, lines = parse_file_txt(file_txt)\n",
    "\n",
    "meta_map, lines[:2]"
   ]
  },
  {
   "cell_type": "code",
   "execution_count": 3,
   "metadata": {},
   "outputs": [],
   "source": [
    "# this is data file specific\n",
    "def parse_line(l):\n",
    "    \"\"\"parse text-line into data elements\n",
    "    \n",
    "    sample:\n",
    "        11-13 Bach - Harpsichord Concerto No. 1 (Arr. for Piano) I. Allegro 28:19 \n",
    "        \n",
    "    returns:\n",
    "        [id, ts, name, title]\n",
    "    \"\"\"\n",
    "    tmp = l.split(\" - \")\n",
    "    tmp1 = tmp[0].split(\" \")\n",
    "    _id, last_name = tmp1[0], \" \".join(tmp1[1:])\n",
    "    tmp2 = [i.strip() for i in tmp[-1].split(\" \") if i.strip()]\n",
    "    title = \" \".join(tmp2[:-1])\n",
    "    ts = tmp2[-1]\n",
    "    return [_id.strip(), ts.strip(), last_name.strip(), title.strip()]"
   ]
  },
  {
   "cell_type": "code",
   "execution_count": 4,
   "metadata": {},
   "outputs": [
    {
     "data": {
      "text/plain": [
       "['11-13',\n",
       " '28:19',\n",
       " 'Bach',\n",
       " 'Harpsichord Concerto No. 1 (Arr. for Piano) I. Allegro']"
      ]
     },
     "execution_count": 4,
     "metadata": {},
     "output_type": "execute_result"
    }
   ],
   "source": [
    "line = \"11-13 Bach - Harpsichord Concerto No. 1 (Arr. for Piano) I. Allegro 28:19 \"\n",
    "d = parse_line(line)\n",
    "d"
   ]
  },
  {
   "cell_type": "code",
   "execution_count": 5,
   "metadata": {},
   "outputs": [
    {
     "name": "stdout",
     "output_type": "stream",
     "text": [
      "[ERROR] Floridia not found in name_map\n",
      "[ERROR] Einaudi not found in name_map\n",
      "[ERROR] Rota not found in name_map\n",
      "[ERROR] Lanzetta not found in name_map\n",
      "[ERROR] Rota not found in name_map\n"
     ]
    }
   ],
   "source": [
    "records = []\n",
    "for i in lines:\n",
    "    i = i.strip()\n",
    "    if not i: \n",
    "        continue\n",
    "    d = parse_line(i)\n",
    "    # records.append(d)\n",
    "    if d[2] not in name_map:\n",
    "        print(f\"[ERROR] {d[2]} not found in name_map\")\n",
    "    else:\n",
    "        records.append([d[0].replace(\".\", \"\"), make_youtube_link(meta_map[\"vid\"], d[1]), make_wikiwand_link(name_map[d[2]]), d[-1]])"
   ]
  },
  {
   "cell_type": "raw",
   "metadata": {},
   "source": [
    "Litvinovsky - https://en.everybodywiki.com/Alexander_Litvinovsky"
   ]
  },
  {
   "cell_type": "code",
   "execution_count": 6,
   "metadata": {},
   "outputs": [
    {
     "data": {
      "text/plain": [
       "[['1-3',\n",
       "  '<a href=https://www.youtube.com/watch?v=K3He_GSvFzY&t=0s>00:00:00</a>',\n",
       "  '<a href=https://www.wikiwand.com/en/Antonio_Vivaldi>Antonio Vivaldi</a>',\n",
       "  'The Four Seasons, ‘Spring’'],\n",
       " ['4-7',\n",
       "  '<a href=https://www.youtube.com/watch?v=K3He_GSvFzY&t=540s>00:09:00</a>',\n",
       "  '<a href=https://www.wikiwand.com/en/Georg_Philipp_Telemann>Georg Philipp Telemann</a>',\n",
       "  'Viola Concerto TWV'],\n",
       " ['8-10',\n",
       "  '<a href=https://www.youtube.com/watch?v=K3He_GSvFzY&t=1139s>00:18:59</a>',\n",
       "  '<a href=https://www.wikiwand.com/en/Antonio_Vivaldi>Antonio Vivaldi</a>',\n",
       "  'Symphony RV. 112']]"
      ]
     },
     "execution_count": 6,
     "metadata": {},
     "output_type": "execute_result"
    }
   ],
   "source": [
    "records[:3]"
   ]
  },
  {
   "cell_type": "code",
   "execution_count": 7,
   "metadata": {},
   "outputs": [],
   "source": [
    "# write out HTML file\n",
    "with open(file_html, \"w\") as f:\n",
    "    \n",
    "    f.write(f\"\"\"<h1>\n",
    "    <a href=https://www.youtube.com/watch?v={meta_map[\"vid\"]}>{meta_map[\"vid_name\"]}</a> </h1> \n",
    "    <h2>by <a href=https://www.youtube.com/channel/{meta_map[\"channel_id\"]}>{meta_map[\"channel_name\"]}</a>\n",
    "    </h2>\n",
    "    <br>\n",
    "    <table style=\"width:100%\" border=1px>\n",
    "    \"\"\")\n",
    "    \n",
    "    f.write(\"\"\"<tr>\n",
    "        <th>Id</th>\n",
    "        <th>Track TS</th>\n",
    "        <th>Musician</th>\n",
    "        <th>Title</th>\n",
    "      </tr>\"\"\")\n",
    "    for r in records:\n",
    "        f.write(f\"\"\"<tr>\n",
    "            <td>{r[0]}</td>\n",
    "            <td>{r[1]}</td>\n",
    "            <td>{r[2]}</td>\n",
    "            <td>{r[3]}</td>\n",
    "          </tr>\"\"\")\n",
    "    f.write('</table>')"
   ]
  },
  {
   "cell_type": "code",
   "execution_count": null,
   "metadata": {},
   "outputs": [],
   "source": []
  },
  {
   "cell_type": "code",
   "execution_count": null,
   "metadata": {},
   "outputs": [],
   "source": []
  }
 ],
 "metadata": {
  "kernelspec": {
   "display_name": "Python 3",
   "language": "python",
   "name": "python3"
  },
  "language_info": {
   "codemirror_mode": {
    "name": "ipython",
    "version": 3
   },
   "file_extension": ".py",
   "mimetype": "text/x-python",
   "name": "python",
   "nbconvert_exporter": "python",
   "pygments_lexer": "ipython3",
   "version": "3.7.6"
  }
 },
 "nbformat": 4,
 "nbformat_minor": 4
}
