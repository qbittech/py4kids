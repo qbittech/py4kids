{
 "cells": [
  {
   "cell_type": "markdown",
   "metadata": {},
   "source": [
    "reformat metadata for https://www.youtube.com/watch?v=T_Dy9OvgjHY"
   ]
  },
  {
   "cell_type": "code",
   "execution_count": 1,
   "metadata": {},
   "outputs": [],
   "source": [
    "from classical_music import *\n",
    "\n",
    "file_txt = \"8-hours-classical-music.txt\"\n",
    "\n",
    "file_html = file_txt.replace(\".txt\", \".html\")"
   ]
  },
  {
   "cell_type": "code",
   "execution_count": 2,
   "metadata": {},
   "outputs": [],
   "source": [
    "namemap = read_namemap()"
   ]
  },
  {
   "cell_type": "code",
   "execution_count": 3,
   "metadata": {},
   "outputs": [
    {
     "data": {
      "text/plain": [
       "({'vid': 'T_Dy9OvgjHY',\n",
       "  'vid_name': '8 Hours The Best of Classical Music',\n",
       "  'channel_id': 'UC0KnpsNHuZPwJnF_RVbTrLw',\n",
       "  'channel_name': 'Classical Music Compilation'},\n",
       " [\"00:00 - Vivaldi - Violin Concerto in E major, RV 269 'Spring' - I. Allegro\",\n",
       "  \"03:35 - Vivaldi - Violin Concerto in E major, RV 269 'Spring' - II. Largo\"])"
      ]
     },
     "execution_count": 3,
     "metadata": {},
     "output_type": "execute_result"
    }
   ],
   "source": [
    "meta_map, lines = parse_file_txt(file_txt)\n",
    "\n",
    "meta_map, lines[:2]"
   ]
  },
  {
   "cell_type": "code",
   "execution_count": 4,
   "metadata": {},
   "outputs": [],
   "source": [
    "# this is data file specific\n",
    "def parse_line(l):\n",
    "    \"\"\"parse text-line into data elements\n",
    "    \n",
    "    sample:\n",
    "        17:57 - Mozart - Magic Flute Overture\n",
    "        \n",
    "    returns:\n",
    "        [ts, name, title]\n",
    "    \"\"\"\n",
    "    tmp = l.split(\" - \")\n",
    "    ts = tmp[0]\n",
    "    lastname = tmp[1]\n",
    "    title = \" - \".join(tmp[2:])\n",
    "    return [ts.strip(), lastname.strip(), title.strip()]"
   ]
  },
  {
   "cell_type": "code",
   "execution_count": 5,
   "metadata": {},
   "outputs": [
    {
     "data": {
      "text/plain": [
       "['17:57', 'Mozart', 'Magic Flute Overture']"
      ]
     },
     "execution_count": 5,
     "metadata": {},
     "output_type": "execute_result"
    }
   ],
   "source": [
    "line = \"17:57 - Mozart - Magic Flute Overture\"\n",
    "d = parse_line(line)\n",
    "d"
   ]
  },
  {
   "cell_type": "code",
   "execution_count": 6,
   "metadata": {},
   "outputs": [],
   "source": [
    "records = []\n",
    "for i in lines:\n",
    "    i = i.strip()\n",
    "    if not i: \n",
    "        continue\n",
    "    ts, lastname, title = parse_line(i)\n",
    "    if lastname not in namemap:\n",
    "        print(f\"[ERROR] {lastname} not found in namemap\")\n",
    "    else:\n",
    "        records.append([make_youtube_link(meta_map[\"vid\"], ts), \n",
    "                        make_href(namemap[lastname][\"fullname\"] ,namemap[lastname][\"url\"]), \n",
    "                        title]\n",
    "                    )"
   ]
  },
  {
   "cell_type": "code",
   "execution_count": 7,
   "metadata": {},
   "outputs": [
    {
     "data": {
      "text/plain": [
       "[['<a href=https://www.youtube.com/watch?v=T_Dy9OvgjHY&t=0s target=new>00:00</a>',\n",
       "  '<a href=https://www.wikiwand.com/en/Antonio_Vivaldi target=new>Antonio Vivaldi</a>',\n",
       "  \"Violin Concerto in E major, RV 269 'Spring' - I. Allegro\"],\n",
       " ['<a href=https://www.youtube.com/watch?v=T_Dy9OvgjHY&t=215s target=new>03:35</a>',\n",
       "  '<a href=https://www.wikiwand.com/en/Antonio_Vivaldi target=new>Antonio Vivaldi</a>',\n",
       "  \"Violin Concerto in E major, RV 269 'Spring' - II. Largo\"],\n",
       " ['<a href=https://www.youtube.com/watch?v=T_Dy9OvgjHY&t=387s target=new>06:27</a>',\n",
       "  '<a href=https://www.wikiwand.com/en/Antonio_Vivaldi target=new>Antonio Vivaldi</a>',\n",
       "  \"Violin Concerto in E major, RV 269 'Spring' - III. Allegro\"]]"
      ]
     },
     "execution_count": 7,
     "metadata": {},
     "output_type": "execute_result"
    }
   ],
   "source": [
    "records[:3]"
   ]
  },
  {
   "cell_type": "code",
   "execution_count": 8,
   "metadata": {},
   "outputs": [],
   "source": [
    "# write out HTML file\n",
    "with open(file_html, \"w\") as f:\n",
    "    \n",
    "    f.write(f\"\"\"<h1>\n",
    "    <a href=https://www.youtube.com/watch?v={meta_map[\"vid\"]}>{meta_map[\"vid_name\"]}</a> </h1> \n",
    "    <h2>by <a href=https://www.youtube.com/channel/{meta_map[\"channel_id\"]}>{meta_map[\"channel_name\"]}</a>\n",
    "    </h2>\n",
    "    <br>\n",
    "    <table style=\"width:100%\" border=1px>\n",
    "    \"\"\")\n",
    "    \n",
    "    f.write(\"\"\"<tr>\n",
    "        <th>Id</th>\n",
    "        <th>Track TS</th>\n",
    "        <th>Musician</th>\n",
    "        <th>Title</th>\n",
    "      </tr>\"\"\")\n",
    "    for n,r in enumerate(records):\n",
    "        f.write(f\"\"\"<tr>\n",
    "            <td>{n}</td>\n",
    "            <td>{r[0]}</td>\n",
    "            <td>{r[1]}</td>\n",
    "            <td>{r[2]}</td>\n",
    "          </tr>\"\"\")\n",
    "    f.write('</table>')"
   ]
  },
  {
   "cell_type": "code",
   "execution_count": null,
   "metadata": {},
   "outputs": [],
   "source": []
  },
  {
   "cell_type": "code",
   "execution_count": null,
   "metadata": {},
   "outputs": [],
   "source": []
  }
 ],
 "metadata": {
  "kernelspec": {
   "display_name": "Python 3",
   "language": "python",
   "name": "python3"
  },
  "language_info": {
   "codemirror_mode": {
    "name": "ipython",
    "version": 3
   },
   "file_extension": ".py",
   "mimetype": "text/x-python",
   "name": "python",
   "nbconvert_exporter": "python",
   "pygments_lexer": "ipython3",
   "version": "3.7.6"
  }
 },
 "nbformat": 4,
 "nbformat_minor": 4
}
