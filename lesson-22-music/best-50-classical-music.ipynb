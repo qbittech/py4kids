{
 "cells": [
  {
   "cell_type": "raw",
   "metadata": {},
   "source": [
    "https://www.youtube.com/watch?v=mlMz-x1zstI&feature=emb_logo"
   ]
  },
  {
   "cell_type": "code",
   "execution_count": 21,
   "metadata": {},
   "outputs": [],
   "source": [
    "file_txt = \"best-50-classical-music.txt\"\n",
    "file_html = file_txt.replace(\".txt\", \".html\")\n",
    "with open(file_txt) as f:\n",
    "    data = f.read().split(\"\\n\")"
   ]
  },
  {
   "cell_type": "code",
   "execution_count": 28,
   "metadata": {},
   "outputs": [],
   "source": [
    "def ts2sec(ts):\n",
    "    tmp = ts.split(\":\")\n",
    "    if len(tmp) >= 3:\n",
    "        sec = 60*60*int(tmp[0]) + 60*int(tmp[1]) + int(tmp[2])\n",
    "    elif len(tmp) == 2:\n",
    "        sec = 60*int(tmp[0]) + int(tmp[1])\n",
    "    else:\n",
    "        sec = int(tmp[0])\n",
    "    return sec\n",
    "        \n",
    "def make_youtube_url(sec, vid=\"mlMz-x1zstI\"):\n",
    "    return f\"https://www.youtube.com/watch?v={vid}&t={sec}s\"\n",
    "\n",
    "def make_wikiwand_url(name):\n",
    "    nm = \"_\".join([i.strip() for i in name.split(\" \") if i.strip()])\n",
    "    return f\"https://www.wikiwand.com/en/{nm}\"\n",
    "\n",
    "def make_youtube_link(ts):\n",
    "    youtube_url = make_youtube_url(ts2sec(ts))\n",
    "    ts = \"00:\"+ts if len(ts) < 8 else ts\n",
    "    return f\"\"\"<a href={youtube_url}>{ts}</a>\"\"\"\n",
    "\n",
    "def make_wikiwand_link(name):\n",
    "    wiki_url = make_wikiwand_url(name)\n",
    "    return f\"\"\"<a href={wiki_url}>{name}</a>\"\"\"\n"
   ]
  },
  {
   "cell_type": "code",
   "execution_count": 29,
   "metadata": {},
   "outputs": [],
   "source": [
    "records = []\n",
    "for i in data:\n",
    "    i = i.strip()\n",
    "    if not i: continue\n",
    "    d = [r.strip() for r in i.split(\" - \")]\n",
    "    records.append((make_youtube_link(d[0]), make_wikiwand_link(d[1]), \" - \".join(d[2:])))"
   ]
  },
  {
   "cell_type": "code",
   "execution_count": 30,
   "metadata": {},
   "outputs": [
    {
     "data": {
      "text/plain": [
       "[('<a href=https://www.youtube.com/watch?v=mlMz-x1zstI&t=0s>00:00:00</a>',\n",
       "  '<a href=https://www.wikiwand.com/en/Antonín_Dvořák>Antonín Dvořák</a>',\n",
       "  'Symphony No. 9 in E Minor, Op. 95, B. 178 From the New World: IV. Allegro con fuoco'),\n",
       " ('<a href=https://www.youtube.com/watch?v=mlMz-x1zstI&t=671s>00:11:11</a>',\n",
       "  '<a href=https://www.wikiwand.com/en/Carl_Orff>Carl Orff</a>',\n",
       "  'Carmina burana: O fortuna'),\n",
       " ('<a href=https://www.youtube.com/watch?v=mlMz-x1zstI&t=801s>00:13:21</a>',\n",
       "  '<a href=https://www.wikiwand.com/en/Gustav_Mahler>Gustav Mahler</a>',\n",
       "  'Symphony No. 5 in C-Sharp Minor: IV. Adagietto')]"
      ]
     },
     "execution_count": 30,
     "metadata": {},
     "output_type": "execute_result"
    }
   ],
   "source": [
    "records[:3]"
   ]
  },
  {
   "cell_type": "code",
   "execution_count": 33,
   "metadata": {},
   "outputs": [],
   "source": [
    "with open(file_html, \"w\") as f:\n",
    "    \n",
    "    f.write(\"\"\"<h1>\n",
    "    <a href=https://www.youtube.com/watch?v=mlMz-x1zstI>The 50 Best Tracks of Classical Music</a> </h1> \n",
    "    <h2>by <a href=https://www.youtube.com/channel/UCyoYFNMkbkA3QQXjtonJACA>Classical Experience</a> YouTube channel\n",
    "    </h2>\n",
    "    <br>\n",
    "    <table style=\"width:100%\" border=1px>\n",
    "    \"\"\")\n",
    "    \n",
    "    f.write(\"\"\"<tr>\n",
    "        <th>Id</th>\n",
    "        <th>Track TS</th>\n",
    "        <th>Musician</th>\n",
    "        <th>Title</th>\n",
    "      </tr>\"\"\")\n",
    "    for n, r in enumerate(records):\n",
    "        f.write(f\"\"\"<tr>\n",
    "            <td>{n+1}</td>\n",
    "            <td>{r[0]}</td>\n",
    "            <td>{r[1]}</td>\n",
    "            <td>{r[2]}</td>\n",
    "          </tr>\"\"\")\n",
    "    f.write('</table>')"
   ]
  },
  {
   "cell_type": "code",
   "execution_count": null,
   "metadata": {},
   "outputs": [],
   "source": []
  },
  {
   "cell_type": "code",
   "execution_count": 10,
   "metadata": {},
   "outputs": [
    {
     "data": {
      "text/plain": [
       "3987"
      ]
     },
     "execution_count": 10,
     "metadata": {},
     "output_type": "execute_result"
    }
   ],
   "source": [
    "ts = '01:06:27'\n",
    "ts2sec(ts)"
   ]
  },
  {
   "cell_type": "markdown",
   "metadata": {},
   "source": [
    "https://www.youtube.com/watch?v=mlMz-x1zstI&t=3987s\n",
    "    \n",
    "https://www.wikiwand.com/en/Edvard_Grieg"
   ]
  },
  {
   "cell_type": "code",
   "execution_count": null,
   "metadata": {},
   "outputs": [],
   "source": []
  }
 ],
 "metadata": {
  "kernelspec": {
   "display_name": "Python 3",
   "language": "python",
   "name": "python3"
  },
  "language_info": {
   "codemirror_mode": {
    "name": "ipython",
    "version": 3
   },
   "file_extension": ".py",
   "mimetype": "text/x-python",
   "name": "python",
   "nbconvert_exporter": "python",
   "pygments_lexer": "ipython3",
   "version": "3.7.6"
  }
 },
 "nbformat": 4,
 "nbformat_minor": 4
}
