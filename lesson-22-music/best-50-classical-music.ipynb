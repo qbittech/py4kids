{
 "cells": [
  {
   "cell_type": "raw",
   "metadata": {},
   "source": [
    "https://www.youtube.com/watch?v=mlMz-x1zstI&feature=emb_logo"
   ]
  },
  {
   "cell_type": "code",
   "execution_count": 1,
   "metadata": {},
   "outputs": [],
   "source": [
    "from classical_music import *\n",
    "\n",
    "file_txt = \"best-50-classical-music.txt\"\n",
    "\n",
    "file_html = file_txt.replace(\".txt\", \".html\")"
   ]
  },
  {
   "cell_type": "code",
   "execution_count": 2,
   "metadata": {},
   "outputs": [
    {
     "data": {
      "text/plain": [
       "({'vid': 'mlMz-x1zstI',\n",
       "  'vid_name': '50 Best Tracks of Classical Music',\n",
       "  'channel_id': 'UCyoYFNMkbkA3QQXjtonJACA',\n",
       "  'channel_name': 'Classical Experience'},\n",
       " ['00:00 - Antonín Dvořák - Symphony No. 9 in E Minor, Op. 95, B. 178 From the New World: IV. Allegro con fuoco',\n",
       "  '11:11 - Carl Orff - Carmina burana: O fortuna'])"
      ]
     },
     "execution_count": 2,
     "metadata": {},
     "output_type": "execute_result"
    }
   ],
   "source": [
    "meta_map, lines = parse_file_txt(file_txt)\n",
    "\n",
    "meta_map, lines[:2]"
   ]
  },
  {
   "cell_type": "raw",
   "metadata": {},
   "source": [
    "namemap = read_namemap()"
   ]
  },
  {
   "cell_type": "code",
   "execution_count": 3,
   "metadata": {},
   "outputs": [],
   "source": [
    "# this is data file specific\n",
    "def parse_line(l):\n",
    "    \"\"\"parse text-line into data elements\n",
    "    \n",
    "    sample:\n",
    "        01:06:27 - Marc-Antoine Charpentier - Te Deum, H. 146: Prelude\n",
    "\n",
    "    Returns:\n",
    "        [ts, name, title]\n",
    "    \"\"\"\n",
    "    tmp = l.split(\" - \")\n",
    "    ts = tmp[0].strip()\n",
    "    full_name = tmp[1].strip()\n",
    "    title = \" - \".join(tmp[2:])\n",
    "    return [ts, full_name, title]"
   ]
  },
  {
   "cell_type": "code",
   "execution_count": 4,
   "metadata": {},
   "outputs": [
    {
     "name": "stdout",
     "output_type": "stream",
     "text": [
      "['01:06:27', 'Marc-Antoine Charpentier', 'Te Deum, H. 146: Prelude']\n"
     ]
    }
   ],
   "source": [
    "line = \"01:06:27 - Marc-Antoine Charpentier - Te Deum, H. 146: Prelude\"\n",
    "print(parse_line(line))"
   ]
  },
  {
   "cell_type": "code",
   "execution_count": 5,
   "metadata": {},
   "outputs": [],
   "source": [
    "records = []\n",
    "for i in lines:\n",
    "    i = i.strip()\n",
    "    if not i: \n",
    "        continue\n",
    "    d = parse_line(i)\n",
    "    records.append([make_youtube_link(meta_map[\"vid\"], d[0]), make_wikiwand_link(d[1]), d[2]])"
   ]
  },
  {
   "cell_type": "code",
   "execution_count": 6,
   "metadata": {},
   "outputs": [
    {
     "data": {
      "text/plain": [
       "[['<a href=https://www.youtube.com/watch?v=mlMz-x1zstI&t=0s target=new>00:00:00</a>',\n",
       "  '<a href=https://www.wikiwand.com/en/Antonín_Dvořák target=new>Antonín Dvořák</a>',\n",
       "  'Symphony No. 9 in E Minor, Op. 95, B. 178 From the New World: IV. Allegro con fuoco'],\n",
       " ['<a href=https://www.youtube.com/watch?v=mlMz-x1zstI&t=671s target=new>00:11:11</a>',\n",
       "  '<a href=https://www.wikiwand.com/en/Carl_Orff target=new>Carl Orff</a>',\n",
       "  'Carmina burana: O fortuna'],\n",
       " ['<a href=https://www.youtube.com/watch?v=mlMz-x1zstI&t=801s target=new>00:13:21</a>',\n",
       "  '<a href=https://www.wikiwand.com/en/Gustav_Mahler target=new>Gustav Mahler</a>',\n",
       "  'Symphony No. 5 in C-Sharp Minor: IV. Adagietto']]"
      ]
     },
     "execution_count": 6,
     "metadata": {},
     "output_type": "execute_result"
    }
   ],
   "source": [
    "records[:3]"
   ]
  },
  {
   "cell_type": "code",
   "execution_count": 7,
   "metadata": {},
   "outputs": [],
   "source": [
    "with open(file_html, \"w\") as f:\n",
    "    \n",
    "    f.write(f\"\"\"<h1>\n",
    "    <a href=https://www.youtube.com/watch?v={meta_map[\"vid\"]}>{meta_map[\"vid_name\"]}</a> </h1> \n",
    "    <h2>by <a href=https://www.youtube.com/channel/{meta_map[\"channel_id\"]}>{meta_map[\"channel_name\"]}</a>\n",
    "    </h2>\n",
    "    <br>\n",
    "    <table style=\"width:100%\" border=1px>\n",
    "    \"\"\")\n",
    "    \n",
    "    f.write(\"\"\"<tr>\n",
    "        <th>Id</th>\n",
    "        <th>Track TS</th>\n",
    "        <th>Musician</th>\n",
    "        <th>Title</th>\n",
    "      </tr>\"\"\")\n",
    "    for n, r in enumerate(records):\n",
    "        f.write(f\"\"\"<tr>\n",
    "            <td>{n+1}</td>\n",
    "            <td>{r[0]}</td>\n",
    "            <td>{r[1]}</td>\n",
    "            <td>{r[2]}</td>\n",
    "          </tr>\"\"\")\n",
    "    f.write('</table>')"
   ]
  },
  {
   "cell_type": "code",
   "execution_count": null,
   "metadata": {},
   "outputs": [],
   "source": []
  },
  {
   "cell_type": "code",
   "execution_count": null,
   "metadata": {},
   "outputs": [],
   "source": []
  }
 ],
 "metadata": {
  "kernelspec": {
   "display_name": "Python 3",
   "language": "python",
   "name": "python3"
  },
  "language_info": {
   "codemirror_mode": {
    "name": "ipython",
    "version": 3
   },
   "file_extension": ".py",
   "mimetype": "text/x-python",
   "name": "python",
   "nbconvert_exporter": "python",
   "pygments_lexer": "ipython3",
   "version": "3.7.6"
  }
 },
 "nbformat": 4,
 "nbformat_minor": 4
}
