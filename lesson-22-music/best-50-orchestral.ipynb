{
 "cells": [
  {
   "cell_type": "markdown",
   "metadata": {},
   "source": [
    "reformat metadata for https://www.youtube.com/watch?v=i0b29lAuMlg&feature=youtu.be"
   ]
  },
  {
   "cell_type": "code",
   "execution_count": 1,
   "metadata": {},
   "outputs": [],
   "source": [
    "from classical_music import *\n",
    "\n",
    "file_txt = \"best-50-orchestral.txt\"\n",
    "\n",
    "file_html = file_txt.replace(\".txt\", \".html\")"
   ]
  },
  {
   "cell_type": "code",
   "execution_count": 2,
   "metadata": {},
   "outputs": [],
   "source": [
    "namemap = read_namemap()"
   ]
  },
  {
   "cell_type": "code",
   "execution_count": 3,
   "metadata": {},
   "outputs": [
    {
     "data": {
      "text/plain": [
       "({'vid': 'i0b29lAuMlg',\n",
       "  'vid_name': '50 Most Beautiful Orchestral Classics',\n",
       "  'channel_id': 'UCyOfqgtsQaM3S-VZnsYnHjQ',\n",
       "  'channel_name': 'HALIDONMUSIC'},\n",
       " ['01. Strauss I - Radetzky’s March, Op. 228 00:00 ',\n",
       "  '02. Mozart -  Eine Kleine Nachtmusik, K. 525: I. Allegro 02:26'])"
      ]
     },
     "execution_count": 3,
     "metadata": {},
     "output_type": "execute_result"
    }
   ],
   "source": [
    "meta_map, lines = parse_file_txt(file_txt)\n",
    "\n",
    "meta_map, lines[:2]"
   ]
  },
  {
   "cell_type": "code",
   "execution_count": 4,
   "metadata": {},
   "outputs": [],
   "source": [
    "# this is data file specific\n",
    "def parse_line(l):\n",
    "    \"parse text-line into data elements\"\n",
    "    tmp = l.split(\" - \")\n",
    "    tmp1 = tmp[0].split(\" \")\n",
    "    _id, last_name = tmp1[0], \" \".join(tmp1[1:])\n",
    "    tmp2 = tmp[-1].split(\" \")\n",
    "    title = \" \".join(tmp2[:-1])\n",
    "    ts = tmp2[-1]\n",
    "    return [_id.strip(), ts.strip(), last_name.strip(), title.strip()]"
   ]
  },
  {
   "cell_type": "raw",
   "metadata": {},
   "source": [
    "line = \"25. Sibelius - Andante Festivo 02:14:18\"\n",
    "d = parse_line(line)\n",
    "d"
   ]
  },
  {
   "cell_type": "code",
   "execution_count": 5,
   "metadata": {},
   "outputs": [],
   "source": [
    "records = []\n",
    "for i in lines:\n",
    "    i = i.strip()\n",
    "    if not i: \n",
    "        continue\n",
    "    d = parse_line(i)\n",
    "    if d[2] not in namemap:\n",
    "        print(f\"[ERROR] {d[2]} not found in namemap\")\n",
    "    else:\n",
    "        records.append([d[0].replace(\".\", \"\"), \n",
    "                        make_youtube_link(meta_map[\"vid\"], d[1]), \n",
    "                        make_href(namemap[d[2]][\"fullname\"] ,namemap[d[2]][\"url\"]), \n",
    "                        d[-1]]\n",
    "                    )"
   ]
  },
  {
   "cell_type": "code",
   "execution_count": 6,
   "metadata": {},
   "outputs": [
    {
     "data": {
      "text/plain": [
       "[['01',\n",
       "  '<a href=https://www.youtube.com/watch?v=i0b29lAuMlg&t=0s target=new>00:00:00</a>',\n",
       "  '<a href=https://www.wikiwand.com/en/Johann_Strauss_I target=new>Johann Strauss I</a>',\n",
       "  'Radetzky’s March, Op. 228'],\n",
       " ['02',\n",
       "  '<a href=https://www.youtube.com/watch?v=i0b29lAuMlg&t=146s target=new>00:02:26</a>',\n",
       "  '<a href=https://www.wikiwand.com/en/Wolfgang_Amadeus_Mozart target=new>Wolfgang Amadeus Mozart</a>',\n",
       "  'Eine Kleine Nachtmusik, K. 525: I. Allegro'],\n",
       " ['03',\n",
       "  '<a href=https://www.youtube.com/watch?v=i0b29lAuMlg&t=506s target=new>00:08:26</a>',\n",
       "  '<a href=https://www.wikiwand.com/en/Antonio_Vivaldi target=new>Antonio Vivaldi</a>',\n",
       "  'The Four Seasons, Concerto No. 4 \"Winter\": I. Allegro non molto']]"
      ]
     },
     "execution_count": 6,
     "metadata": {},
     "output_type": "execute_result"
    }
   ],
   "source": [
    "records[:3]"
   ]
  },
  {
   "cell_type": "code",
   "execution_count": 7,
   "metadata": {},
   "outputs": [],
   "source": [
    "# write out HTML file\n",
    "with open(file_html, \"w\") as f:\n",
    "    \n",
    "    f.write(f\"\"\"<h1>\n",
    "    <a href=https://www.youtube.com/watch?v={meta_map[\"vid\"]}>{meta_map[\"vid_name\"]}</a> </h1> \n",
    "    <h2>by <a href=https://www.youtube.com/channel/{meta_map[\"channel_id\"]}>{meta_map[\"channel_name\"]}</a>\n",
    "    </h2>\n",
    "    <br>\n",
    "    <table style=\"width:100%\" border=1px>\n",
    "    \"\"\")\n",
    "    \n",
    "    f.write(\"\"\"<tr>\n",
    "        <th>Id</th>\n",
    "        <th>Track TS</th>\n",
    "        <th>Musician</th>\n",
    "        <th>Title</th>\n",
    "      </tr>\"\"\")\n",
    "    for r in records:\n",
    "        f.write(f\"\"\"<tr>\n",
    "            <td>{r[0]}</td>\n",
    "            <td>{r[1]}</td>\n",
    "            <td>{r[2]}</td>\n",
    "            <td>{r[3]}</td>\n",
    "          </tr>\"\"\")\n",
    "    f.write('</table>')"
   ]
  },
  {
   "cell_type": "code",
   "execution_count": null,
   "metadata": {},
   "outputs": [],
   "source": []
  },
  {
   "cell_type": "code",
   "execution_count": null,
   "metadata": {},
   "outputs": [],
   "source": []
  }
 ],
 "metadata": {
  "kernelspec": {
   "display_name": "Python 3",
   "language": "python",
   "name": "python3"
  },
  "language_info": {
   "codemirror_mode": {
    "name": "ipython",
    "version": 3
   },
   "file_extension": ".py",
   "mimetype": "text/x-python",
   "name": "python",
   "nbconvert_exporter": "python",
   "pygments_lexer": "ipython3",
   "version": "3.7.6"
  }
 },
 "nbformat": 4,
 "nbformat_minor": 4
}
