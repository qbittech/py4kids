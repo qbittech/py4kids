{
 "cells": [
  {
   "cell_type": "markdown",
   "metadata": {},
   "source": [
    "reformat metadata for https://www.youtube.com/watch?v=i0b29lAuMlg&feature=youtu.be"
   ]
  },
  {
   "cell_type": "code",
   "execution_count": 1,
   "metadata": {},
   "outputs": [],
   "source": [
    "from classical_music import *\n",
    "\n",
    "file_txt = \"best-50-orchestral.txt\"\n",
    "\n",
    "file_html = file_txt.replace(\".txt\", \".html\")"
   ]
  },
  {
   "cell_type": "code",
   "execution_count": 2,
   "metadata": {},
   "outputs": [
    {
     "data": {
      "text/plain": [
       "({'vid': 'i0b29lAuMlg',\n",
       "  'vid_name': '50 Most Beautiful Orchestral Classics',\n",
       "  'channel_id': 'UCyOfqgtsQaM3S-VZnsYnHjQ',\n",
       "  'channel_name': 'HALIDONMUSIC'},\n",
       " ['01. Strauss I - Radetzky’s March, Op. 228 00:00 ',\n",
       "  '02. Mozart -  Eine Kleine Nachtmusik, K. 525: I. Allegro 02:26'])"
      ]
     },
     "execution_count": 2,
     "metadata": {},
     "output_type": "execute_result"
    }
   ],
   "source": [
    "meta_map, lines = parse_file_txt(file_txt)\n",
    "\n",
    "meta_map, lines[:2]"
   ]
  },
  {
   "cell_type": "code",
   "execution_count": 3,
   "metadata": {},
   "outputs": [],
   "source": [
    "# this is data file specific\n",
    "def parse_line(l):\n",
    "    \"\"\"parse text-line into data elements\n",
    "    \n",
    "    sample:\n",
    "        01. Strauss I - Radetzky’s March, Op. 228 00:00 \n",
    "        \n",
    "    returns:\n",
    "        [id, ts, name, title]\n",
    "    \"\"\"\n",
    "    tmp = l.split(\" - \")\n",
    "    tmp1 = tmp[0].split(\" \")\n",
    "    _id, last_name = tmp1[0], \" \".join(tmp1[1:])\n",
    "    tmp2 = tmp[-1].split(\" \")\n",
    "    title = \" \".join(tmp2[:-1])\n",
    "    ts = tmp2[-1]\n",
    "    return [_id.strip(), ts.strip(), last_name.strip(), title.strip()]"
   ]
  },
  {
   "cell_type": "raw",
   "metadata": {},
   "source": [
    "line = \"25. Sibelius - Andante Festivo 02:14:18\"\n",
    "d = parse_line(line)\n",
    "d"
   ]
  },
  {
   "cell_type": "code",
   "execution_count": 14,
   "metadata": {},
   "outputs": [],
   "source": [
    "records = []\n",
    "for i in lines:\n",
    "    i = i.strip()\n",
    "    if not i: \n",
    "        continue\n",
    "    d = parse_line(i)\n",
    "    # records.append(d)\n",
    "    records.append([d[0].replace(\".\", \"\"), make_youtube_link(meta_map[\"vid\"], d[1]), make_wikiwand_link(name_map[d[2]]), d[-1]])"
   ]
  },
  {
   "cell_type": "code",
   "execution_count": 15,
   "metadata": {},
   "outputs": [
    {
     "data": {
      "text/plain": [
       "[['01',\n",
       "  '<a href=https://www.youtube.com/watch?v= i0b29lAuMlg&t=0s>00:00:00</a>',\n",
       "  '<a href=https://www.wikiwand.com/en/Johann_Strauss_I>Johann Strauss I</a>',\n",
       "  'Radetzky’s March, Op. 228'],\n",
       " ['02',\n",
       "  '<a href=https://www.youtube.com/watch?v= i0b29lAuMlg&t=146s>00:02:26</a>',\n",
       "  '<a href=https://www.wikiwand.com/en/Wolfgang_Amadeus_Mozart>Wolfgang Amadeus Mozart</a>',\n",
       "  'Eine Kleine Nachtmusik, K. 525: I. Allegro'],\n",
       " ['03',\n",
       "  '<a href=https://www.youtube.com/watch?v= i0b29lAuMlg&t=506s>00:08:26</a>',\n",
       "  '<a href=https://www.wikiwand.com/en/Antonio_Vivaldi>Antonio Vivaldi</a>',\n",
       "  'The Four Seasons, Concerto No. 4 \"Winter\": I. Allegro non molto']]"
      ]
     },
     "execution_count": 15,
     "metadata": {},
     "output_type": "execute_result"
    }
   ],
   "source": [
    "records[:3]"
   ]
  },
  {
   "cell_type": "code",
   "execution_count": 16,
   "metadata": {},
   "outputs": [],
   "source": [
    "# write out HTML file\n",
    "with open(file_html, \"w\") as f:\n",
    "    \n",
    "    f.write(f\"\"\"<h1>\n",
    "    <a href=https://www.youtube.com/watch?v={meta_map[\"vid\"]}>{meta_map[\"vid_name\"]}</a> </h1> \n",
    "    <h2>by <a href=https://www.youtube.com/channel/{meta_map[\"channel_id\"]}>{meta_map[\"channel_name\"]}</a>\n",
    "    </h2>\n",
    "    <br>\n",
    "    <table style=\"width:100%\" border=1px>\n",
    "    \"\"\")\n",
    "    \n",
    "    f.write(\"\"\"<tr>\n",
    "        <th>Id</th>\n",
    "        <th>Track TS</th>\n",
    "        <th>Musician</th>\n",
    "        <th>Title</th>\n",
    "      </tr>\"\"\")\n",
    "    for r in records:\n",
    "        f.write(f\"\"\"<tr>\n",
    "            <td>{r[0]}</td>\n",
    "            <td>{r[1]}</td>\n",
    "            <td>{r[2]}</td>\n",
    "            <td>{r[3]}</td>\n",
    "          </tr>\"\"\")\n",
    "    f.write('</table>')"
   ]
  },
  {
   "cell_type": "code",
   "execution_count": null,
   "metadata": {},
   "outputs": [],
   "source": []
  },
  {
   "cell_type": "code",
   "execution_count": 4,
   "metadata": {},
   "outputs": [
    {
     "data": {
      "text/plain": [
       "{'Strauss I': 'Johann Strauss I',\n",
       " 'Mozart': 'Wolfgang Amadeus Mozart',\n",
       " 'Vivaldi': 'Antonio Vivaldi',\n",
       " 'Mendelssohn': 'Felix Mendelssohn',\n",
       " 'Tchaikovsky': 'Piotr Ilyich Tchaikovsky',\n",
       " 'Tchaikovsy': 'Piotr Ilyich Tchaikovsky',\n",
       " 'Tchaikowsky': 'Piotr Ilyich Tchaikovsky',\n",
       " 'Strauss II': 'Johann Strauss II',\n",
       " 'Bach': 'Johann Sebastian Bach',\n",
       " 'Bizet': 'George Bizet',\n",
       " 'Beethoven': 'Ludwig van Beethoven',\n",
       " 'Grieg': 'Edvard Grieg',\n",
       " 'Barber': 'Samuel Barber',\n",
       " 'Haydn': 'Joseph Haydn',\n",
       " 'Sibelius': 'Jean Sibelius',\n",
       " 'Dvorak': 'Antonín Dvořák',\n",
       " 'Brahms': 'Johannes Brahms',\n",
       " 'Prokofiev': 'Sergei Prokofiev',\n",
       " 'Schubert': 'Franz Schubert',\n",
       " 'Puccini': 'Giacomo Puccini',\n",
       " 'Rossini': 'Gioachino Rossini',\n",
       " 'Verdi': 'Giuseppe Verdi',\n",
       " 'Telemann': 'Georg Philipp Telemann',\n",
       " 'Corelli': 'Arcangelo Corelli',\n",
       " 'Afternova': 'Fred Buscaglione',\n",
       " 'Chopin': 'Frédéric Chopin',\n",
       " 'Debussy': 'Claude Debussy',\n",
       " 'Liszt': 'Franz Liszt',\n",
       " 'Schubert-Liszt': 'Franz Liszt',\n",
       " 'Litvinovsky': 'Alexander Litvinovsky',\n",
       " 'Morricone': 'Ennio Morricone',\n",
       " 'Piazzolla': 'Astor Piazzolla',\n",
       " 'Rachmaninoff': 'Sergei Rachmaninoff',\n",
       " 'Rosetti': 'Antonio Rosetti',\n",
       " 'Saint-Saëns': 'Camille Saint-Saëns',\n",
       " 'Satie': 'Erik Satie',\n",
       " 'Schumann': 'Robert Schumann',\n",
       " 'Scriabin': 'Alexander Scriabin'}"
      ]
     },
     "execution_count": 4,
     "metadata": {},
     "output_type": "execute_result"
    }
   ],
   "source": [
    "name_map"
   ]
  },
  {
   "cell_type": "code",
   "execution_count": 5,
   "metadata": {},
   "outputs": [],
   "source": [
    "name_map2 = {}\n",
    "for k in name_map.keys():\n",
    "    name_map2[k] = dict(fullname=name_map[k], url=\"\")"
   ]
  },
  {
   "cell_type": "code",
   "execution_count": 6,
   "metadata": {},
   "outputs": [
    {
     "data": {
      "text/plain": [
       "{'Strauss I': {'fullname': 'Johann Strauss I', 'url': ''},\n",
       " 'Mozart': {'fullname': 'Wolfgang Amadeus Mozart', 'url': ''},\n",
       " 'Vivaldi': {'fullname': 'Antonio Vivaldi', 'url': ''},\n",
       " 'Mendelssohn': {'fullname': 'Felix Mendelssohn', 'url': ''},\n",
       " 'Tchaikovsky': {'fullname': 'Piotr Ilyich Tchaikovsky', 'url': ''},\n",
       " 'Tchaikovsy': {'fullname': 'Piotr Ilyich Tchaikovsky', 'url': ''},\n",
       " 'Tchaikowsky': {'fullname': 'Piotr Ilyich Tchaikovsky', 'url': ''},\n",
       " 'Strauss II': {'fullname': 'Johann Strauss II', 'url': ''},\n",
       " 'Bach': {'fullname': 'Johann Sebastian Bach', 'url': ''},\n",
       " 'Bizet': {'fullname': 'George Bizet', 'url': ''},\n",
       " 'Beethoven': {'fullname': 'Ludwig van Beethoven', 'url': ''},\n",
       " 'Grieg': {'fullname': 'Edvard Grieg', 'url': ''},\n",
       " 'Barber': {'fullname': 'Samuel Barber', 'url': ''},\n",
       " 'Haydn': {'fullname': 'Joseph Haydn', 'url': ''},\n",
       " 'Sibelius': {'fullname': 'Jean Sibelius', 'url': ''},\n",
       " 'Dvorak': {'fullname': 'Antonín Dvořák', 'url': ''},\n",
       " 'Brahms': {'fullname': 'Johannes Brahms', 'url': ''},\n",
       " 'Prokofiev': {'fullname': 'Sergei Prokofiev', 'url': ''},\n",
       " 'Schubert': {'fullname': 'Franz Schubert', 'url': ''},\n",
       " 'Puccini': {'fullname': 'Giacomo Puccini', 'url': ''},\n",
       " 'Rossini': {'fullname': 'Gioachino Rossini', 'url': ''},\n",
       " 'Verdi': {'fullname': 'Giuseppe Verdi', 'url': ''},\n",
       " 'Telemann': {'fullname': 'Georg Philipp Telemann', 'url': ''},\n",
       " 'Corelli': {'fullname': 'Arcangelo Corelli', 'url': ''},\n",
       " 'Afternova': {'fullname': 'Fred Buscaglione', 'url': ''},\n",
       " 'Chopin': {'fullname': 'Frédéric Chopin', 'url': ''},\n",
       " 'Debussy': {'fullname': 'Claude Debussy', 'url': ''},\n",
       " 'Liszt': {'fullname': 'Franz Liszt', 'url': ''},\n",
       " 'Schubert-Liszt': {'fullname': 'Franz Liszt', 'url': ''},\n",
       " 'Litvinovsky': {'fullname': 'Alexander Litvinovsky', 'url': ''},\n",
       " 'Morricone': {'fullname': 'Ennio Morricone', 'url': ''},\n",
       " 'Piazzolla': {'fullname': 'Astor Piazzolla', 'url': ''},\n",
       " 'Rachmaninoff': {'fullname': 'Sergei Rachmaninoff', 'url': ''},\n",
       " 'Rosetti': {'fullname': 'Antonio Rosetti', 'url': ''},\n",
       " 'Saint-Saëns': {'fullname': 'Camille Saint-Saëns', 'url': ''},\n",
       " 'Satie': {'fullname': 'Erik Satie', 'url': ''},\n",
       " 'Schumann': {'fullname': 'Robert Schumann', 'url': ''},\n",
       " 'Scriabin': {'fullname': 'Alexander Scriabin', 'url': ''}}"
      ]
     },
     "execution_count": 6,
     "metadata": {},
     "output_type": "execute_result"
    }
   ],
   "source": [
    "name_map2"
   ]
  },
  {
   "cell_type": "code",
   "execution_count": 8,
   "metadata": {},
   "outputs": [],
   "source": [
    "import json\n",
    "with open(\"namemap.json\", \"w\") as f:\n",
    "    f.write(json.dumps(name_map2))"
   ]
  },
  {
   "cell_type": "code",
   "execution_count": 9,
   "metadata": {},
   "outputs": [],
   "source": [
    "def read_namemap(file_json=\"namemap.json\"):\n",
    "    with open(file_json) as f:\n",
    "        return json.loads(f.read())"
   ]
  },
  {
   "cell_type": "code",
   "execution_count": 10,
   "metadata": {},
   "outputs": [],
   "source": [
    "namemap2 = read_namemap()"
   ]
  },
  {
   "cell_type": "code",
   "execution_count": 11,
   "metadata": {},
   "outputs": [
    {
     "data": {
      "text/plain": [
       "{'Strauss I': {'fullname': 'Johann Strauss I', 'url': ''},\n",
       " 'Mozart': {'fullname': 'Wolfgang Amadeus Mozart', 'url': ''},\n",
       " 'Vivaldi': {'fullname': 'Antonio Vivaldi', 'url': ''},\n",
       " 'Mendelssohn': {'fullname': 'Felix Mendelssohn', 'url': ''},\n",
       " 'Tchaikovsky': {'fullname': 'Piotr Ilyich Tchaikovsky', 'url': ''},\n",
       " 'Tchaikovsy': {'fullname': 'Piotr Ilyich Tchaikovsky', 'url': ''},\n",
       " 'Tchaikowsky': {'fullname': 'Piotr Ilyich Tchaikovsky', 'url': ''},\n",
       " 'Strauss II': {'fullname': 'Johann Strauss II', 'url': ''},\n",
       " 'Bach': {'fullname': 'Johann Sebastian Bach', 'url': ''},\n",
       " 'Bizet': {'fullname': 'George Bizet', 'url': ''},\n",
       " 'Beethoven': {'fullname': 'Ludwig van Beethoven', 'url': ''},\n",
       " 'Grieg': {'fullname': 'Edvard Grieg', 'url': ''},\n",
       " 'Barber': {'fullname': 'Samuel Barber', 'url': ''},\n",
       " 'Haydn': {'fullname': 'Joseph Haydn', 'url': ''},\n",
       " 'Sibelius': {'fullname': 'Jean Sibelius', 'url': ''},\n",
       " 'Dvorak': {'fullname': 'Antonín Dvořák', 'url': ''},\n",
       " 'Brahms': {'fullname': 'Johannes Brahms', 'url': ''},\n",
       " 'Prokofiev': {'fullname': 'Sergei Prokofiev', 'url': ''},\n",
       " 'Schubert': {'fullname': 'Franz Schubert', 'url': ''},\n",
       " 'Puccini': {'fullname': 'Giacomo Puccini', 'url': ''},\n",
       " 'Rossini': {'fullname': 'Gioachino Rossini', 'url': ''},\n",
       " 'Verdi': {'fullname': 'Giuseppe Verdi', 'url': ''},\n",
       " 'Telemann': {'fullname': 'Georg Philipp Telemann', 'url': ''},\n",
       " 'Corelli': {'fullname': 'Arcangelo Corelli', 'url': ''},\n",
       " 'Afternova': {'fullname': 'Fred Buscaglione', 'url': ''},\n",
       " 'Chopin': {'fullname': 'Frédéric Chopin', 'url': ''},\n",
       " 'Debussy': {'fullname': 'Claude Debussy', 'url': ''},\n",
       " 'Liszt': {'fullname': 'Franz Liszt', 'url': ''},\n",
       " 'Schubert-Liszt': {'fullname': 'Franz Liszt', 'url': ''},\n",
       " 'Litvinovsky': {'fullname': 'Alexander Litvinovsky',\n",
       "  'url': 'https://en.everybodywiki.com/Alexander_Litvinovsky'},\n",
       " 'Morricone': {'fullname': 'Ennio Morricone', 'url': ''},\n",
       " 'Piazzolla': {'fullname': 'Astor Piazzolla', 'url': ''},\n",
       " 'Rachmaninoff': {'fullname': 'Sergei Rachmaninoff', 'url': ''},\n",
       " 'Rosetti': {'fullname': 'Antonio Rosetti', 'url': ''},\n",
       " 'Saint-Saëns': {'fullname': 'Camille Saint-Saëns', 'url': ''},\n",
       " 'Satie': {'fullname': 'Erik Satie', 'url': ''},\n",
       " 'Schumann': {'fullname': 'Robert Schumann', 'url': ''},\n",
       " 'Scriabin': {'fullname': 'Alexander Scriabin', 'url': ''}}"
      ]
     },
     "execution_count": 11,
     "metadata": {},
     "output_type": "execute_result"
    }
   ],
   "source": [
    "namemap2"
   ]
  },
  {
   "cell_type": "code",
   "execution_count": 12,
   "metadata": {},
   "outputs": [],
   "source": [
    "def make_wikiwand_url(name):\n",
    "    nm = \"_\".join([i.strip() for i in name.split(\" \") if i.strip()])\n",
    "    return f\"https://www.wikiwand.com/en/{nm}\""
   ]
  },
  {
   "cell_type": "code",
   "execution_count": 14,
   "metadata": {},
   "outputs": [],
   "source": [
    "def write_namemap(namemap, file_json=\"namemap.json\"):\n",
    "    with open(file_json, \"w\") as f:\n",
    "        return f.write(json.dumps(namemap))"
   ]
  },
  {
   "cell_type": "code",
   "execution_count": 15,
   "metadata": {},
   "outputs": [
    {
     "data": {
      "text/plain": [
       "3927"
      ]
     },
     "execution_count": 15,
     "metadata": {},
     "output_type": "execute_result"
    }
   ],
   "source": [
    "for k in namemap2.keys():\n",
    "    if not namemap2[k]['url']:\n",
    "        namemap2[k]['url'] = make_wikiwand_url(namemap2[k]['fullname'])\n",
    "\n",
    "write_namemap(namemap2, file_json=\"namemap2.json\")"
   ]
  },
  {
   "cell_type": "code",
   "execution_count": null,
   "metadata": {},
   "outputs": [],
   "source": []
  }
 ],
 "metadata": {
  "kernelspec": {
   "display_name": "Python 3",
   "language": "python",
   "name": "python3"
  },
  "language_info": {
   "codemirror_mode": {
    "name": "ipython",
    "version": 3
   },
   "file_extension": ".py",
   "mimetype": "text/x-python",
   "name": "python",
   "nbconvert_exporter": "python",
   "pygments_lexer": "ipython3",
   "version": "3.7.6"
  }
 },
 "nbformat": 4,
 "nbformat_minor": 4
}
