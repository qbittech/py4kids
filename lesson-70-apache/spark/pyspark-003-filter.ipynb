{
 "cells": [
  {
   "cell_type": "markdown",
   "metadata": {},
   "source": [
    "http://localhost:8888/notebooks/Mastering-Big-Data-Analytics-with-PySpark/Section%203%20-%20Preparing%20Data%20using%20SparkSQL/3.3/hands-on-3.3.ipynb"
   ]
  },
  {
   "cell_type": "code",
   "execution_count": 1,
   "metadata": {},
   "outputs": [],
   "source": [
    "from pyspark.sql import SparkSession\n",
    "from pyspark.sql import functions as f\n",
    "\n",
    "spark = SparkSession.builder.appName(\"MyFirstCSVLoad\").getOrCreate()"
   ]
  },
  {
   "cell_type": "code",
   "execution_count": 2,
   "metadata": {},
   "outputs": [],
   "source": [
    "DATASET_HOME = \"/home/wengong/projects/bigdata/Mastering-Big-Data-Analytics-with-PySpark/data-sets\"\n",
    "FILE_CSV = \"ratings.csv\""
   ]
  },
  {
   "cell_type": "code",
   "execution_count": 3,
   "metadata": {},
   "outputs": [],
   "source": [
    "ratings = (\n",
    "    spark.read.csv(\n",
    "        path=f\"{DATASET_HOME}/ml-latest-small/{FILE_CSV}\",\n",
    "        sep=\",\",\n",
    "        header=True,\n",
    "        quote='\"',\n",
    "        schema=\"userId INT, movieId INT, rating DOUBLE, timestamp INT\",\n",
    "    )\n",
    "    .withColumn(\"timestamp\", f.to_timestamp(f.from_unixtime(\"timestamp\")))\n",
    ")"
   ]
  },
  {
   "cell_type": "code",
   "execution_count": 4,
   "metadata": {},
   "outputs": [
    {
     "name": "stdout",
     "output_type": "stream",
     "text": [
      "+------+-------+------+-------------------+\n",
      "|userId|movieId|rating|timestamp          |\n",
      "+------+-------+------+-------------------+\n",
      "|1     |1      |4.0   |2000-07-30 14:45:03|\n",
      "|1     |3      |4.0   |2000-07-30 14:20:47|\n",
      "|1     |6      |4.0   |2000-07-30 14:37:04|\n",
      "|1     |47     |5.0   |2000-07-30 15:03:35|\n",
      "|1     |50     |5.0   |2000-07-30 14:48:51|\n",
      "+------+-------+------+-------------------+\n",
      "only showing top 5 rows\n",
      "\n",
      "root\n",
      " |-- userId: integer (nullable = true)\n",
      " |-- movieId: integer (nullable = true)\n",
      " |-- rating: double (nullable = true)\n",
      " |-- timestamp: timestamp (nullable = true)\n",
      "\n"
     ]
    }
   ],
   "source": [
    "ratings.show(5, truncate=False)\n",
    "ratings.printSchema()"
   ]
  },
  {
   "cell_type": "code",
   "execution_count": 5,
   "metadata": {},
   "outputs": [],
   "source": [
    "FILE_CSV = \"movies.csv\""
   ]
  },
  {
   "cell_type": "code",
   "execution_count": 6,
   "metadata": {},
   "outputs": [
    {
     "name": "stdout",
     "output_type": "stream",
     "text": [
      "+-------+----------------------------------+-------------------------------------------+\n",
      "|movieId|title                             |genres                                     |\n",
      "+-------+----------------------------------+-------------------------------------------+\n",
      "|1      |Toy Story (1995)                  |Adventure|Animation|Children|Comedy|Fantasy|\n",
      "|2      |Jumanji (1995)                    |Adventure|Children|Fantasy                 |\n",
      "|3      |Grumpier Old Men (1995)           |Comedy|Romance                             |\n",
      "|4      |Waiting to Exhale (1995)          |Comedy|Drama|Romance                       |\n",
      "|5      |Father of the Bride Part II (1995)|Comedy                                     |\n",
      "+-------+----------------------------------+-------------------------------------------+\n",
      "only showing top 5 rows\n",
      "\n",
      "root\n",
      " |-- movieId: integer (nullable = true)\n",
      " |-- title: string (nullable = true)\n",
      " |-- genres: string (nullable = true)\n",
      "\n"
     ]
    }
   ],
   "source": [
    "movies = (\n",
    "    spark.read.csv(\n",
    "        path=f\"{DATASET_HOME}/ml-latest-small/{FILE_CSV}\",\n",
    "        sep=\",\",\n",
    "        header=True,\n",
    "        quote='\"',\n",
    "        schema=\"movieId INT, title STRING, genres STRING\",\n",
    "    )\n",
    ")\n",
    "movies.show(5, truncate=False)\n",
    "movies.printSchema()"
   ]
  },
  {
   "cell_type": "code",
   "execution_count": 7,
   "metadata": {},
   "outputs": [
    {
     "name": "stdout",
     "output_type": "stream",
     "text": [
      "+-------+-----------------------------------------------------------+------+\n",
      "|movieId|title                                                      |genres|\n",
      "+-------+-----------------------------------------------------------+------+\n",
      "|9      |Sudden Death (1995)                                        |Action|\n",
      "|71     |Fair Game (1995)                                           |Action|\n",
      "|204    |Under Siege 2: Dark Territory (1995)                       |Action|\n",
      "|251    |Hunted, The (1995)                                         |Action|\n",
      "|667    |Bloodsport 2 (a.k.a. Bloodsport II: The Next Kumite) (1996)|Action|\n",
      "+-------+-----------------------------------------------------------+------+\n",
      "only showing top 5 rows\n",
      "\n",
      "+-------+-----------------------------------------------------------+------+\n",
      "|movieId|title                                                      |genres|\n",
      "+-------+-----------------------------------------------------------+------+\n",
      "|9      |Sudden Death (1995)                                        |Action|\n",
      "|71     |Fair Game (1995)                                           |Action|\n",
      "|204    |Under Siege 2: Dark Territory (1995)                       |Action|\n",
      "|251    |Hunted, The (1995)                                         |Action|\n",
      "|667    |Bloodsport 2 (a.k.a. Bloodsport II: The Next Kumite) (1996)|Action|\n",
      "+-------+-----------------------------------------------------------+------+\n",
      "only showing top 5 rows\n",
      "\n"
     ]
    }
   ],
   "source": [
    "movies.where(f.col(\"genres\") == \"Action\").show(5, False)\n",
    "movies.where(\"genres == 'Action'\").show(5, False)"
   ]
  },
  {
   "cell_type": "markdown",
   "metadata": {},
   "source": [
    "#### split and explode"
   ]
  },
  {
   "cell_type": "code",
   "execution_count": 8,
   "metadata": {},
   "outputs": [],
   "source": [
    "movie_genre = (\n",
    "    movies\n",
    "    .withColumn(\"genres_array\", f.split(\"genres\", \"\\|\"))\n",
    "    .withColumn(\"genre\", f.explode(\"genres_array\"))\n",
    "    .select(\"movieId\", \"title\", \"genre\")\n",
    ")"
   ]
  },
  {
   "cell_type": "code",
   "execution_count": 9,
   "metadata": {},
   "outputs": [
    {
     "name": "stdout",
     "output_type": "stream",
     "text": [
      "+-------+-----------------------+---------+\n",
      "|movieId|title                  |genre    |\n",
      "+-------+-----------------------+---------+\n",
      "|1      |Toy Story (1995)       |Adventure|\n",
      "|1      |Toy Story (1995)       |Animation|\n",
      "|1      |Toy Story (1995)       |Children |\n",
      "|1      |Toy Story (1995)       |Comedy   |\n",
      "|1      |Toy Story (1995)       |Fantasy  |\n",
      "|2      |Jumanji (1995)         |Adventure|\n",
      "|2      |Jumanji (1995)         |Children |\n",
      "|2      |Jumanji (1995)         |Fantasy  |\n",
      "|3      |Grumpier Old Men (1995)|Comedy   |\n",
      "|3      |Grumpier Old Men (1995)|Romance  |\n",
      "+-------+-----------------------+---------+\n",
      "only showing top 10 rows\n",
      "\n"
     ]
    }
   ],
   "source": [
    "movie_genre.show(10, False)"
   ]
  },
  {
   "cell_type": "code",
   "execution_count": 10,
   "metadata": {},
   "outputs": [],
   "source": [
    "available_genres = movie_genre.select(\"genre\").distinct()"
   ]
  },
  {
   "cell_type": "code",
   "execution_count": 11,
   "metadata": {},
   "outputs": [
    {
     "name": "stdout",
     "output_type": "stream",
     "text": [
      "+------------------+\n",
      "|             genre|\n",
      "+------------------+\n",
      "|             Crime|\n",
      "|           Romance|\n",
      "|          Thriller|\n",
      "|         Adventure|\n",
      "|             Drama|\n",
      "|               War|\n",
      "|       Documentary|\n",
      "|           Fantasy|\n",
      "|           Mystery|\n",
      "|           Musical|\n",
      "|         Animation|\n",
      "|         Film-Noir|\n",
      "|(no genres listed)|\n",
      "|              IMAX|\n",
      "|            Horror|\n",
      "|           Western|\n",
      "|            Comedy|\n",
      "|          Children|\n",
      "|            Action|\n",
      "|            Sci-Fi|\n",
      "+------------------+\n",
      "\n"
     ]
    }
   ],
   "source": [
    "available_genres.show()"
   ]
  },
  {
   "cell_type": "code",
   "execution_count": 12,
   "metadata": {},
   "outputs": [],
   "source": [
    "movies_without_genre = movies.where(f.col(\"genres\") == \"(no genres listed)\")"
   ]
  },
  {
   "cell_type": "code",
   "execution_count": 15,
   "metadata": {},
   "outputs": [
    {
     "name": "stdout",
     "output_type": "stream",
     "text": [
      "34\n",
      "+-------+-------------------------------------------------------+------------------+\n",
      "|movieId|title                                                  |genres            |\n",
      "+-------+-------------------------------------------------------+------------------+\n",
      "|114335 |La cravate (1957)                                      |(no genres listed)|\n",
      "|122888 |Ben-hur (2016)                                         |(no genres listed)|\n",
      "|122896 |Pirates of the Caribbean: Dead Men Tell No Tales (2017)|(no genres listed)|\n",
      "|129250 |Superfast! (2015)                                      |(no genres listed)|\n",
      "|132084 |Let It Be Me (1995)                                    |(no genres listed)|\n",
      "|134861 |Trevor Noah: African American (2013)                   |(no genres listed)|\n",
      "|141131 |Guardians (2016)                                       |(no genres listed)|\n",
      "|141866 |Green Room (2015)                                      |(no genres listed)|\n",
      "|142456 |The Brand New Testament (2015)                         |(no genres listed)|\n",
      "|143410 |Hyena Road                                             |(no genres listed)|\n",
      "|147250 |The Adventures of Sherlock Holmes and Doctor Watson    |(no genres listed)|\n",
      "|149330 |A Cosmic Christmas (1977)                              |(no genres listed)|\n",
      "|152037 |Grease Live (2016)                                     |(no genres listed)|\n",
      "|155589 |Noin 7 veljestä (1968)                                 |(no genres listed)|\n",
      "|156605 |Paterson                                               |(no genres listed)|\n",
      "|159161 |Ali Wong: Baby Cobra (2016)                            |(no genres listed)|\n",
      "|159779 |A Midsummer Night's Dream (2016)                       |(no genres listed)|\n",
      "|161008 |The Forbidden Dance (1990)                             |(no genres listed)|\n",
      "|165489 |Ethel & Ernest (2016)                                  |(no genres listed)|\n",
      "|166024 |Whiplash (2013)                                        |(no genres listed)|\n",
      "+-------+-------------------------------------------------------+------------------+\n",
      "only showing top 20 rows\n",
      "\n"
     ]
    }
   ],
   "source": [
    "print(movies_without_genre.count())\n",
    "movies_without_genre.show(truncate=False)"
   ]
  },
  {
   "cell_type": "code",
   "execution_count": null,
   "metadata": {},
   "outputs": [],
   "source": []
  }
 ],
 "metadata": {
  "kernelspec": {
   "display_name": "Python 3",
   "language": "python",
   "name": "python3"
  },
  "language_info": {
   "codemirror_mode": {
    "name": "ipython",
    "version": 3
   },
   "file_extension": ".py",
   "mimetype": "text/x-python",
   "name": "python",
   "nbconvert_exporter": "python",
   "pygments_lexer": "ipython3",
   "version": "3.7.6"
  }
 },
 "nbformat": 4,
 "nbformat_minor": 4
}
