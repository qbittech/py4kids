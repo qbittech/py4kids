{
 "cells": [
  {
   "cell_type": "markdown",
   "metadata": {},
   "source": [
    "http://localhost:8888/edit/Mastering-Big-Data-Analytics-with-PySpark/Section%203%20-%20Preparing%20Data%20using%20SparkSQL/3.4/join_types.py"
   ]
  },
  {
   "cell_type": "code",
   "execution_count": 2,
   "metadata": {},
   "outputs": [],
   "source": [
    "from pyspark.sql import SparkSession\n",
    "from pyspark.sql.types import StringType, IntegerType, StructType, StructField\n",
    "\n",
    "\n",
    "spark = SparkSession.builder.appName(\"join_tests\").getOrCreate()\n",
    "schema = StructType(\n",
    "    [StructField(\"id\", IntegerType()), \n",
    "     StructField(\"value\", StringType())\n",
    "    ]\n",
    ")"
   ]
  },
  {
   "cell_type": "code",
   "execution_count": 3,
   "metadata": {},
   "outputs": [],
   "source": [
    "A = spark.createDataFrame(\n",
    "    schema=schema, data=[\n",
    "        (1, \"A\"),\n",
    "        (2, \"B\"),\n",
    "        (3, \"C\"),\n",
    "        (4, \"D\"),\n",
    "        (5, \"E\"),\n",
    "        (None, \"Z\")\n",
    "    ]\n",
    ")\n",
    "\n",
    "B = spark.createDataFrame(\n",
    "    schema=schema, data=[\n",
    "        (3, \"C\"),\n",
    "        (4, \"D\"),\n",
    "        (5, \"E\"),\n",
    "        (6, \"F\"),\n",
    "        (7, \"G\")\n",
    "    ]\n",
    ")"
   ]
  },
  {
   "cell_type": "code",
   "execution_count": 4,
   "metadata": {},
   "outputs": [
    {
     "name": "stdout",
     "output_type": "stream",
     "text": [
      "+----+-----+\n",
      "|  id|value|\n",
      "+----+-----+\n",
      "|   1|    A|\n",
      "|   2|    B|\n",
      "|   3|    C|\n",
      "|   4|    D|\n",
      "|   5|    E|\n",
      "|null|    Z|\n",
      "+----+-----+\n",
      "\n"
     ]
    }
   ],
   "source": [
    "A.show()"
   ]
  },
  {
   "cell_type": "code",
   "execution_count": 5,
   "metadata": {},
   "outputs": [
    {
     "name": "stdout",
     "output_type": "stream",
     "text": [
      "+---+-----+-----+\n",
      "| id|value|value|\n",
      "+---+-----+-----+\n",
      "|  3|    C|    C|\n",
      "|  5|    E|    E|\n",
      "|  4|    D|    D|\n",
      "+---+-----+-----+\n",
      "\n"
     ]
    }
   ],
   "source": [
    "# INNER JOINS\n",
    "A.join(B, [\"id\"], \"inner\").show()"
   ]
  },
  {
   "cell_type": "code",
   "execution_count": 6,
   "metadata": {},
   "outputs": [
    {
     "name": "stdout",
     "output_type": "stream",
     "text": [
      "+---+-----+---+-----+\n",
      "| id|value| id|value|\n",
      "+---+-----+---+-----+\n",
      "|  1|    A|  3|    C|\n",
      "|  1|    A|  4|    D|\n",
      "|  1|    A|  5|    E|\n",
      "|  1|    A|  6|    F|\n",
      "|  1|    A|  7|    G|\n",
      "|  2|    B|  3|    C|\n",
      "|  3|    C|  3|    C|\n",
      "|  2|    B|  4|    D|\n",
      "|  3|    C|  4|    D|\n",
      "|  2|    B|  5|    E|\n",
      "|  3|    C|  5|    E|\n",
      "|  2|    B|  6|    F|\n",
      "|  2|    B|  7|    G|\n",
      "|  3|    C|  6|    F|\n",
      "|  3|    C|  7|    G|\n",
      "|  4|    D|  3|    C|\n",
      "|  4|    D|  4|    D|\n",
      "|  4|    D|  5|    E|\n",
      "|  4|    D|  6|    F|\n",
      "|  4|    D|  7|    G|\n",
      "+---+-----+---+-----+\n",
      "only showing top 20 rows\n",
      "\n"
     ]
    }
   ],
   "source": [
    "# CROSS JOINS (CARTESIAN PRODUCT)\n",
    "A.crossJoin(B).show()"
   ]
  },
  {
   "cell_type": "code",
   "execution_count": 7,
   "metadata": {},
   "outputs": [
    {
     "name": "stdout",
     "output_type": "stream",
     "text": [
      "+----+-----+-----+\n",
      "|  id|value|value|\n",
      "+----+-----+-----+\n",
      "|null|    Z| null|\n",
      "|   1|    A| null|\n",
      "|   6| null|    F|\n",
      "|   3|    C|    C|\n",
      "|   5|    E|    E|\n",
      "|   4|    D|    D|\n",
      "|   7| null|    G|\n",
      "|   2|    B| null|\n",
      "+----+-----+-----+\n",
      "\n"
     ]
    }
   ],
   "source": [
    "# FULL JOINS\n",
    "A.join(B, [\"id\"], \"outer\").show()"
   ]
  },
  {
   "cell_type": "code",
   "execution_count": 8,
   "metadata": {},
   "outputs": [
    {
     "name": "stdout",
     "output_type": "stream",
     "text": [
      "+----+-----+-----+\n",
      "|  id|value|value|\n",
      "+----+-----+-----+\n",
      "|null|    Z| null|\n",
      "|   1|    A| null|\n",
      "|   6| null|    F|\n",
      "|   3|    C|    C|\n",
      "|   5|    E|    E|\n",
      "|   4|    D|    D|\n",
      "|   7| null|    G|\n",
      "|   2|    B| null|\n",
      "+----+-----+-----+\n",
      "\n"
     ]
    }
   ],
   "source": [
    "A.join(B, [\"id\"], \"full\").show()"
   ]
  },
  {
   "cell_type": "code",
   "execution_count": 9,
   "metadata": {},
   "outputs": [
    {
     "name": "stdout",
     "output_type": "stream",
     "text": [
      "+----+-----+-----+\n",
      "|  id|value|value|\n",
      "+----+-----+-----+\n",
      "|null|    Z| null|\n",
      "|   1|    A| null|\n",
      "|   6| null|    F|\n",
      "|   3|    C|    C|\n",
      "|   5|    E|    E|\n",
      "|   4|    D|    D|\n",
      "|   7| null|    G|\n",
      "|   2|    B| null|\n",
      "+----+-----+-----+\n",
      "\n"
     ]
    }
   ],
   "source": [
    "A.join(B, [\"id\"], \"full_outer\").show()"
   ]
  },
  {
   "cell_type": "code",
   "execution_count": 10,
   "metadata": {},
   "outputs": [
    {
     "name": "stdout",
     "output_type": "stream",
     "text": [
      "+----+-----+-----+\n",
      "|  id|value|value|\n",
      "+----+-----+-----+\n",
      "|null|    Z| null|\n",
      "|   1|    A| null|\n",
      "|   3|    C|    C|\n",
      "|   5|    E|    E|\n",
      "|   4|    D|    D|\n",
      "|   2|    B| null|\n",
      "+----+-----+-----+\n",
      "\n"
     ]
    }
   ],
   "source": [
    "# LEFT OUTER\n",
    "A.join(B, [\"id\"], \"left\").show()"
   ]
  },
  {
   "cell_type": "code",
   "execution_count": 11,
   "metadata": {},
   "outputs": [
    {
     "name": "stdout",
     "output_type": "stream",
     "text": [
      "+----+-----+-----+\n",
      "|  id|value|value|\n",
      "+----+-----+-----+\n",
      "|null|    Z| null|\n",
      "|   1|    A| null|\n",
      "|   3|    C|    C|\n",
      "|   5|    E|    E|\n",
      "|   4|    D|    D|\n",
      "|   2|    B| null|\n",
      "+----+-----+-----+\n",
      "\n"
     ]
    }
   ],
   "source": [
    "A.join(B, [\"id\"], \"left_outer\").show()"
   ]
  },
  {
   "cell_type": "code",
   "execution_count": 12,
   "metadata": {},
   "outputs": [
    {
     "name": "stdout",
     "output_type": "stream",
     "text": [
      "+---+-----+-----+\n",
      "| id|value|value|\n",
      "+---+-----+-----+\n",
      "|  6| null|    F|\n",
      "|  3|    C|    C|\n",
      "|  5|    E|    E|\n",
      "|  4|    D|    D|\n",
      "|  7| null|    G|\n",
      "+---+-----+-----+\n",
      "\n"
     ]
    }
   ],
   "source": [
    "# RIGHT OUTER\n",
    "A.join(B, [\"id\"], \"right\").show()"
   ]
  },
  {
   "cell_type": "code",
   "execution_count": 13,
   "metadata": {},
   "outputs": [
    {
     "name": "stdout",
     "output_type": "stream",
     "text": [
      "+---+-----+-----+\n",
      "| id|value|value|\n",
      "+---+-----+-----+\n",
      "|  6| null|    F|\n",
      "|  3|    C|    C|\n",
      "|  5|    E|    E|\n",
      "|  4|    D|    D|\n",
      "|  7| null|    G|\n",
      "+---+-----+-----+\n",
      "\n"
     ]
    }
   ],
   "source": [
    "A.join(B, [\"id\"], \"right_outer\").show()"
   ]
  },
  {
   "cell_type": "code",
   "execution_count": 14,
   "metadata": {},
   "outputs": [
    {
     "name": "stdout",
     "output_type": "stream",
     "text": [
      "+---+-----+\n",
      "| id|value|\n",
      "+---+-----+\n",
      "|  3|    C|\n",
      "|  5|    E|\n",
      "|  4|    D|\n",
      "+---+-----+\n",
      "\n"
     ]
    }
   ],
   "source": [
    "# LEFT SPECIAL\n",
    "A.join(B, [\"id\"], \"left_semi\").show()"
   ]
  },
  {
   "cell_type": "code",
   "execution_count": 15,
   "metadata": {},
   "outputs": [
    {
     "name": "stdout",
     "output_type": "stream",
     "text": [
      "+----+-----+\n",
      "|  id|value|\n",
      "+----+-----+\n",
      "|null|    Z|\n",
      "|   1|    A|\n",
      "|   2|    B|\n",
      "+----+-----+\n",
      "\n"
     ]
    }
   ],
   "source": [
    "A.join(B, [\"id\"], \"left_anti\").show()"
   ]
  },
  {
   "cell_type": "code",
   "execution_count": 16,
   "metadata": {},
   "outputs": [
    {
     "name": "stdout",
     "output_type": "stream",
     "text": [
      "/home/wengong/projects/py4kids/lesson-70-apache\r\n"
     ]
    }
   ],
   "source": [
    "!pwd"
   ]
  },
  {
   "cell_type": "code",
   "execution_count": null,
   "metadata": {},
   "outputs": [],
   "source": []
  }
 ],
 "metadata": {
  "kernelspec": {
   "display_name": "Python 3",
   "language": "python",
   "name": "python3"
  },
  "language_info": {
   "codemirror_mode": {
    "name": "ipython",
    "version": 3
   },
   "file_extension": ".py",
   "mimetype": "text/x-python",
   "name": "python",
   "nbconvert_exporter": "python",
   "pygments_lexer": "ipython3",
   "version": "3.8.3"
  }
 },
 "nbformat": 4,
 "nbformat_minor": 4
}
