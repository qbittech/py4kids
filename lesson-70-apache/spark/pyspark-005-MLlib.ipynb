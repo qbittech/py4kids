{
 "cells": [
  {
   "cell_type": "markdown",
   "metadata": {},
   "source": [
    "### ALS - recommendation engine\n",
    "\n",
    "http://localhost:8888/notebooks/Mastering-Big-Data-Analytics-with-PySpark/Section%204%20-%20Machine%20Learning%20with%20Spark%20MLlib/4.3/hands-on-4.3.ipynb\n",
    "        "
   ]
  },
  {
   "cell_type": "code",
   "execution_count": null,
   "metadata": {},
   "outputs": [],
   "source": [
    "from pyspark.sql import SparkSession\n",
    "from pyspark.sql import functions as f"
   ]
  },
  {
   "cell_type": "code",
   "execution_count": 5,
   "metadata": {},
   "outputs": [],
   "source": [
    "from pyspark.ml.recommendation import ALS"
   ]
  },
  {
   "cell_type": "code",
   "execution_count": 1,
   "metadata": {},
   "outputs": [],
   "source": [
    "spark = SparkSession.builder.appName(\"Chapter4-3\").getOrCreate()"
   ]
  },
  {
   "cell_type": "code",
   "execution_count": 2,
   "metadata": {},
   "outputs": [],
   "source": [
    "DATASET_HOME = \"/home/wengong/projects/bigdata/Mastering-Big-Data-Analytics-with-PySpark/data-sets\"\n",
    "FILE_CSV = \"ratings.csv\"\n",
    "\n",
    "ratings = (\n",
    "    spark.read.csv(\n",
    "        path=f\"{DATASET_HOME}/ml-latest-small/{FILE_CSV}\",\n",
    "        sep=\",\",\n",
    "        header=True,\n",
    "        quote='\"',\n",
    "        schema=\"userId INT, movieId INT, rating DOUBLE, timestamp INT\",\n",
    "    )\n",
    "    # .withColumn(\"timestamp\", f.to_timestamp(f.from_unixtime(\"timestamp\")))\n",
    "    .drop(\"timestamp\")\n",
    "    .cache()\n",
    ")"
   ]
  },
  {
   "cell_type": "code",
   "execution_count": 4,
   "metadata": {},
   "outputs": [
    {
     "name": "stdout",
     "output_type": "stream",
     "text": [
      "100836\n",
      "+------+-------+------+\n",
      "|userId|movieId|rating|\n",
      "+------+-------+------+\n",
      "|     1|      1|   4.0|\n",
      "|     1|      3|   4.0|\n",
      "|     1|      6|   4.0|\n",
      "|     1|     47|   5.0|\n",
      "|     1|     50|   5.0|\n",
      "+------+-------+------+\n",
      "only showing top 5 rows\n",
      "\n"
     ]
    }
   ],
   "source": [
    "print(ratings.count())\n",
    "ratings.show(5)"
   ]
  },
  {
   "cell_type": "code",
   "execution_count": 6,
   "metadata": {},
   "outputs": [],
   "source": [
    "model = (\n",
    "    ALS(\n",
    "        userCol=\"userId\",\n",
    "        itemCol=\"movieId\",\n",
    "        ratingCol=\"rating\",\n",
    "    ).fit(ratings)\n",
    ")"
   ]
  },
  {
   "cell_type": "code",
   "execution_count": 7,
   "metadata": {},
   "outputs": [
    {
     "name": "stdout",
     "output_type": "stream",
     "text": [
      "+------+-------+------+----------+\n",
      "|userId|movieId|rating|prediction|\n",
      "+------+-------+------+----------+\n",
      "|191   |148    |5.0   |4.9248567 |\n",
      "|133   |471    |4.0   |3.2572494 |\n",
      "|597   |471    |2.0   |3.6570044 |\n",
      "|385   |471    |4.0   |3.4311826 |\n",
      "|436   |471    |3.0   |3.31421   |\n",
      "|602   |471    |4.0   |3.5073528 |\n",
      "|91    |471    |1.0   |2.467201  |\n",
      "|409   |471    |3.0   |3.706752  |\n",
      "|372   |471    |3.0   |3.2248528 |\n",
      "|599   |471    |2.5   |2.973057  |\n",
      "+------+-------+------+----------+\n",
      "only showing top 10 rows\n",
      "\n"
     ]
    }
   ],
   "source": [
    "predictions = model.transform(ratings)\n",
    "predictions.show(10, False)"
   ]
  },
  {
   "cell_type": "code",
   "execution_count": 8,
   "metadata": {},
   "outputs": [
    {
     "name": "stdout",
     "output_type": "stream",
     "text": [
      "+---+----------------------------------------------------------------------------------------------------------------------------+\n",
      "|id |features                                                                                                                    |\n",
      "+---+----------------------------------------------------------------------------------------------------------------------------+\n",
      "|10 |[-0.69687176, -0.6618054, 0.38519007, 0.4278401, -0.09611353, 1.4546747, 0.64653957, -0.14659446, 0.7070822, 0.58935237]    |\n",
      "|20 |[-0.48073864, 0.06653299, 0.13992442, 0.28669077, 0.0070511946, 1.2487173, 1.2842805, 0.59803575, 0.0060777753, -0.83264667]|\n",
      "|30 |[0.020974442, -0.47584122, -0.3984823, 0.23272066, 0.0872139, 1.4422855, 0.83542436, 0.90527105, 0.52816486, -0.48924994]   |\n",
      "|40 |[-0.96753615, -0.671791, -0.24671002, 0.09230446, 0.41576803, 0.9055569, 0.940425, 0.9956637, -0.29421473, -0.45743206]     |\n",
      "|50 |[-0.5733293, -0.03722297, 0.10560249, 0.14409132, 0.6271811, 0.59021753, 0.44194335, 0.6083371, -0.13719805, -0.7740308]    |\n",
      "+---+----------------------------------------------------------------------------------------------------------------------------+\n",
      "only showing top 5 rows\n",
      "\n"
     ]
    }
   ],
   "source": [
    "model.userFactors.show(5, truncate=False)"
   ]
  },
  {
   "cell_type": "code",
   "execution_count": 9,
   "metadata": {},
   "outputs": [
    {
     "name": "stdout",
     "output_type": "stream",
     "text": [
      "+---+--------------------------------------------------------------------------------------------------------------------------+\n",
      "|id |features                                                                                                                  |\n",
      "+---+--------------------------------------------------------------------------------------------------------------------------+\n",
      "|10 |[-0.48427957, -0.4518795, -0.6895879, 0.07755869, 0.058386512, 1.4977772, 0.59792244, 0.83899456, 0.3995762, -0.26254237] |\n",
      "|20 |[-0.5258346, -0.3530948, -0.26316857, -0.34943056, 0.09309245, 1.526627, 0.14786619, -0.08517679, 0.27492762, -0.71944493]|\n",
      "|30 |[-0.6527545, 0.1622217, 1.1696619, -0.2798836, 1.1958413, 0.5888025, 0.26203138, 0.9677523, -0.3373769, -0.617144]        |\n",
      "|40 |[-0.4743504, -0.53137994, -0.071397506, -0.5132354, 0.41302308, 1.3406467, 0.31028253, 1.1619114, 0.78377295, 0.41432565] |\n",
      "|50 |[-0.6279297, -0.50679433, -0.021975808, 0.20652792, 0.53963834, 1.6165197, 0.60580397, 1.159881, 0.15187134, -0.94662005] |\n",
      "+---+--------------------------------------------------------------------------------------------------------------------------+\n",
      "only showing top 5 rows\n",
      "\n"
     ]
    }
   ],
   "source": [
    "model.itemFactors.show(5, truncate=False)"
   ]
  },
  {
   "cell_type": "code",
   "execution_count": null,
   "metadata": {},
   "outputs": [],
   "source": []
  }
 ],
 "metadata": {
  "kernelspec": {
   "display_name": "Python 3",
   "language": "python",
   "name": "python3"
  },
  "language_info": {
   "codemirror_mode": {
    "name": "ipython",
    "version": 3
   },
   "file_extension": ".py",
   "mimetype": "text/x-python",
   "name": "python",
   "nbconvert_exporter": "python",
   "pygments_lexer": "ipython3",
   "version": "3.7.6"
  }
 },
 "nbformat": 4,
 "nbformat_minor": 4
}
