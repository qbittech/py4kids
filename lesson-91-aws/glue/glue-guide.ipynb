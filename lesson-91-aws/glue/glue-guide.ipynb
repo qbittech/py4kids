{
 "cells": [
  {
   "cell_type": "markdown",
   "metadata": {},
   "source": [
    "### [A Practical Guide to AWS Glue](https://www.synerzip.com/blog/a-practical-guide-to-aws-glue/)"
   ]
  },
  {
   "cell_type": "markdown",
   "metadata": {},
   "source": [
    "- IAM role\n",
    "    - name = AWSGlueServiceRole-Test\n",
    "    \n",
    "- S3 bucket\n",
    "    - name = S3://wengong-redshift/\n",
    "    - [sample data](https://docs.aws.amazon.com/redshift/latest/gsg/rs-gsg-create-sample-db.html)\n",
    "    - https://aws.amazon.com/blogs/big-data/10-visualizations-to-try-in-amazon-quicksight-with-sample-data/\n",
    "    \n",
    "- Redshift\n",
    "    - cluster = redshift-cluster-1\n",
    "    - jdbc URL = jdbc:redshift://redshift-cluster-1.cow7whvwiphh.us-east-1.redshift.amazonaws.com:5439/dev\n",
    "    - user (see projects/AWS-cert/Data-Analytics/redshift.README.md)\n",
    "    \n",
    "- Glue\n",
    "    - create connection to Redshift db\n",
    "    - name = redshiftc1db\n",
    "    \n",
    "    - crawler\n",
    "        - make sure to specify the folder name, otherwise table created has 0 row\n",
    "        https://stackoverflow.com/questions/47266924/aws-athena-returning-zero-records-from-tables-created-from-glue-crawler-input-cs\n",
    "        \n",
    "- Athena\n",
    "    - run query\n"
   ]
  },
  {
   "cell_type": "markdown",
   "metadata": {},
   "source": [
    "### Refs\n",
    "\n",
    "- [Program AWS Glue ETL Scripts in Python](https://docs.aws.amazon.com/glue/latest/dg/aws-glue-programming-python.html)\n",
    "- [AWS Glue Samples](https://github.com/aws-samples/aws-glue-samples)\n",
    "- Tutorials\n",
    "    - [Guide to AWS Glue](https://www.synerzip.com/blog/a-practical-guide-to-aws-glue/)\n",
    "    - [Glue with pyspark](https://data.solita.fi/aws-glue-tutorial-with-spark-and-python-for-data-developers/)\n"
   ]
  },
  {
   "cell_type": "code",
   "execution_count": null,
   "metadata": {},
   "outputs": [],
   "source": []
  }
 ],
 "metadata": {
  "kernelspec": {
   "display_name": "Python 3",
   "language": "python",
   "name": "python3"
  },
  "language_info": {
   "codemirror_mode": {
    "name": "ipython",
    "version": 3
   },
   "file_extension": ".py",
   "mimetype": "text/x-python",
   "name": "python",
   "nbconvert_exporter": "python",
   "pygments_lexer": "ipython3",
   "version": "3.7.6"
  }
 },
 "nbformat": 4,
 "nbformat_minor": 4
}
