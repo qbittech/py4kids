{
 "cells": [
  {
   "cell_type": "code",
   "execution_count": 11,
   "metadata": {},
   "outputs": [],
   "source": [
    "import gensim"
   ]
  },
  {
   "cell_type": "code",
   "execution_count": 2,
   "metadata": {},
   "outputs": [
    {
     "name": "stderr",
     "output_type": "stream",
     "text": [
      "[nltk_data] Downloading package punkt to /home/devopsgong/nltk_data...\n",
      "[nltk_data]   Unzipping tokenizers/punkt.zip.\n"
     ]
    },
    {
     "data": {
      "text/plain": [
       "True"
      ]
     },
     "execution_count": 2,
     "metadata": {},
     "output_type": "execute_result"
    }
   ],
   "source": [
    "import nltk\n",
    "nltk.download('punkt')"
   ]
  },
  {
   "cell_type": "code",
   "execution_count": null,
   "metadata": {},
   "outputs": [],
   "source": [
    "from nltk.tokenize import word_tokenize"
   ]
  },
  {
   "cell_type": "code",
   "execution_count": 3,
   "metadata": {},
   "outputs": [
    {
     "name": "stdout",
     "output_type": "stream",
     "text": [
      "['Mars', 'is', 'approximately', 'half', 'the', 'diameter', 'of', 'Earth', '.']\n"
     ]
    }
   ],
   "source": [
    "data = \"Mars is approximately half the diameter of Earth.\"\n",
    "print(word_tokenize(data))"
   ]
  },
  {
   "cell_type": "code",
   "execution_count": 4,
   "metadata": {},
   "outputs": [
    {
     "name": "stdout",
     "output_type": "stream",
     "text": [
      "['Mars is a cold desert world.', 'It is half the size of Earth.']\n"
     ]
    }
   ],
   "source": [
    "from nltk.tokenize import sent_tokenize\n",
    "\n",
    "data = \"Mars is a cold desert world. It is half the size of Earth. \"\n",
    "print(sent_tokenize(data))"
   ]
  },
  {
   "cell_type": "code",
   "execution_count": 5,
   "metadata": {},
   "outputs": [
    {
     "name": "stdout",
     "output_type": "stream",
     "text": [
      "compare-texts.ipynb  transcribed.txt\t\t   us-constitution-preamble.txt\r\n",
      "readme.txt\t     us-constitution-preamble.mp3\r\n"
     ]
    }
   ],
   "source": [
    "!ls"
   ]
  },
  {
   "cell_type": "code",
   "execution_count": 6,
   "metadata": {},
   "outputs": [
    {
     "name": "stdout",
     "output_type": "stream",
     "text": [
      "Number of documents: 1\n"
     ]
    }
   ],
   "source": [
    "file_docs = []\n",
    "\n",
    "orig_text = \"us-constitution-preamble.txt\"\n",
    "with open (orig_text) as f:\n",
    "    tokens = sent_tokenize(f.read())\n",
    "    for line in tokens:\n",
    "        file_docs.append(line)\n",
    "\n",
    "print(\"Number of documents:\",len(file_docs))"
   ]
  },
  {
   "cell_type": "code",
   "execution_count": 7,
   "metadata": {},
   "outputs": [
    {
     "data": {
      "text/plain": [
       "['We the People of the United States, in Order to form a more perfect Union, establish Justice, insure domestic Tranquility, provide for the common defense, promote the general Welfare, and secure the Blessings of Liberty to ourselves and our Posterity, do ordain and establish this Constitution for the United States of America.']"
      ]
     },
     "execution_count": 7,
     "metadata": {},
     "output_type": "execute_result"
    }
   ],
   "source": [
    "file_docs"
   ]
  },
  {
   "cell_type": "code",
   "execution_count": 8,
   "metadata": {},
   "outputs": [],
   "source": [
    "gen_docs = [[w.lower() for w in word_tokenize(text)] \n",
    "            for text in file_docs]"
   ]
  },
  {
   "cell_type": "code",
   "execution_count": 9,
   "metadata": {},
   "outputs": [
    {
     "data": {
      "text/plain": [
       "[['we',\n",
       "  'the',\n",
       "  'people',\n",
       "  'of',\n",
       "  'the',\n",
       "  'united',\n",
       "  'states',\n",
       "  ',',\n",
       "  'in',\n",
       "  'order',\n",
       "  'to',\n",
       "  'form',\n",
       "  'a',\n",
       "  'more',\n",
       "  'perfect',\n",
       "  'union',\n",
       "  ',',\n",
       "  'establish',\n",
       "  'justice',\n",
       "  ',',\n",
       "  'insure',\n",
       "  'domestic',\n",
       "  'tranquility',\n",
       "  ',',\n",
       "  'provide',\n",
       "  'for',\n",
       "  'the',\n",
       "  'common',\n",
       "  'defense',\n",
       "  ',',\n",
       "  'promote',\n",
       "  'the',\n",
       "  'general',\n",
       "  'welfare',\n",
       "  ',',\n",
       "  'and',\n",
       "  'secure',\n",
       "  'the',\n",
       "  'blessings',\n",
       "  'of',\n",
       "  'liberty',\n",
       "  'to',\n",
       "  'ourselves',\n",
       "  'and',\n",
       "  'our',\n",
       "  'posterity',\n",
       "  ',',\n",
       "  'do',\n",
       "  'ordain',\n",
       "  'and',\n",
       "  'establish',\n",
       "  'this',\n",
       "  'constitution',\n",
       "  'for',\n",
       "  'the',\n",
       "  'united',\n",
       "  'states',\n",
       "  'of',\n",
       "  'america',\n",
       "  '.']]"
      ]
     },
     "execution_count": 9,
     "metadata": {},
     "output_type": "execute_result"
    }
   ],
   "source": [
    "gen_docs"
   ]
  },
  {
   "cell_type": "code",
   "execution_count": 12,
   "metadata": {},
   "outputs": [
    {
     "name": "stdout",
     "output_type": "stream",
     "text": [
      "{',': 0, '.': 1, 'a': 2, 'america': 3, 'and': 4, 'blessings': 5, 'common': 6, 'constitution': 7, 'defense': 8, 'do': 9, 'domestic': 10, 'establish': 11, 'for': 12, 'form': 13, 'general': 14, 'in': 15, 'insure': 16, 'justice': 17, 'liberty': 18, 'more': 19, 'of': 20, 'ordain': 21, 'order': 22, 'our': 23, 'ourselves': 24, 'people': 25, 'perfect': 26, 'posterity': 27, 'promote': 28, 'provide': 29, 'secure': 30, 'states': 31, 'the': 32, 'this': 33, 'to': 34, 'tranquility': 35, 'union': 36, 'united': 37, 'we': 38, 'welfare': 39}\n"
     ]
    }
   ],
   "source": [
    "dictionary = gensim.corpora.Dictionary(gen_docs)\n",
    "print(dictionary.token2id)"
   ]
  },
  {
   "cell_type": "code",
   "execution_count": 13,
   "metadata": {},
   "outputs": [],
   "source": [
    "corpus = [dictionary.doc2bow(gen_doc) for gen_doc in gen_docs]"
   ]
  },
  {
   "cell_type": "code",
   "execution_count": 14,
   "metadata": {},
   "outputs": [
    {
     "data": {
      "text/plain": [
       "[[(0, 7),\n",
       "  (1, 1),\n",
       "  (2, 1),\n",
       "  (3, 1),\n",
       "  (4, 3),\n",
       "  (5, 1),\n",
       "  (6, 1),\n",
       "  (7, 1),\n",
       "  (8, 1),\n",
       "  (9, 1),\n",
       "  (10, 1),\n",
       "  (11, 2),\n",
       "  (12, 2),\n",
       "  (13, 1),\n",
       "  (14, 1),\n",
       "  (15, 1),\n",
       "  (16, 1),\n",
       "  (17, 1),\n",
       "  (18, 1),\n",
       "  (19, 1),\n",
       "  (20, 3),\n",
       "  (21, 1),\n",
       "  (22, 1),\n",
       "  (23, 1),\n",
       "  (24, 1),\n",
       "  (25, 1),\n",
       "  (26, 1),\n",
       "  (27, 1),\n",
       "  (28, 1),\n",
       "  (29, 1),\n",
       "  (30, 1),\n",
       "  (31, 2),\n",
       "  (32, 6),\n",
       "  (33, 1),\n",
       "  (34, 2),\n",
       "  (35, 1),\n",
       "  (36, 1),\n",
       "  (37, 2),\n",
       "  (38, 1),\n",
       "  (39, 1)]]"
      ]
     },
     "execution_count": 14,
     "metadata": {},
     "output_type": "execute_result"
    }
   ],
   "source": [
    "corpus"
   ]
  },
  {
   "cell_type": "code",
   "execution_count": 19,
   "metadata": {},
   "outputs": [],
   "source": [
    "import numpy as np"
   ]
  },
  {
   "cell_type": "code",
   "execution_count": 24,
   "metadata": {},
   "outputs": [
    {
     "name": "stdout",
     "output_type": "stream",
     "text": [
      "[]\n"
     ]
    }
   ],
   "source": [
    "tf_idf = gensim.models.TfidfModel(corpus)\n",
    "for doc in tf_idf[corpus]:\n",
    "    print([[dictionary[id], np.around(freq, decimals=2)] for id, freq in doc])"
   ]
  },
  {
   "cell_type": "code",
   "execution_count": 21,
   "metadata": {},
   "outputs": [
    {
     "data": {
      "text/plain": [
       "<gensim.corpora.dictionary.Dictionary at 0x7f317c862ef0>"
      ]
     },
     "execution_count": 21,
     "metadata": {},
     "output_type": "execute_result"
    }
   ],
   "source": [
    "dictionary"
   ]
  },
  {
   "cell_type": "code",
   "execution_count": 23,
   "metadata": {},
   "outputs": [
    {
     "name": "stdout",
     "output_type": "stream",
     "text": [
      "0 ,\n",
      "1 .\n",
      "2 a\n",
      "3 america\n",
      "4 and\n",
      "5 blessings\n",
      "6 common\n",
      "7 constitution\n",
      "8 defense\n",
      "9 do\n",
      "10 domestic\n",
      "11 establish\n",
      "12 for\n",
      "13 form\n",
      "14 general\n",
      "15 in\n",
      "16 insure\n",
      "17 justice\n",
      "18 liberty\n",
      "19 more\n",
      "20 of\n",
      "21 ordain\n",
      "22 order\n",
      "23 our\n",
      "24 ourselves\n",
      "25 people\n",
      "26 perfect\n",
      "27 posterity\n",
      "28 promote\n",
      "29 provide\n",
      "30 secure\n",
      "31 states\n",
      "32 the\n",
      "33 this\n",
      "34 to\n",
      "35 tranquility\n",
      "36 union\n",
      "37 united\n",
      "38 we\n",
      "39 welfare\n"
     ]
    }
   ],
   "source": [
    "for k,v in dictionary.items():\n",
    "    print(k,v)"
   ]
  },
  {
   "cell_type": "code",
   "execution_count": null,
   "metadata": {},
   "outputs": [],
   "source": []
  }
 ],
 "metadata": {
  "kernelspec": {
   "display_name": "Python 3",
   "language": "python",
   "name": "python3"
  },
  "language_info": {
   "codemirror_mode": {
    "name": "ipython",
    "version": 3
   },
   "file_extension": ".py",
   "mimetype": "text/x-python",
   "name": "python",
   "nbconvert_exporter": "python",
   "pygments_lexer": "ipython3",
   "version": "3.7.1"
  }
 },
 "nbformat": 4,
 "nbformat_minor": 2
}
