{
 "cells": [
  {
   "cell_type": "code",
   "execution_count": 12,
   "metadata": {},
   "outputs": [],
   "source": [
    "import sys"
   ]
  },
  {
   "cell_type": "code",
   "execution_count": 4,
   "metadata": {},
   "outputs": [],
   "source": [
    "import string\n",
    "from sklearn.metrics.pairwise import cosine_similarity\n",
    "from sklearn.feature_extraction.text import CountVectorizer\n",
    "# CountVectorizer will take care of converting strings to numerical vectors\n",
    "from nltk.corpus import stopwords\n",
    "\n",
    "stopwords_en = stopwords.words('english')\n",
    "\n",
    "def clean_string(text):\n",
    "    text = ''.join([ch for ch in text if ch not in string.punctuation])\n",
    "    text = text.lower()\n",
    "    text = ' '.join([w for w in text.split() if w not in stopwords_en])\n",
    "    return text"
   ]
  },
  {
   "cell_type": "code",
   "execution_count": 5,
   "metadata": {},
   "outputs": [],
   "source": [
    "def cosim_strings(s1, s2):\n",
    "    sentences = [s1, s2]\n",
    "    cleaned = list(map(clean_string, sentences))\n",
    "    vectorizer = CountVectorizer().fit_transform(cleaned)\n",
    "    vectors = vectorizer.toarray()\n",
    "    \n",
    "    vec1 = vectors[0].reshape(1,-1)\n",
    "    vec2 = vectors[1].reshape(1,-1)\n",
    "    return cosine_similarity(vec1, vec2)[0][0]"
   ]
  },
  {
   "cell_type": "raw",
   "metadata": {},
   "source": [
    "s1 = 'foo bar sentence'\n",
    "s2 = 'another string similar previous sent'\n",
    "cosim_strings(s1, s2)"
   ]
  },
  {
   "cell_type": "code",
   "execution_count": 13,
   "metadata": {},
   "outputs": [
    {
     "name": "stdout",
     "output_type": "stream",
     "text": [
      "0.0\n"
     ]
    }
   ],
   "source": [
    "if __name__ == \"__main__\":\n",
    "    if len(sys.argv) > 2:\n",
    "        f1, f2 = sys.argv[1], sys.argv[2]\n",
    "        with open(f1) as f:\n",
    "            s1 = f.read()\n",
    "        with open(f2) as f:\n",
    "            s2 = f.read()\n",
    "        print(cosim_strings(s1, s2))\n",
    "        sys.exit(0)\n",
    "    else:\n",
    "        print(f\"python {__file__} f1.txt f2.txt\")\n",
    "        sys.exit(1)\n"
   ]
  },
  {
   "cell_type": "code",
   "execution_count": null,
   "metadata": {},
   "outputs": [],
   "source": []
  }
 ],
 "metadata": {
  "kernelspec": {
   "display_name": "Python 3",
   "language": "python",
   "name": "python3"
  },
  "language_info": {
   "codemirror_mode": {
    "name": "ipython",
    "version": 3
   },
   "file_extension": ".py",
   "mimetype": "text/x-python",
   "name": "python",
   "nbconvert_exporter": "python",
   "pygments_lexer": "ipython3",
   "version": "3.7.1"
  }
 },
 "nbformat": 4,
 "nbformat_minor": 2
}
